{
 "cells": [
  {
   "cell_type": "markdown",
   "id": "1f6f043b",
   "metadata": {},
   "source": [
    "# Chapter 2 Exercises\n",
    "\n"
   ]
  },
  {
   "cell_type": "markdown",
   "id": "433e53c9",
   "metadata": {},
   "source": [
    "## Algorithm Workbench - Number 12\n",
    "\n",
    "This is just place holder words so I understand what should be where."
   ]
  },
  {
   "cell_type": "code",
   "execution_count": null,
   "id": "d9a2fe62",
   "metadata": {},
   "outputs": [],
   "source": [
    "print('George', 'John', 'Paul', 'Ringo', sep='@')"
   ]
  }
 ],
 "metadata": {
  "kernelspec": {
   "display_name": "Python 3 (ipykernel)",
   "language": "python",
   "name": "python3"
  },
  "language_info": {
   "codemirror_mode": {
    "name": "ipython",
    "version": 3
   },
   "file_extension": ".py",
   "mimetype": "text/x-python",
   "name": "python",
   "nbconvert_exporter": "python",
   "pygments_lexer": "ipython3",
   "version": "3.11.4"
  }
 },
 "nbformat": 4,
 "nbformat_minor": 5
}
