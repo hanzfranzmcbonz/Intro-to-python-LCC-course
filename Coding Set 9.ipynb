{
 "cells": [
  {
   "cell_type": "code",
   "execution_count": 1,
   "id": "3c265e02",
   "metadata": {},
   "outputs": [
    {
     "name": "stdout",
     "output_type": "stream",
     "text": [
      "Please enter your course number: CS101\n"
     ]
    },
    {
     "ename": "NameError",
     "evalue": "name 'roomNum' is not defined",
     "output_type": "error",
     "traceback": [
      "\u001b[0;31m---------------------------------------------------------------------------\u001b[0m",
      "\u001b[0;31mNameError\u001b[0m                                 Traceback (most recent call last)",
      "Cell \u001b[0;32mIn[1], line 10\u001b[0m\n\u001b[1;32m      7\u001b[0m     teachers_name \u001b[38;5;241m=\u001b[39m teachersName[user_input]\n\u001b[1;32m      8\u001b[0m     class_time \u001b[38;5;241m=\u001b[39m classTime[user_imput]\n\u001b[0;32m---> 10\u001b[0m main()\n",
      "Cell \u001b[0;32mIn[1], line 6\u001b[0m, in \u001b[0;36mmain\u001b[0;34m()\u001b[0m\n\u001b[1;32m      5\u001b[0m \u001b[38;5;28;01mdef\u001b[39;00m \u001b[38;5;21mmain\u001b[39m():\n\u001b[0;32m----> 6\u001b[0m     room_number \u001b[38;5;241m=\u001b[39m roomNum[user_input]\n\u001b[1;32m      7\u001b[0m     teachers_name \u001b[38;5;241m=\u001b[39m teachersName[user_input]\n\u001b[1;32m      8\u001b[0m     class_time \u001b[38;5;241m=\u001b[39m classTime[user_imput]\n",
      "\u001b[0;31mNameError\u001b[0m: name 'roomNum' is not defined"
     ]
    }
   ],
   "source": [
    "import classdict\n",
    "\n",
    "user_input = input(\"Please enter your course number: \")\n",
    "\n",
    "def main():\n",
    "    room_number = roomNum[user_input]\n",
    "    teachers_name = teachersName[user_input]\n",
    "    class_time = classTime[user_imput]\n",
    "    \n",
    "main()"
   ]
  },
  {
   "cell_type": "code",
   "execution_count": null,
   "id": "c50b1a7b",
   "metadata": {},
   "outputs": [],
   "source": []
  }
 ],
 "metadata": {
  "kernelspec": {
   "display_name": "Python 3 (ipykernel)",
   "language": "python",
   "name": "python3"
  },
  "language_info": {
   "codemirror_mode": {
    "name": "ipython",
    "version": 3
   },
   "file_extension": ".py",
   "mimetype": "text/x-python",
   "name": "python",
   "nbconvert_exporter": "python",
   "pygments_lexer": "ipython3",
   "version": "3.11.4"
  }
 },
 "nbformat": 4,
 "nbformat_minor": 5
}
