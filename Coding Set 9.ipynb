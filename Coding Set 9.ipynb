{
 "cells": [
  {
   "cell_type": "code",
   "execution_count": 10,
   "id": "3cfe756c",
   "metadata": {},
   "outputs": [
    {
     "name": "stdout",
     "output_type": "stream",
     "text": [
      "Please enter your course number: NT110\n",
      "Room Number: 1244\n",
      "Professor: Burke\n",
      "Meeting Time: 11:00 AM\n"
     ]
    }
   ],
   "source": [
    "import classdict\n",
    "\n",
    "user_input = input(\"Please enter your course number: \")\n",
    "\n",
    "def main():\n",
    "    if user_input in classdict.roomNum:\n",
    "        room_number = classdict.roomNum[user_input]\n",
    "        teachers_name = classdict.teacherName[user_input]\n",
    "        class_time = classdict.classTime[user_input]\n",
    "        \n",
    "        print(f'Room Number: {room_number}')\n",
    "        print(f'Professor: {teachers_name}')\n",
    "        print(f'Meeting Time: {class_time}')\n",
    "    else:\n",
    "        print('That course does not exsist.')\n",
    "    \n",
    "main()"
   ]
  },
  {
   "cell_type": "code",
   "execution_count": null,
   "id": "360d01b1",
   "metadata": {},
   "outputs": [],
   "source": []
  }
 ],
 "metadata": {
  "kernelspec": {
   "display_name": "Python 3 (ipykernel)",
   "language": "python",
   "name": "python3"
  },
  "language_info": {
   "codemirror_mode": {
    "name": "ipython",
    "version": 3
   },
   "file_extension": ".py",
   "mimetype": "text/x-python",
   "name": "python",
   "nbconvert_exporter": "python",
   "pygments_lexer": "ipython3",
   "version": "3.11.4"
  }
 },
 "nbformat": 4,
 "nbformat_minor": 5
}
