{
 "cells": [
  {
   "cell_type": "code",
   "execution_count": 7,
   "id": "c097ec54",
   "metadata": {},
   "outputs": [
    {
     "name": "stdout",
     "output_type": "stream",
     "text": [
      "Please enter your course number: CS101\n",
      "3004\n",
      "Haynes\n",
      "8:00 AM\n"
     ]
    }
   ],
   "source": [
    "import classdict\n",
    "\n",
    "user_input = input(\"Please enter your course number: \")\n",
    "\n",
    "def main():\n",
    "    if user_input in classdict.roomNum:\n",
    "        room_number = classdict.roomNum[user_input]\n",
    "        teachers_name = classdict.teacherName[user_input]\n",
    "        class_time = classdict.classTime[user_input]\n",
    "        \n",
    "        print(f'{room_number}')\n",
    "        print(f'{teachers_name}')\n",
    "        print(f'{class_time}')\n",
    "    \n",
    "main()"
   ]
  },
  {
   "cell_type": "code",
   "execution_count": null,
   "id": "b951c74b",
   "metadata": {},
   "outputs": [],
   "source": []
  }
 ],
 "metadata": {
  "kernelspec": {
   "display_name": "Python 3 (ipykernel)",
   "language": "python",
   "name": "python3"
  },
  "language_info": {
   "codemirror_mode": {
    "name": "ipython",
    "version": 3
   },
   "file_extension": ".py",
   "mimetype": "text/x-python",
   "name": "python",
   "nbconvert_exporter": "python",
   "pygments_lexer": "ipython3",
   "version": "3.11.4"
  }
 },
 "nbformat": 4,
 "nbformat_minor": 5
}
