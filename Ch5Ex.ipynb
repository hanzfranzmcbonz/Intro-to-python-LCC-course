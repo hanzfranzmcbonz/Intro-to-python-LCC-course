{
 "cells": [
  {
   "cell_type": "markdown",
   "id": "3e19efe6",
   "metadata": {},
   "source": [
    "# Chapter 5 Exercises "
   ]
  },
  {
   "cell_type": "markdown",
   "id": "98fcc710",
   "metadata": {},
   "source": [
    "## Algorithm Workbench"
   ]
  },
  {
   "cell_type": "markdown",
   "id": "043817ba",
   "metadata": {},
   "source": [
    "## Question 1: Write a function named times_ten. The function should accept an argument and display the product of its argument multiplied times 10. "
   ]
  },
  {
   "cell_type": "markdown",
   "id": "e83aa8af",
   "metadata": {},
   "source": [
    "Initial Thoughts: Im still not completly understanding Functions yet. However this question does not seem to difficult. It will require a def fuction named times_ten with an arguement of a number. Then a statement multiplying the input times ten. I think then it wants a print statement so we will do that too."
   ]
  },
  {
   "cell_type": "code",
   "execution_count": 6,
   "id": "88589b51",
   "metadata": {},
   "outputs": [
    {
     "name": "stdout",
     "output_type": "stream",
     "text": [
      "50\n"
     ]
    }
   ],
   "source": [
    "#function to times a number by ten\n",
    "def times_ten(number):\n",
    "    #Mutiplys the number by 10\n",
    "    return number*10 \n",
    "# Uses ChatGPT to assist in determining the argument for times_ten function\n",
    "# Note: Currently using the number 5 as an example, can be adjusted as needed\n",
    "result = times_ten(5)\n",
    "#prints the result of the times_ten function\n",
    "print(result)"
   ]
  },
  {
   "cell_type": "markdown",
   "id": "cd00157c",
   "metadata": {},
   "source": [
    "## Question 10: Write a function named get_first_name that asks the user to enter his or her first name, and returns it."
   ]
  },
  {
   "cell_type": "markdown",
   "id": "a8c0149a",
   "metadata": {},
   "source": [
    "Initial Thoughts: After the first question I have more understanding of funtions thanks to chatgpt. This question will need a def function named get_first_name with the atribute of name. Im not sure where to put the input for the name but Ill work that out. Then It will finish with a print statment that prints the name, probabally with a greeting as well. "
   ]
  },
  {
   "cell_type": "code",
   "execution_count": 12,
   "id": "a4cd397c",
   "metadata": {},
   "outputs": [
    {
     "name": "stdout",
     "output_type": "stream",
     "text": [
      "Enter your first name: bruh\n",
      "Heres your first name: bruh\n"
     ]
    }
   ],
   "source": [
    "#function to get the users first name\n",
    "def get_first_name():\n",
    "    #Receives user input for their first name\n",
    "    #sets the input from user to the variable user_input\n",
    "    user_input = input(\"Enter your first name: \")\n",
    "    #returns user_input\n",
    "    return user_input\n",
    "#sets the function to the variable first name\n",
    "first_name = get_first_name()\n",
    "#prints the users first name with an added text\n",
    "print (\"Heres your first name:\", first_name)"
   ]
  },
  {
   "cell_type": "markdown",
   "id": "d61bc7ce",
   "metadata": {},
   "source": [
    "## Programing Exercises"
   ]
  },
  {
   "cell_type": "markdown",
   "id": "8db64db0",
   "metadata": {},
   "source": [
    "## Question 1: Kilometer Converter\n",
    "## Write a program that asks the user to enter a distance in kilometers, then converts that distance to miles. The conversion formula is as follows:\n",
    "\n",
    "## Miles = Kilometers x 0.6214"
   ]
  },
  {
   "cell_type": "markdown",
   "id": "f0178e4a",
   "metadata": {},
   "source": [
    "Initial Thoughts: My initial assment from earlier that I have an understanding of this might have been an overstatment. For this question Im going to atempt to fit this whole question within a function, but Im not sure on the rules of functions yet."
   ]
  },
  {
   "cell_type": "code",
   "execution_count": 16,
   "id": "e92ec94d",
   "metadata": {},
   "outputs": [
    {
     "name": "stdout",
     "output_type": "stream",
     "text": [
      "How far in Kilometers: 405\n",
      "Heres the distance in Miles:  251.66699999999997\n"
     ]
    }
   ],
   "source": [
    "#function to convert kilometers into miles\n",
    "def kilometer_converter():\n",
    "    #user input of distance in kilometers\n",
    "    kilometers = float(input(\"How far in Kilometers: \"))\n",
    "    \n",
    "    #equation to convert the user input \n",
    "    miles = kilometers * 0.6214\n",
    "    return miles\n",
    "\n",
    "# Call the kilometer_converter function and store the result\n",
    "converted_distance = kilometer_converter()\n",
    "\n",
    "#prints the result of the convertion function\n",
    "print(\"Heres the distance in Miles: \", converted_distance)"
   ]
  },
  {
   "cell_type": "markdown",
   "id": "62a2d725",
   "metadata": {},
   "source": [
    "## Question 17: Prime Numbers\n",
    "\n",
    "## A prime number is a number that is only evenly divisible by itself and 1. For example, the number 5 is prime because it can only be evenly divided by 1 and 5. The number 6, however, is not prime because it can be divided evenly by 1, 2, 3, and 6.\n",
    "\n",
    "## Write a Boolean function named is_prime which takes an integer as an argument and returns true if the argument is a prime number, or false otherwise. Use the function in a program that prompts the user to enter a number then displays a message indicating whether the number is prime."
   ]
  },
  {
   "cell_type": "markdown",
   "id": "34bbb41a",
   "metadata": {},
   "source": [
    "Initial Thoughts: I will need a function entittled is_prime with a set of statments that determine if its prime. Im thinking I will I will do something along the lines of disvisible by one and its self only. But How do I check for everyother number in exsistence as well. Further reasearch is required."
   ]
  },
  {
   "cell_type": "code",
   "execution_count": 26,
   "id": "5a6f54cf",
   "metadata": {},
   "outputs": [
    {
     "name": "stdout",
     "output_type": "stream",
     "text": [
      "Please input a number: 67\n",
      "True\n"
     ]
    }
   ],
   "source": [
    "#imports math module\n",
    "import math\n",
    "\n",
    "#Recieves user string imput and changes it to int\n",
    "#sets int user input to the variable number\n",
    "number = int(input(\"Please input a number: \"))\n",
    "\n",
    "#defines the function its prime with the parameter number\n",
    "def is_prime(number):\n",
    "    #checks if number is less than 2, all numbers less than 2 are not prime\n",
    "    if number < 2:\n",
    "        return False\n",
    "    #checks if the number is 2, which is prime\n",
    "    elif number == 2:\n",
    "        return True\n",
    "    #checks if the number is divisible by 2, prime numbers are not\n",
    "    elif number % 2 == 0:\n",
    "        return False \n",
    "    else:\n",
    "        #loop for that checks if the number is divisible by every number from 3 to the square root of the number\n",
    "        for i in range(3, int(math.sqrt(number))+1, 2):\n",
    "            if number % i == 0:\n",
    "                return False\n",
    "        return True\n",
    "#sets the true or false statement from is prime to the variable results\n",
    "result = is_prime(number)\n",
    "\n",
    "#prints the true or false statement\n",
    "print(result)"
   ]
  },
  {
   "cell_type": "code",
   "execution_count": null,
   "id": "c5d32484",
   "metadata": {},
   "outputs": [],
   "source": []
  }
 ],
 "metadata": {
  "kernelspec": {
   "display_name": "Python 3 (ipykernel)",
   "language": "python",
   "name": "python3"
  },
  "language_info": {
   "codemirror_mode": {
    "name": "ipython",
    "version": 3
   },
   "file_extension": ".py",
   "mimetype": "text/x-python",
   "name": "python",
   "nbconvert_exporter": "python",
   "pygments_lexer": "ipython3",
   "version": "3.11.4"
  }
 },
 "nbformat": 4,
 "nbformat_minor": 5
}
