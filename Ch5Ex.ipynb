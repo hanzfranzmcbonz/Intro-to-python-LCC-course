{
 "cells": [
  {
   "cell_type": "markdown",
   "id": "1385c03c",
   "metadata": {},
   "source": [
    "# Chapter 5 Exercises "
   ]
  },
  {
   "cell_type": "markdown",
   "id": "98fcc710",
   "metadata": {},
   "source": [
    "## Algorithm Workbench"
   ]
  },
  {
   "cell_type": "markdown",
   "id": "81899a99",
   "metadata": {},
   "source": [
    "## Question 1: Write a function named times_ten. The function should accept an argument and display the product of its argument multiplied times 10. "
   ]
  },
  {
   "cell_type": "markdown",
   "id": "00ca7c4a",
   "metadata": {},
   "source": [
    "Initial Thoughts: Im still not completly understanding Functions yet. However this question does not seem to difficult. It will require a def fuction named times_ten with an arguement of a number. Then a statement multiplying the input times ten. I think then it wants a print statement so we will do that too."
   ]
  },
  {
   "cell_type": "code",
   "execution_count": 6,
   "id": "83641803",
   "metadata": {},
   "outputs": [
    {
     "name": "stdout",
     "output_type": "stream",
     "text": [
      "50\n"
     ]
    }
   ],
   "source": [
    "#function to times a number by ten\n",
    "def times_ten(number):\n",
    "    #Mutiplys the number by 10\n",
    "    return number*10 \n",
    "# Uses ChatGPT to assist in determining the argument for times_ten function\n",
    "# Note: Currently using the number 5 as an example, can be adjusted as needed\n",
    "result = times_ten(5)\n",
    "#prints the result of the times_ten function\n",
    "print(result)"
   ]
  },
  {
   "cell_type": "code",
   "execution_count": null,
   "id": "24fdcb63",
   "metadata": {},
   "outputs": [],
   "source": []
  }
 ],
 "metadata": {
  "kernelspec": {
   "display_name": "Python 3 (ipykernel)",
   "language": "python",
   "name": "python3"
  },
  "language_info": {
   "codemirror_mode": {
    "name": "ipython",
    "version": 3
   },
   "file_extension": ".py",
   "mimetype": "text/x-python",
   "name": "python",
   "nbconvert_exporter": "python",
   "pygments_lexer": "ipython3",
   "version": "3.11.4"
  }
 },
 "nbformat": 4,
 "nbformat_minor": 5
}
