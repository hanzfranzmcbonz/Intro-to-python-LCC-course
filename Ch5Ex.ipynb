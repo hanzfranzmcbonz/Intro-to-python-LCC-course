{
 "cells": [
  {
   "cell_type": "markdown",
   "id": "bb5e34b8",
   "metadata": {},
   "source": [
    "# Chapter 5 Exercises "
   ]
  },
  {
   "cell_type": "markdown",
   "id": "98fcc710",
   "metadata": {},
   "source": [
    "## Algorithm Workbench"
   ]
  },
  {
   "cell_type": "markdown",
   "id": "3b1b4245",
   "metadata": {},
   "source": [
    "## Question 1: Write a function named times_ten. The function should accept an argument and display the product of its argument multiplied times 10. "
   ]
  },
  {
   "cell_type": "markdown",
   "id": "248deafc",
   "metadata": {},
   "source": [
    "Initial Thoughts: Im still not completly understanding Functions yet. However this question does not seem to difficult. It will require a def fuction named times_ten with an arguement of a number. Then a statement multiplying the input times ten. I think then it wants a print statement so we will do that too."
   ]
  },
  {
   "cell_type": "code",
   "execution_count": null,
   "id": "afc46655",
   "metadata": {},
   "outputs": [],
   "source": [
    "#function to times a number by ten\n",
    "def times_ten(number):\n",
    "    #Mutiplys the number by 10\n",
    "    return number*10 \n",
    "# Uses ChatGPT to assist in determining the argument for times_ten function\n",
    "# Note: Currently using the number 5 as an example, can be adjusted as needed\n",
    "result = times_ten(5)\n",
    "#prints the result of the times_ten function\n",
    "print(result)"
   ]
  },
  {
   "cell_type": "markdown",
   "id": "453e1167",
   "metadata": {},
   "source": [
    "## Question 10: Write a function named get_first_name that asks the user to enter his or her first name, and returns it."
   ]
  },
  {
   "cell_type": "markdown",
   "id": "d76d8046",
   "metadata": {},
   "source": [
    "Initial Thoughts: After the first question I have more understanding of funtions thanks to chatgpt. This question will need a def function named get_first_name with the atribute of name. Im not sure where to put the input for the name but Ill work that out. Then It will finish with a print statment that prints the name, probabally with a greeting as well. "
   ]
  },
  {
   "cell_type": "code",
   "execution_count": null,
   "id": "7fe9fa25",
   "metadata": {},
   "outputs": [],
   "source": [
    "#function to get the users first name\n",
    "def get_first_name():\n",
    "    #Receives user input for their first name\n",
    "    #sets the input from user to the variable user_input\n",
    "    user_input = input(\"Enter your first name: \")\n",
    "    #returns user_input\n",
    "    return user_input\n",
    "#sets the function to the variable first name\n",
    "first_name = get_first_name()\n",
    "#prints the users first name with an added text\n",
    "print (\"Heres your first name:\", first_name)"
   ]
  },
  {
   "cell_type": "markdown",
   "id": "c17fc9d1",
   "metadata": {},
   "source": [
    "## Programing Exercises"
   ]
  },
  {
   "cell_type": "markdown",
   "id": "c6e612a4",
   "metadata": {},
   "source": [
    "## Question 1: Kilometer Converter\n",
    "## Write a program that asks the user to enter a distance in kilometers, then converts that distance to miles. The conversion formula is as follows:\n",
    "\n",
    "## Miles = Kilometers x 0.6214"
   ]
  },
  {
   "cell_type": "markdown",
   "id": "c3d4be3b",
   "metadata": {},
   "source": [
    "Initial Thoughts: My initial assment from earlier that I have an understanding of this might have been an overstatment. For this question Im going to atempt to fit this whole question within a function, but Im not sure on the rules of functions yet."
   ]
  },
  {
   "cell_type": "code",
   "execution_count": null,
   "id": "ffdf2d1e",
   "metadata": {},
   "outputs": [],
   "source": [
    "#function to convert kilometers into miles\n",
    "def kilometer_converter():\n",
    "    #user input of distance in kilometers\n",
    "    kilometers = float(input(\"How far in Kilometers: \"))\n",
    "    \n",
    "    #equation to convert the user input \n",
    "    miles = kilometers * 0.6214\n",
    "    return miles\n",
    "\n",
    "# Call the kilometer_converter function and store the result\n",
    "converted_distance = kilometer_converter()\n",
    "\n",
    "#prints the result of the convertion function\n",
    "print(\"Heres the distance in Miles: \", converted_distance)"
   ]
  },
  {
   "cell_type": "markdown",
   "id": "3f1510d2",
   "metadata": {},
   "source": [
    "## Question 17: Prime Numbers\n",
    "\n",
    "## A prime number is a number that is only evenly divisible by itself and 1. For example, the number 5 is prime because it can only be evenly divided by 1 and 5. The number 6, however, is not prime because it can be divided evenly by 1, 2, 3, and 6.\n",
    "\n",
    "## Write a Boolean function named is_prime which takes an integer as an argument and returns true if the argument is a prime number, or false otherwise. Use the function in a program that prompts the user to enter a number then displays a message indicating whether the number is prime."
   ]
  },
  {
   "cell_type": "markdown",
   "id": "16b4c731",
   "metadata": {},
   "source": [
    "Initial Thoughts: I will need a function entittled is_prime with a set of statments that determine if its prime. Im thinking I will I will do something along the lines of disvisible by one and its self only. But How do I check for everyother number in exsistence as well. Further reasearch is required."
   ]
  },
  {
   "cell_type": "code",
   "execution_count": null,
   "id": "8605a150",
   "metadata": {},
   "outputs": [],
   "source": [
    "#imports math module\n",
    "import math\n",
    "\n",
    "#Recieves user string imput and changes it to int\n",
    "#sets int user input to the variable number\n",
    "number = int(input(\"Please input a number: \"))\n",
    "\n",
    "#defines the function its prime with the parameter number\n",
    "def is_prime(number):\n",
    "    #checks if number is less than 2, all numbers less than 2 are not prime\n",
    "    if number < 2:\n",
    "        return False\n",
    "    #checks if the number is 2, which is prime\n",
    "    elif number == 2:\n",
    "        return True\n",
    "    #checks if the number is divisible by 2, prime numbers are not\n",
    "    elif number % 2 == 0:\n",
    "        return False \n",
    "    else:\n",
    "        #loop for that checks if the number is divisible by every number from 3 to the square root of the number\n",
    "        for i in range(3, int(math.sqrt(number))+1, 2):\n",
    "            if number % i == 0:\n",
    "                return False\n",
    "        return True\n",
    "#sets the true or false statement from is prime to the variable results\n",
    "result = is_prime(number)\n",
    "\n",
    "#prints the true or false statement\n",
    "print(result)"
   ]
  },
  {
   "cell_type": "markdown",
   "id": "bbbccacc",
   "metadata": {},
   "source": [
    "## Question 18: Prime Number List:\n",
    "## This exercise assumes that you have already written the its_prime function in Programming Exercise 17. Write another program that displays all of the prime numbers from 1 to 100. The program should have a loop that calls the its_prime function."
   ]
  },
  {
   "cell_type": "markdown",
   "id": "deb800f3",
   "metadata": {},
   "source": [
    "Initital thoughts: This one seems pretty straight forward just a loop that goes through a range 1-100 and feeds it into the its_prime functions and spits out the answer. "
   ]
  },
  {
   "cell_type": "code",
   "execution_count": 7,
   "id": "750f0811",
   "metadata": {},
   "outputs": [
    {
     "name": "stdout",
     "output_type": "stream",
     "text": [
      "2\n",
      "3\n",
      "5\n",
      "7\n",
      "11\n",
      "13\n",
      "17\n",
      "19\n",
      "23\n",
      "29\n",
      "31\n",
      "37\n",
      "41\n",
      "43\n",
      "47\n",
      "53\n",
      "59\n",
      "61\n",
      "67\n",
      "71\n",
      "73\n",
      "79\n",
      "83\n",
      "89\n",
      "97\n"
     ]
    }
   ],
   "source": [
    "\n",
    "    \n",
    "        \n",
    "#imports math module\n",
    "import math\n",
    "\n",
    "#defines the function its prime with the parameter number\n",
    "def is_prime(number):\n",
    "    #checks if number is less than 2, all numbers less than 2 are not prime\n",
    "    if number < 2:\n",
    "        return False\n",
    "    #checks if the number is 2, which is prime\n",
    "    elif number == 2:\n",
    "        return True\n",
    "    #checks if the number is divisible by 2, prime numbers are not\n",
    "    elif number % 2 == 0:\n",
    "        return False \n",
    "    else:\n",
    "        #loop for that checks if the number is divisible by every number from 3 to the square root of the number\n",
    "        for i in range(3, int(math.sqrt(number))+1, 2):\n",
    "            if number % i == 0:\n",
    "                return False\n",
    "        return True\n",
    "#sets the true or false statement from is prime to the variable results\n",
    "result = is_prime(number)\n",
    "#loop for range from 1-100\n",
    "for number in range(1,101):\n",
    "    #checks if the value of is_prime is true\n",
    "    if is_prime(number):\n",
    "        #prints number if prime\n",
    "        print (number)"
   ]
  },
  {
   "cell_type": "markdown",
   "id": "2fa0acbe",
   "metadata": {},
   "source": [
    "## Question 7. Stadium Seating\n",
    "## There are three seating categories at a stadium. Class A seats cost 20 dollars, Class B seats cost 15 dollars, and Class C seats cost 10 dollars. Write a program that asks how many tickets for each class of seats were sold, then displays the amount of income generated from ticket sales."
   ]
  },
  {
   "cell_type": "markdown",
   "id": "ad106f2e",
   "metadata": {},
   "source": [
    "Initial Thoughts: It seems there are 4 parts to this 3 seprate functions for each type of seat then a final equation to determine the total income."
   ]
  },
  {
   "cell_type": "code",
   "execution_count": 12,
   "id": "1d61e729",
   "metadata": {},
   "outputs": [
    {
     "name": "stdout",
     "output_type": "stream",
     "text": [
      "Number of Class A seats sold: 1\n",
      "Number of Class B seats sold: 1\n",
      "Number of Class C seats sold: 1\n"
     ]
    },
    {
     "ename": "NameError",
     "evalue": "name 'income' is not defined",
     "output_type": "error",
     "traceback": [
      "\u001b[0;31m---------------------------------------------------------------------------\u001b[0m",
      "\u001b[0;31mNameError\u001b[0m                                 Traceback (most recent call last)",
      "Cell \u001b[0;32mIn[12], line 10\u001b[0m\n\u001b[1;32m      8\u001b[0m     income \u001b[38;5;241m=\u001b[39m (class_a\u001b[38;5;241m+\u001b[39mclass_b\u001b[38;5;241m+\u001b[39mclass_c)\n\u001b[1;32m      9\u001b[0m     \u001b[38;5;28;01mreturn\u001b[39;00m income\n\u001b[0;32m---> 10\u001b[0m result \u001b[38;5;241m=\u001b[39m income\n\u001b[1;32m     11\u001b[0m \u001b[38;5;28mprint\u001b[39m(\u001b[38;5;124mf\u001b[39m\u001b[38;5;124m\"\u001b[39m\u001b[38;5;124mthe total income is :\u001b[39m\u001b[38;5;124m\"\u001b[39m, result)\n",
      "\u001b[0;31mNameError\u001b[0m: name 'income' is not defined"
     ]
    }
   ],
   "source": [
    "class_a = int(input(f'Number of Class A seats sold: '))\n",
    "class_b = int(input(f'Number of Class B seats sold: '))\n",
    "class_c = int(input(f'Number of Class C seats sold: '))\n",
    "def total_income():\n",
    "    class_a = class_a*20\n",
    "    class_b = class_b*15\n",
    "    class_c = class_c*10\n",
    "    income = (class_a+class_b+class_c)\n",
    "    return income\n",
    "result = income\n",
    "print(f\"the total income is :\", result)"
   ]
  },
  {
   "cell_type": "code",
   "execution_count": null,
   "id": "76b38db7",
   "metadata": {},
   "outputs": [],
   "source": []
  }
 ],
 "metadata": {
  "kernelspec": {
   "display_name": "Python 3 (ipykernel)",
   "language": "python",
   "name": "python3"
  },
  "language_info": {
   "codemirror_mode": {
    "name": "ipython",
    "version": 3
   },
   "file_extension": ".py",
   "mimetype": "text/x-python",
   "name": "python",
   "nbconvert_exporter": "python",
   "pygments_lexer": "ipython3",
   "version": "3.11.4"
  }
 },
 "nbformat": 4,
 "nbformat_minor": 5
}
