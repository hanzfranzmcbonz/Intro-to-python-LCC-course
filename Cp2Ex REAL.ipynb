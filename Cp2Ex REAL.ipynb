{
 "cells": [
  {
   "cell_type": "markdown",
   "id": "268a912e",
   "metadata": {},
   "source": [
    "# Chapter 2 Practice Exsamples\n",
    "\n"
   ]
  },
  {
   "cell_type": "markdown",
   "id": "90028ade",
   "metadata": {},
   "source": [
    "In this assignment I will atempt to work my way through the chapter 2 practice exsamples. I waited till the last possible moment to work on this, and that is too my detrement. I will be doing Problems 1, _, and 13."
   ]
  },
  {
   "cell_type": "markdown",
   "id": "0007ca51",
   "metadata": {},
   "source": [
    "## Algorithm Workbench\n"
   ]
  },
  {
   "cell_type": "markdown",
   "id": "62ec8eb0",
   "metadata": {},
   "source": [
    "### Problem 2: Write Python code that prompts the use to enter his or her favorite color and assigns the user's input to a variable named COLOR.\n"
   ]
  },
  {
   "cell_type": "markdown",
   "id": "ec6eb6de",
   "metadata": {},
   "source": [
    "Initial Thoughts on problem: Understanding the problem from an initial stand point I see there are multiple steps in which my code must execute. First I beleive it must contain a promt that ask the user to imput a certain keyboard imput. This imput must then be read by a seperate line that reads the answer and assigns it to a varible color. Im not sure how to make the prompt come up so that is what I'll start with. "
   ]
  },
  {
   "cell_type": "markdown",
   "id": "059c5fce",
   "metadata": {},
   "source": [
    "My initial try was unsucsessful because prompt was not spelled correctly. I realized that the function I actually want is input. Ok now that I have a sucssesful input time to assign it to a varible. I wanted to add some other words to go with the code but I think it meets the satisfaction of the question"
   ]
  },
  {
   "cell_type": "code",
   "execution_count": 1,
   "id": "b53cfd1f",
   "metadata": {},
   "outputs": [
    {
     "name": "stdout",
     "output_type": "stream",
     "text": [
      "What is you favorite color?blue\n"
     ]
    }
   ],
   "source": [
    "color = input('What is you favorite color?')\n",
    "# Prompt to ask the user her or his favorite color"
   ]
  },
  {
   "cell_type": "code",
   "execution_count": 2,
   "id": "9171006c",
   "metadata": {},
   "outputs": [
    {
     "name": "stdout",
     "output_type": "stream",
     "text": [
      "blue Wow!!! What a great color.\n"
     ]
    }
   ],
   "source": [
    "print(color + ' Wow!!! What a great color.')\n",
    "# Text to confirm variable color and respond to user"
   ]
  },
  {
   "cell_type": "markdown",
   "id": "5c302868",
   "metadata": {},
   "source": [
    "## Programing Ecercises\n"
   ]
  },
  {
   "cell_type": "markdown",
   "id": "47d7ab77",
   "metadata": {},
   "source": [
    "### Problem 1: Write a program that displays the following information:\n",
    "\n",
    "### Your name\n",
    "\n",
    "### Your Address, city, state, and ZIP\n",
    "\n",
    "### Your telephone number\n",
    "\n",
    "### Your college major"
   ]
  },
  {
   "cell_type": "markdown",
   "id": "1f7651ad",
   "metadata": {},
   "source": [
    "Initial thoughts on problem: It seems to have multiple steps involved with this problem. Each question is going to to need a seperate prompt and varible assigned to it. Then a seperate line is going to have to print all of these together. Hopefully I can keep the code consise."
   ]
  }
 ],
 "metadata": {
  "kernelspec": {
   "display_name": "Python 3 (ipykernel)",
   "language": "python",
   "name": "python3"
  },
  "language_info": {
   "codemirror_mode": {
    "name": "ipython",
    "version": 3
   },
   "file_extension": ".py",
   "mimetype": "text/x-python",
   "name": "python",
   "nbconvert_exporter": "python",
   "pygments_lexer": "ipython3",
   "version": "3.11.4"
  }
 },
 "nbformat": 4,
 "nbformat_minor": 5
}
