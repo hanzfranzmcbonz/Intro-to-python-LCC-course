{
 "cells": [
  {
   "cell_type": "markdown",
   "id": "89920d5e",
   "metadata": {},
   "source": [
    "# Chapter 2 Practice Exsamples\n",
    "\n"
   ]
  },
  {
   "cell_type": "markdown",
   "id": "accf21b1",
   "metadata": {},
   "source": [
    "In this assignment I will atempt to work my way through the chapter 2 practice exsamples. I waited till the last possible moment to work on this, and that is too my detrement. I will be doing Problems 1, _, and 13."
   ]
  },
  {
   "cell_type": "markdown",
   "id": "c94f21a0",
   "metadata": {},
   "source": [
    "## Algorithm Workbench\n"
   ]
  },
  {
   "cell_type": "markdown",
   "id": "098e5c09",
   "metadata": {},
   "source": [
    "### Problem 2: Write Python code that prompts the use to enter his or her favorite color and assigns the user's input to a variable named COLOR.\n"
   ]
  },
  {
   "cell_type": "markdown",
   "id": "3176971a",
   "metadata": {},
   "source": [
    "Initial Thoughts on problem: Understanding the problem from an initial stand point I see there are multiple steps in which my code must execute. First I beleive it must contain a promt that ask the user to imput a certain keyboard imput. This imput must then be read by a seperate line that reads the answer and assigns it to a varible color. Im not sure how to make the prompt come up so that is what I'll start with. "
   ]
  },
  {
   "cell_type": "markdown",
   "id": "6f744312",
   "metadata": {},
   "source": [
    "My initial try was unsucsessful because prompt was not spelled correctly. I realized that the function I actually want is input. Ok now that I have a sucssesful input time to assign it to a varible. I wanted to add some other words to go with the code but I think it meets the satisfaction of the question"
   ]
  },
  {
   "cell_type": "code",
   "execution_count": 1,
   "id": "517e309f",
   "metadata": {},
   "outputs": [
    {
     "name": "stdout",
     "output_type": "stream",
     "text": [
      "What is you favorite color?blue\n"
     ]
    }
   ],
   "source": [
    "color = input('What is you favorite color?')\n",
    "# Prompt to ask the user her or his favorite color"
   ]
  },
  {
   "cell_type": "code",
   "execution_count": 2,
   "id": "1422d036",
   "metadata": {},
   "outputs": [
    {
     "name": "stdout",
     "output_type": "stream",
     "text": [
      "blue Wow!!! What a great color.\n"
     ]
    }
   ],
   "source": [
    "print(color + ' Wow!!! What a great color.')\n",
    "# Text to confirm variable color and respond to user"
   ]
  },
  {
   "cell_type": "markdown",
   "id": "a15ebb21",
   "metadata": {},
   "source": [
    "## Programing Ecercises\n"
   ]
  },
  {
   "cell_type": "markdown",
   "id": "f061c0b9",
   "metadata": {},
   "source": [
    "### Problem 1: Write a program that displays the following information:\n",
    "\n",
    "### Your name\n",
    "\n",
    "### Your Address, city, state, and ZIP\n",
    "\n",
    "### Your telephone number\n",
    "\n",
    "### Your college major"
   ]
  },
  {
   "cell_type": "markdown",
   "id": "9925455b",
   "metadata": {},
   "source": [
    "Initial thoughts on problem: It seems to have multiple steps involved with this problem. Each question is going to to need a seperate prompt and varible assigned to it. Then a seperate line is going to have to print all of these together. Hopefully I can keep the code consise."
   ]
  },
  {
   "cell_type": "markdown",
   "id": "a2f8b121",
   "metadata": {},
   "source": [
    "### "
   ]
  },
  {
   "cell_type": "code",
   "execution_count": 3,
   "id": "c4b09b78",
   "metadata": {},
   "outputs": [
    {
     "name": "stdout",
     "output_type": "stream",
     "text": [
      "Personal Contact Info Form\n"
     ]
    }
   ],
   "source": [
    "print('Personal Contact Info Form')\n",
    "# Title to state what the following promts with ask of the user. "
   ]
  },
  {
   "cell_type": "code",
   "execution_count": 4,
   "id": "78002d74",
   "metadata": {},
   "outputs": [
    {
     "name": "stdout",
     "output_type": "stream",
     "text": [
      "What is your name? Dillon Blair\n"
     ]
    }
   ],
   "source": [
    "name = input('What is your name? ')"
   ]
  },
  {
   "cell_type": "code",
   "execution_count": 5,
   "id": "c7c76f88",
   "metadata": {},
   "outputs": [
    {
     "name": "stdout",
     "output_type": "stream",
     "text": [
      "What is your Street Address? 13225 speckledwood dr\n"
     ]
    }
   ],
   "source": [
    "street_address = input('What is your Street Address? ')"
   ]
  },
  {
   "cell_type": "code",
   "execution_count": 6,
   "id": "a7f281e5",
   "metadata": {},
   "outputs": [
    {
     "name": "stdout",
     "output_type": "stream",
     "text": [
      "What is your City? Dewitt\n"
     ]
    }
   ],
   "source": [
    "city = input('What is your City? ')"
   ]
  },
  {
   "cell_type": "code",
   "execution_count": 7,
   "id": "27799b4b",
   "metadata": {},
   "outputs": [
    {
     "name": "stdout",
     "output_type": "stream",
     "text": [
      "what is your state? Michigan\n"
     ]
    }
   ],
   "source": [
    "state = input(\"what is your state? \")"
   ]
  },
  {
   "cell_type": "code",
   "execution_count": 8,
   "id": "4c96c639",
   "metadata": {},
   "outputs": [
    {
     "name": "stdout",
     "output_type": "stream",
     "text": [
      "What is your ZIP? 48820\n"
     ]
    }
   ],
   "source": [
    "ZIP = input('What is your ZIP? ')"
   ]
  },
  {
   "cell_type": "code",
   "execution_count": 9,
   "id": "82fee7a6",
   "metadata": {},
   "outputs": [],
   "source": [
    "address = (street_address, city, state, ZIP)"
   ]
  },
  {
   "cell_type": "code",
   "execution_count": 10,
   "id": "05b2468c",
   "metadata": {},
   "outputs": [
    {
     "name": "stdout",
     "output_type": "stream",
     "text": [
      "What is your Telephone Number? 517-624-9010\n"
     ]
    }
   ],
   "source": [
    "telephone_number = input('What is your Telephone Number? ')"
   ]
  },
  {
   "cell_type": "code",
   "execution_count": 11,
   "id": "7a5851c8",
   "metadata": {},
   "outputs": [
    {
     "name": "stdout",
     "output_type": "stream",
     "text": [
      "What is you College Major? Econ\n"
     ]
    }
   ],
   "source": [
    "major = input('What is you College Major? ')"
   ]
  },
  {
   "cell_type": "code",
   "execution_count": 14,
   "id": "9b7b0cfc",
   "metadata": {},
   "outputs": [
    {
     "name": "stdout",
     "output_type": "stream",
     "text": [
      "Dillon Blair ('13225 speckledwood dr', 'Dewitt', 'Michigan', '48820') 517-624-9010 Econ\n"
     ]
    }
   ],
   "source": [
    "print(name, address, telephone_number, major)"
   ]
  },
  {
   "cell_type": "code",
   "execution_count": null,
   "id": "7626c5db",
   "metadata": {},
   "outputs": [],
   "source": []
  }
 ],
 "metadata": {
  "kernelspec": {
   "display_name": "Python 3 (ipykernel)",
   "language": "python",
   "name": "python3"
  },
  "language_info": {
   "codemirror_mode": {
    "name": "ipython",
    "version": 3
   },
   "file_extension": ".py",
   "mimetype": "text/x-python",
   "name": "python",
   "nbconvert_exporter": "python",
   "pygments_lexer": "ipython3",
   "version": "3.11.4"
  }
 },
 "nbformat": 4,
 "nbformat_minor": 5
}
