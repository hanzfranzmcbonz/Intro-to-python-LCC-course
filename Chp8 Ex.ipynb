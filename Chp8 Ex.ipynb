{
 "cells": [
  {
   "cell_type": "markdown",
   "id": "354dc5b5",
   "metadata": {},
   "source": [
    "# Chapter 8 Coding Set"
   ]
  },
  {
   "cell_type": "markdown",
   "id": "0b90294a",
   "metadata": {},
   "source": [
    "## Algorithim Workbench"
   ]
  },
  {
   "cell_type": "markdown",
   "id": "f7484f9b",
   "metadata": {},
   "source": [
    "## Question 1: Assume choice references a string. The following if statement determines whether choice is equal to 'Y' or 'y':"
   ]
  },
  {
   "cell_type": "code",
   "execution_count": null,
   "id": "d3a97556",
   "metadata": {},
   "outputs": [],
   "source": [
    "if choice == 'Y' or choice == 'y'"
   ]
  },
  {
   "cell_type": "markdown",
   "id": "542d75c0",
   "metadata": {},
   "source": [
    "## Rewrite this statement so it only makes one comparison, and does not use the  operator.(Hint: use either the upper or lower methods.)"
   ]
  },
  {
   "cell_type": "code",
   "execution_count": 4,
   "id": "01b2ccc6",
   "metadata": {},
   "outputs": [
    {
     "name": "stdout",
     "output_type": "stream",
     "text": [
      "y\n",
      "y\n"
     ]
    }
   ],
   "source": [
    "# Get user input for the variable choice\n",
    "choice = input()\n",
    "\n",
    "# Prints the choice variable in lower case\n",
    "print(choice.lower())"
   ]
  },
  {
   "cell_type": "markdown",
   "id": "d6911b9c",
   "metadata": {},
   "source": [
    "# Question 2: Write a loop that counts the number of space characters that appear in the string referenced by mystring."
   ]
  },
  {
   "cell_type": "code",
   "execution_count": 10,
   "id": "d4dbeffe",
   "metadata": {},
   "outputs": [
    {
     "name": "stdout",
     "output_type": "stream",
     "text": [
      "Enter a sentence: I dont want to write this again\n",
      "6\n"
     ]
    }
   ],
   "source": [
    "mystring = str(input('Enter a sentence: '))\n",
    "\n",
    "count = 0\n",
    "\n",
    "for ch in mystring:\n",
    "    if ch.isspace():\n",
    "        count += 1\n",
    "    else:\n",
    "        pass\n",
    "        \n",
    "print(count)\n",
    "    "
   ]
  },
  {
   "cell_type": "markdown",
   "id": "71bd5ca4",
   "metadata": {},
   "source": [
    "# Programing Excerises"
   ]
  },
  {
   "cell_type": "markdown",
   "id": "6ca45f77",
   "metadata": {},
   "source": [
    "## Question 1: Initials"
   ]
  },
  {
   "cell_type": "code",
   "execution_count": null,
   "id": "de914167",
   "metadata": {},
   "outputs": [],
   "source": [
    "# \n",
    "def main():\n",
    "\n",
    "    first = str(input('Enter First Name: '))\n",
    "\n",
    "    middle = str(input('Enter Middle Name: '))\n",
    "\n",
    "    last = str(input('Enter Last Name: '))\n",
    "\n",
    "    str1 = first[0]\n",
    "\n",
    "    str2 = middle[0]\n",
    "\n",
    "    str3 = last[0]\n",
    "\n",
    "    print((str1.upper()) + ('.') + (str2.upper()) \\\n",
    "          + ('.') + (str3.upper()) + ('.'))\n",
    "    \n",
    "if __name__ == '__main__':\n",
    "    main()"
   ]
  },
  {
   "cell_type": "markdown",
   "id": "322eaa23",
   "metadata": {},
   "source": [
    "## Question 2: Sum of Digits in a String"
   ]
  },
  {
   "cell_type": "code",
   "execution_count": 5,
   "id": "332a4cff",
   "metadata": {},
   "outputs": [
    {
     "name": "stdout",
     "output_type": "stream",
     "text": [
      "Enter a series of single-digit numbers with nothing separating them: 1234\n",
      "10\n"
     ]
    }
   ],
   "source": [
    "def main():\n",
    "    numbers = str(input('Enter a series of single-digit\\\n",
    " numbers with nothing separating them: '))\n",
    "    \n",
    "    number = sum(int(ch) for ch in numbers)\n",
    "    print(number)\n",
    "    \n",
    "    \n",
    "if __name__ == '__main__':\n",
    "    main()"
   ]
  },
  {
   "cell_type": "markdown",
   "id": "d7c29171",
   "metadata": {},
   "source": [
    "## Question 3: Date Printer"
   ]
  },
  {
   "cell_type": "code",
   "execution_count": 21,
   "id": "44a9a83e",
   "metadata": {},
   "outputs": [
    {
     "name": "stdout",
     "output_type": "stream",
     "text": [
      "Date(mm/dd/yyyy): 11/23/2069\n",
      "November, 23 2069\n"
     ]
    }
   ],
   "source": [
    "def main():\n",
    "    \n",
    "    date = input('Date(mm/dd/yyyy): ')\n",
    "    \n",
    "    month = date[:2]\n",
    "    \n",
    "    day = date[3:5]\n",
    "    \n",
    "    year = date[6:]\n",
    "    \n",
    "    months = ['January', 'February','March', 'April', 'May',\n",
    "            'June', 'July', 'August', 'September', 'October', \n",
    "            'November', 'December']\n",
    "    \n",
    "    index = int(month) - 1\n",
    "    \n",
    "    selected_month = months[index]\n",
    "        \n",
    "        \n",
    "    print(f'{selected_month}, {day} {year}')\n",
    "    \n",
    "if __name__ == '__main__':\n",
    "    main()"
   ]
  },
  {
   "cell_type": "code",
   "execution_count": null,
   "id": "02710e81",
   "metadata": {},
   "outputs": [],
   "source": []
  },
  {
   "cell_type": "code",
   "execution_count": null,
   "id": "818021b3",
   "metadata": {},
   "outputs": [],
   "source": []
  }
 ],
 "metadata": {
  "kernelspec": {
   "display_name": "Python 3 (ipykernel)",
   "language": "python",
   "name": "python3"
  },
  "language_info": {
   "codemirror_mode": {
    "name": "ipython",
    "version": 3
   },
   "file_extension": ".py",
   "mimetype": "text/x-python",
   "name": "python",
   "nbconvert_exporter": "python",
   "pygments_lexer": "ipython3",
   "version": "3.11.4"
  }
 },
 "nbformat": 4,
 "nbformat_minor": 5
}
