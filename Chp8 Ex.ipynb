{
 "cells": [
  {
   "cell_type": "markdown",
   "id": "95699d04",
   "metadata": {},
   "source": [
    "# Chapter 8 Coding Set"
   ]
  },
  {
   "cell_type": "markdown",
   "id": "f677fb00",
   "metadata": {},
   "source": [
    "## Algorithim Workbench"
   ]
  },
  {
   "cell_type": "markdown",
   "id": "b9bf632d",
   "metadata": {},
   "source": [
    "## Question 1: Assume choice references a string. The following if statement determines whether choice is equal to 'Y' or 'y':"
   ]
  },
  {
   "cell_type": "code",
   "execution_count": null,
   "id": "ae93a3e7",
   "metadata": {},
   "outputs": [],
   "source": [
    "if choice == 'Y' or choice == 'y'"
   ]
  },
  {
   "cell_type": "markdown",
   "id": "6fdc8e16",
   "metadata": {},
   "source": [
    "## Rewrite this statement so it only makes one comparison, and does not use the  operator.(Hint: use either the upper or lower methods.)"
   ]
  },
  {
   "cell_type": "code",
   "execution_count": 4,
   "id": "00a465ee",
   "metadata": {},
   "outputs": [
    {
     "name": "stdout",
     "output_type": "stream",
     "text": [
      "y\n",
      "y\n"
     ]
    }
   ],
   "source": [
    "# Get user input for the variable choice\n",
    "choice = input()\n",
    "\n",
    "# Prints the choice variable in lower case\n",
    "print(choice.lower())"
   ]
  },
  {
   "cell_type": "markdown",
   "id": "72009dc8",
   "metadata": {},
   "source": [
    "# Question 2: Write a loop that counts the number of space characters that appear in the string referenced by mystring."
   ]
  },
  {
   "cell_type": "code",
   "execution_count": 10,
   "id": "b6118dbc",
   "metadata": {},
   "outputs": [
    {
     "name": "stdout",
     "output_type": "stream",
     "text": [
      "Enter a sentence: I dont want to write this again\n",
      "6\n"
     ]
    }
   ],
   "source": [
    "mystring = str(input('Enter a sentence: '))\n",
    "\n",
    "count = 0\n",
    "\n",
    "for ch in mystring:\n",
    "    if ch.isspace():\n",
    "        count += 1\n",
    "    else:\n",
    "        pass\n",
    "        \n",
    "print(count)\n",
    "    "
   ]
  },
  {
   "cell_type": "code",
   "execution_count": null,
   "id": "c580a66e",
   "metadata": {},
   "outputs": [],
   "source": []
  }
 ],
 "metadata": {
  "kernelspec": {
   "display_name": "Python 3 (ipykernel)",
   "language": "python",
   "name": "python3"
  },
  "language_info": {
   "codemirror_mode": {
    "name": "ipython",
    "version": 3
   },
   "file_extension": ".py",
   "mimetype": "text/x-python",
   "name": "python",
   "nbconvert_exporter": "python",
   "pygments_lexer": "ipython3",
   "version": "3.11.4"
  }
 },
 "nbformat": 4,
 "nbformat_minor": 5
}
