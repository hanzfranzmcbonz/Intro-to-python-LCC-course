{
 "cells": [
  {
   "cell_type": "markdown",
   "id": "a8d64d0e",
   "metadata": {},
   "source": [
    "# Chapter 8 Coding Set"
   ]
  },
  {
   "cell_type": "markdown",
   "id": "3e995157",
   "metadata": {},
   "source": [
    "## Algorithim Workbench"
   ]
  },
  {
   "cell_type": "markdown",
   "id": "127b91ac",
   "metadata": {},
   "source": [
    "## Question 1: Assume choice references a string. The following if statement determines whether choice is equal to 'Y' or 'y':"
   ]
  },
  {
   "cell_type": "code",
   "execution_count": null,
   "id": "f9f23781",
   "metadata": {},
   "outputs": [],
   "source": [
    "if choice == 'Y' or choice == 'y'"
   ]
  },
  {
   "cell_type": "markdown",
   "id": "a4321bcd",
   "metadata": {},
   "source": [
    "## Rewrite this statement so it only makes one comparison, and does not use the  operator.(Hint: use either the upper or lower methods.)"
   ]
  },
  {
   "cell_type": "code",
   "execution_count": 4,
   "id": "3c6564b2",
   "metadata": {},
   "outputs": [
    {
     "name": "stdout",
     "output_type": "stream",
     "text": [
      "y\n",
      "y\n"
     ]
    }
   ],
   "source": [
    "# Get user input for the variable choice\n",
    "choice = input()\n",
    "\n",
    "# Prints the choice variable in lower case\n",
    "print(choice.lower())"
   ]
  },
  {
   "cell_type": "markdown",
   "id": "6d354788",
   "metadata": {},
   "source": [
    "# Question 2: Write a loop that counts the number of space characters that appear in the string referenced by mystring."
   ]
  },
  {
   "cell_type": "code",
   "execution_count": 6,
   "id": "bd199cab",
   "metadata": {},
   "outputs": [
    {
     "name": "stdout",
     "output_type": "stream",
     "text": [
      "Enter a sentence: The Quick Brown Fox Jumps Over The lazy Dog\n"
     ]
    },
    {
     "ename": "NameError",
     "evalue": "name 'count' is not defined",
     "output_type": "error",
     "traceback": [
      "\u001b[0;31m---------------------------------------------------------------------------\u001b[0m",
      "\u001b[0;31mNameError\u001b[0m                                 Traceback (most recent call last)",
      "Cell \u001b[0;32mIn[6], line 5\u001b[0m\n\u001b[1;32m      3\u001b[0m \u001b[38;5;28;01mfor\u001b[39;00m ch \u001b[38;5;129;01min\u001b[39;00m mystring:\n\u001b[1;32m      4\u001b[0m     \u001b[38;5;28;01mif\u001b[39;00m ch\u001b[38;5;241m.\u001b[39misspace:\n\u001b[0;32m----> 5\u001b[0m         count \u001b[38;5;241m+\u001b[39m\u001b[38;5;241m=\u001b[39m \u001b[38;5;241m1\u001b[39m\n\u001b[1;32m      7\u001b[0m \u001b[38;5;28mprint\u001b[39m(count)\n",
      "\u001b[0;31mNameError\u001b[0m: name 'count' is not defined"
     ]
    }
   ],
   "source": [
    "mystring = str(input('Enter a sentence: '))\n",
    "\n",
    "\n",
    "\n",
    "for ch in mystring:\n",
    "    if ch.isspace:\n",
    "        count += 1\n",
    "        \n",
    "print(count)\n",
    "    "
   ]
  },
  {
   "cell_type": "code",
   "execution_count": null,
   "id": "b0731595",
   "metadata": {},
   "outputs": [],
   "source": []
  }
 ],
 "metadata": {
  "kernelspec": {
   "display_name": "Python 3 (ipykernel)",
   "language": "python",
   "name": "python3"
  },
  "language_info": {
   "codemirror_mode": {
    "name": "ipython",
    "version": 3
   },
   "file_extension": ".py",
   "mimetype": "text/x-python",
   "name": "python",
   "nbconvert_exporter": "python",
   "pygments_lexer": "ipython3",
   "version": "3.11.4"
  }
 },
 "nbformat": 4,
 "nbformat_minor": 5
}
