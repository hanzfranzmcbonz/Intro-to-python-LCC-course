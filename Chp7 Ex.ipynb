{
 "cells": [
  {
   "cell_type": "markdown",
   "id": "6851fc0e",
   "metadata": {},
   "source": [
    "# Coding Set 7 Exercises"
   ]
  },
  {
   "cell_type": "markdown",
   "id": "40faf44c",
   "metadata": {},
   "source": [
    "## Algotithm Workbench"
   ]
  },
  {
   "cell_type": "markdown",
   "id": "f8c935f4",
   "metadata": {},
   "source": [
    "## Question 1: Write a statement that creates a list with the following strings: 'Einstein','Newton' ,'Copernicus', and 'Kepler'."
   ]
  },
  {
   "cell_type": "markdown",
   "id": "1bdfeb30",
   "metadata": {},
   "source": [
    "Initial Thoughts: I will simply create a varible list1 and set it equal to a list with the strings for names. Then I will print it."
   ]
  },
  {
   "cell_type": "code",
   "execution_count": 2,
   "id": "23b391ec",
   "metadata": {},
   "outputs": [
    {
     "name": "stdout",
     "output_type": "stream",
     "text": [
      "['Einstein', 'Newton', 'Copernicus', 'Kepler']\n"
     ]
    }
   ],
   "source": [
    "# Create list with names and set it equal\n",
    "# to the names variable\n",
    "names = ['Einstein', 'Newton', 'Copernicus', 'Kepler']\n",
    "\n",
    "# Print the names variable\n",
    "print(names)"
   ]
  },
  {
   "cell_type": "code",
   "execution_count": null,
   "id": "984eaab2",
   "metadata": {},
   "outputs": [],
   "source": []
  }
 ],
 "metadata": {
  "kernelspec": {
   "display_name": "Python 3 (ipykernel)",
   "language": "python",
   "name": "python3"
  },
  "language_info": {
   "codemirror_mode": {
    "name": "ipython",
    "version": 3
   },
   "file_extension": ".py",
   "mimetype": "text/x-python",
   "name": "python",
   "nbconvert_exporter": "python",
   "pygments_lexer": "ipython3",
   "version": "3.11.4"
  }
 },
 "nbformat": 4,
 "nbformat_minor": 5
}
