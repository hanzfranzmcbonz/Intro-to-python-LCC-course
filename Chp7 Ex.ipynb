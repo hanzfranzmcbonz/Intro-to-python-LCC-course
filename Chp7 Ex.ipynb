{
 "cells": [
  {
   "cell_type": "markdown",
   "id": "31f1baab",
   "metadata": {},
   "source": [
    "# Coding Set 7 Exercises"
   ]
  },
  {
   "cell_type": "markdown",
   "id": "b45c3f93",
   "metadata": {},
   "source": [
    "## Algotithm Workbench"
   ]
  },
  {
   "cell_type": "markdown",
   "id": "c9249cd1",
   "metadata": {},
   "source": [
    "## Question 1: Write a statement that creates a list with the following strings: 'Einstein','Newton' ,'Copernicus', and 'Kepler'."
   ]
  },
  {
   "cell_type": "markdown",
   "id": "0dd304ed",
   "metadata": {},
   "source": [
    "Initial Thoughts: I will simply create a varible list1 and set it equal to a list with the strings for names. Then I will print it."
   ]
  },
  {
   "cell_type": "code",
   "execution_count": 2,
   "id": "6fc458ff",
   "metadata": {},
   "outputs": [
    {
     "name": "stdout",
     "output_type": "stream",
     "text": [
      "['Einstein', 'Newton', 'Copernicus', 'Kepler']\n"
     ]
    }
   ],
   "source": [
    "# Create list with names and set it equal\n",
    "# to the names variable\n",
    "names = ['Einstein', 'Newton', 'Copernicus', 'Kepler']\n",
    "\n",
    "# Print the names variable\n",
    "print(names)"
   ]
  },
  {
   "cell_type": "markdown",
   "id": "68c38206",
   "metadata": {},
   "source": [
    "## Question 7: What will the following code print?\n",
    "\n",
    "## list1 = [40, 50, 60]\n",
    "\n",
    "## list2 = [10, 20, 30]\n",
    "\n",
    "## list3 = list1 + list2\n",
    "\n",
    "## print(list3)"
   ]
  },
  {
   "cell_type": "markdown",
   "id": "7a2607d7",
   "metadata": {},
   "source": [
    "Initial Thoughts: This code will produce this as the output: [40, 50, 60, 10, 20, 30]"
   ]
  },
  {
   "cell_type": "code",
   "execution_count": 1,
   "id": "376ff537",
   "metadata": {},
   "outputs": [
    {
     "name": "stdout",
     "output_type": "stream",
     "text": [
      "[40, 50, 60, 10, 20, 30]\n"
     ]
    }
   ],
   "source": [
    "list1 = [40, 50, 60]\n",
    "\n",
    "list2 = [10, 20, 30]\n",
    "\n",
    "list3 = list1 + list2\n",
    "\n",
    "print(list3)"
   ]
  },
  {
   "cell_type": "markdown",
   "id": "be7927f7",
   "metadata": {},
   "source": [
    "## Programing Exeercises"
   ]
  },
  {
   "cell_type": "markdown",
   "id": "a790d4cf",
   "metadata": {},
   "source": [
    "## Question 1: Total Sales\n",
    "\n",
    "## Design a program that asks the user to enter a store’s sales for each day of the week. The amounts should be stored in a list. Use a loop to calculate the total sales for the week and display the result."
   ]
  },
  {
   "cell_type": "markdown",
   "id": "1ede6d17",
   "metadata": {},
   "source": [
    "Intitial thoughts: Ok I have a vauge idea of how to do this but its gonna take some time, alot of iterations and some research. First we need to set the num_days which will always be set to 7 but could be changed later if we want. I don't know if I want to make a list of days of the week or not. Then we need a function that first gets the sales for the day of the week. Then we need a seprate eqaution which calculates the total sales and prints it. Lets see If I can do this.\n",
    "    "
   ]
  },
  {
   "cell_type": "code",
   "execution_count": 20,
   "id": "76af64d7",
   "metadata": {},
   "outputs": [
    {
     "name": "stdout",
     "output_type": "stream",
     "text": [
      "Enter the sales for Sunday: $1\n",
      "Enter the sales for Monday: $1\n",
      "Enter the sales for Tuesday: $1\n",
      "Enter the sales for Wednesday: $1\n",
      "Enter the sales for Thursday: $1\n",
      "Enter the sales for Friday: $1\n",
      "Enter the sales for Saturday: $1\n",
      "7.0\n"
     ]
    }
   ],
   "source": [
    "# This program collects data from each day of the week\n",
    "# and calculates the total sales\n",
    "\n",
    "# Creates a empty list where the daily sale can go\n",
    "daily_sales = []\n",
    "\n",
    "def main():\n",
    "  \n",
    "    # Gets the daily sales for each day\n",
    "    for day in ['Sunday', 'Monday', 'Tuesday', 'Wednesday',\n",
    "            'Thursday', 'Friday', 'Saturday']:\n",
    "        \n",
    "        sales = float(input(f'Enter the sales for {day}: $'))\n",
    "        daily_sales.append(sales)\n",
    "    \n",
    "    # Sums the list of daily sales\n",
    "    total_sales = sum(daily_sales)\n",
    "    \n",
    "    # Displays the sum of daily sales\n",
    "    print(total_sales)\n",
    "\n",
    "# Calls the main function\n",
    "if __name__ == '__main__':\n",
    "    main()"
   ]
  },
  {
   "cell_type": "markdown",
   "id": "fa6ab7fc",
   "metadata": {},
   "source": [
    "## Question 14: Expense Pie Chart\n",
    "\n",
    "## Create a text file that contains your expenses for last month in the following categories:\n",
    "               \n",
    "               \n",
    "## Rent\n",
    "                \n",
    "              \n",
    "                \n",
    "## Gas\n",
    "                \n",
    "              \n",
    "                \n",
    "## Food\n",
    "                \n",
    "              \n",
    "                \n",
    "## Clothing\n",
    "                \n",
    "              \n",
    "                \n",
    "## Car payment\n",
    "                \n",
    "              \n",
    "                \n",
    "## Misc\n",
    "                \n",
    "## Write a Python program that reads the data from the file and uses  to plot a pie chart showing how you spend your money."
   ]
  },
  {
   "cell_type": "code",
   "execution_count": 21,
   "id": "0f6bbc9c",
   "metadata": {},
   "outputs": [
    {
     "name": "stdout",
     "output_type": "stream",
     "text": [
      "3.7.1\n"
     ]
    }
   ],
   "source": [
    "import matplotlib \n",
    "\n",
    "print(matplotlib.__version__)"
   ]
  },
  {
   "cell_type": "code",
   "execution_count": 23,
   "id": "00e15462",
   "metadata": {},
   "outputs": [
    {
     "data": {
      "image/png": "[encoded data removed]",
      "text/plain": [
       "<Figure size 640x480 with 1 Axes>"
      ]
     },
     "metadata": {},
     "output_type": "display_data"
    }
   ],
   "source": [
    "# This is sample code givin by chat to test using matplotlib\n",
    "\n",
    "import matplotlib.pyplot as plt\n",
    "\n",
    "# Sample data\n",
    "days = ['Monday', 'Tuesday', 'Wednesday', 'Thursday', 'Friday']\n",
    "sales = [100, 120, 90, 150, 200]\n",
    "\n",
    "# Plotting\n",
    "plt.plot(days, sales, marker='o')\n",
    "plt.title('Daily Sales')\n",
    "plt.xlabel('Days of the Week')\n",
    "plt.ylabel('Sales ($)')\n",
    "plt.show()\n"
   ]
  },
  {
   "cell_type": "markdown",
   "id": "839c8a9e",
   "metadata": {},
   "source": [
    "Initial Thoughts: Ok so there are multiple parts to this question, One: We need to create a sperate text document to place these values in. Second: we need a program that reads the document and places the values into a list. Finially we need a program that plot the values in a pie chart. I would love to do this without any help so we shall see. PERCHANCE. "
   ]
  },
  {
   "cell_type": "code",
   "execution_count": 34,
   "id": "670e83d2",
   "metadata": {},
   "outputs": [
    {
     "name": "stdout",
     "output_type": "stream",
     "text": [
      "Rent expenses: $3\n",
      "Gas expenses: $4\n",
      "Food expenses: $5\n",
      "Clothing expenses: $6\n",
      "Car Payment: $7\n",
      "Misc expenses: $8\n"
     ]
    },
    {
     "data": {
      "image/png": "[encoded data removed]",
      "text/plain": [
       "<Figure size 640x480 with 1 Axes>"
      ]
     },
     "metadata": {},
     "output_type": "display_data"
    }
   ],
   "source": [
    "import matplotlib.pyplot as plt\n",
    "\n",
    "def expense():\n",
    "    with open ('monthly_expenses.txt', 'w') as outfile:\n",
    "    \n",
    "        rent = float(input('Rent expenses: $'))\n",
    "    \n",
    "        gas = float(input('Gas expenses: $'))\n",
    "    \n",
    "        food = float(input('Food expenses: $'))\n",
    "    \n",
    "        clothing = float(input('Clothing expenses: $'))\n",
    "    \n",
    "        car = float(input('Car Payment: $'))\n",
    "        \n",
    "        misc = float(input('Misc expenses: $'))\n",
    "    \n",
    "        outfile.write(str(rent)+ '\\n')\n",
    "        outfile.write(str(gas)+ '\\n')\n",
    "        outfile.write(str(food)+ '\\n')\n",
    "        outfile.write(str(clothing)+ '\\n')\n",
    "        outfile.write(str(car)+ '\\n')\n",
    "        outfile.write(str(misc)+ '\\n')\n",
    "        \n",
    "def data():\n",
    "    with open ('monthly_expenses.txt', 'r') as infile:\n",
    "        \n",
    "        expenses = infile.readlines()\n",
    "        \n",
    "        for index in range(len(expenses)):\n",
    "            expenses[index] = expenses[index].rstrip('\\n')\n",
    "            \n",
    "    slice_labels = ['Rent', 'Gas', 'Food', 'Clothing',\n",
    "                    'Car Payement', 'misc']\n",
    "    \n",
    "    plt.pie(expenses, labels= slice_labels)\n",
    "    \n",
    "    plt.title('Last Months Expenses')\n",
    "    \n",
    "    plt.show()\n",
    "\n",
    "if __name__ == '__main__':\n",
    "    expense()\n",
    "    \n",
    "if __name__ == '__main__':\n",
    "    data()"
   ]
  },
  {
   "cell_type": "markdown",
   "id": "028009e5",
   "metadata": {},
   "source": [
    "## Question 15: 1994 Weekly Gas Graph"
   ]
  },
  {
   "cell_type": "code",
   "execution_count": 42,
   "id": "614c5727",
   "metadata": {},
   "outputs": [
    {
     "ename": "UnboundLocalError",
     "evalue": "cannot access local variable 'averages' where it is not associated with a value",
     "output_type": "error",
     "traceback": [
      "\u001b[0;31m---------------------------------------------------------------------------\u001b[0m",
      "\u001b[0;31mUnboundLocalError\u001b[0m                         Traceback (most recent call last)",
      "Cell \u001b[0;32mIn[42], line 15\u001b[0m\n\u001b[1;32m     12\u001b[0m     \u001b[38;5;28mprint\u001b[39m(averages)\n\u001b[1;32m     14\u001b[0m \u001b[38;5;28;01mif\u001b[39;00m \u001b[38;5;18m__name__\u001b[39m \u001b[38;5;241m==\u001b[39m \u001b[38;5;124m'\u001b[39m\u001b[38;5;124m__main__\u001b[39m\u001b[38;5;124m'\u001b[39m:\n\u001b[0;32m---> 15\u001b[0m     main()\n",
      "Cell \u001b[0;32mIn[42], line 12\u001b[0m, in \u001b[0;36mmain\u001b[0;34m()\u001b[0m\n\u001b[1;32m      9\u001b[0m         averages \u001b[38;5;241m=\u001b[39m \u001b[38;5;28mfloat\u001b[39m(line[\u001b[38;5;241m2\u001b[39m:]\u001b[38;5;241m.\u001b[39mstrip())\n\u001b[1;32m     10\u001b[0m         averages\u001b[38;5;241m.\u001b[39mappend(averages)\n\u001b[0;32m---> 12\u001b[0m \u001b[38;5;28mprint\u001b[39m(averages)\n",
      "\u001b[0;31mUnboundLocalError\u001b[0m: cannot access local variable 'averages' where it is not associated with a value"
     ]
    }
   ],
   "source": [
    "import matplotlib.pyplot as plt \n",
    "\n",
    "averages = []\n",
    "\n",
    "def main():\n",
    "    with open ('1994_Weekly_Gas_Averages.txt', 'r') as infile:\n",
    "        for line in infile:\n",
    "            month_code = line[:2]\n",
    "            averages = float(line[2:].strip())\n",
    "            averages.append(averages)\n",
    "            \n",
    "    print(averages)\n",
    "    \n",
    "if __name__ == '__main__':\n",
    "    main()\n",
    "    "
   ]
  },
  {
   "cell_type": "code",
   "execution_count": null,
   "id": "3c08646c",
   "metadata": {},
   "outputs": [],
   "source": []
  }
 ],
 "metadata": {
  "kernelspec": {
   "display_name": "Python 3 (ipykernel)",
   "language": "python",
   "name": "python3"
  },
  "language_info": {
   "codemirror_mode": {
    "name": "ipython",
    "version": 3
   },
   "file_extension": ".py",
   "mimetype": "text/x-python",
   "name": "python",
   "nbconvert_exporter": "python",
   "pygments_lexer": "ipython3",
   "version": "3.11.4"
  }
 },
 "nbformat": 4,
 "nbformat_minor": 5
}
