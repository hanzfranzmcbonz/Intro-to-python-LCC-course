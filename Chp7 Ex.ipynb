{
 "cells": [
  {
   "cell_type": "markdown",
   "id": "31f1baab",
   "metadata": {},
   "source": [
    "# Coding Set 7 Exercises"
   ]
  },
  {
   "cell_type": "markdown",
   "id": "b45c3f93",
   "metadata": {},
   "source": [
    "## Algotithm Workbench"
   ]
  },
  {
   "cell_type": "markdown",
   "id": "c9249cd1",
   "metadata": {},
   "source": [
    "## Question 1: Write a statement that creates a list with the following strings: 'Einstein','Newton' ,'Copernicus', and 'Kepler'."
   ]
  },
  {
   "cell_type": "markdown",
   "id": "0dd304ed",
   "metadata": {},
   "source": [
    "Initial Thoughts: I will simply create a varible list1 and set it equal to a list with the strings for names. Then I will print it."
   ]
  },
  {
   "cell_type": "code",
   "execution_count": 2,
   "id": "6fc458ff",
   "metadata": {},
   "outputs": [
    {
     "name": "stdout",
     "output_type": "stream",
     "text": [
      "['Einstein', 'Newton', 'Copernicus', 'Kepler']\n"
     ]
    }
   ],
   "source": [
    "# Create list with names and set it equal\n",
    "# to the names variable\n",
    "names = ['Einstein', 'Newton', 'Copernicus', 'Kepler']\n",
    "\n",
    "# Print the names variable\n",
    "print(names)"
   ]
  },
  {
   "cell_type": "markdown",
   "id": "06b58903",
   "metadata": {},
   "source": [
    "## Question 7: What will the following code print?\n",
    "\n",
    "## list1 = [40, 50, 60]\n",
    "\n",
    "## list2 = [10, 20, 30]\n",
    "\n",
    "## list3 = list1 + list2\n",
    "\n",
    "## print(list3)"
   ]
  },
  {
   "cell_type": "markdown",
   "id": "28710d7c",
   "metadata": {},
   "source": [
    "Initial Thoughts: This code will produce this as the output: [40, 50, 60, 10, 20, 30]"
   ]
  },
  {
   "cell_type": "code",
   "execution_count": 1,
   "id": "aa63b54f",
   "metadata": {},
   "outputs": [
    {
     "name": "stdout",
     "output_type": "stream",
     "text": [
      "[40, 50, 60, 10, 20, 30]\n"
     ]
    }
   ],
   "source": [
    "list1 = [40, 50, 60]\n",
    "\n",
    "list2 = [10, 20, 30]\n",
    "\n",
    "list3 = list1 + list2\n",
    "\n",
    "print(list3)"
   ]
  },
  {
   "cell_type": "markdown",
   "id": "19d4dcba",
   "metadata": {},
   "source": [
    "## Programing Exeercises"
   ]
  },
  {
   "cell_type": "markdown",
   "id": "403f4a28",
   "metadata": {},
   "source": [
    "## Question 1: Total Sales\n",
    "\n",
    "## Design a program that asks the user to enter a store’s sales for each day of the week. The amounts should be stored in a list. Use a loop to calculate the total sales for the week and display the result."
   ]
  },
  {
   "cell_type": "markdown",
   "id": "392d010a",
   "metadata": {},
   "source": [
    "Intitial thoughts: Ok I have a vauge idea of how to do this but its gonna take some time, alot of iterations and some research. First we need to set the num_days which will always be set to 7 but could be changed later if we want. I don't know if I want to make a list of days of the week or not. Then we need a function that first gets the sales for the day of the week. Then we need a seprate eqaution which calculates the total sales and prints it. Lets see If I can do this.\n",
    "    "
   ]
  },
  {
   "cell_type": "code",
   "execution_count": 2,
   "id": "d243c572",
   "metadata": {},
   "outputs": [
    {
     "ename": "SyntaxError",
     "evalue": "incomplete input (2040725796.py, line 6)",
     "output_type": "error",
     "traceback": [
      "\u001b[0;36m  Cell \u001b[0;32mIn[2], line 6\u001b[0;36m\u001b[0m\n\u001b[0;31m    \u001b[0m\n\u001b[0m    ^\u001b[0m\n\u001b[0;31mSyntaxError\u001b[0m\u001b[0;31m:\u001b[0m incomplete input\n"
     ]
    }
   ],
   "source": [
    "# This program collects data from each day of the week\n",
    "# and calculates the total sales\n",
    "days = ['Sunday', 'Monday', 'Tuesday', 'Wednesday',\n",
    "            'Thursday', 'Friday', 'Saturday']\n",
    "def main():\n",
    "    "
   ]
  },
  {
   "cell_type": "code",
   "execution_count": 8,
   "id": "17d0de60",
   "metadata": {},
   "outputs": [
    {
     "name": "stdout",
     "output_type": "stream",
     "text": [
      "[0, 0, 0]\n"
     ]
    }
   ],
   "source": [
    "monday = (0)\n",
    "\n",
    "tuesday = (0)\n",
    "\n",
    "wednesday = (0)\n",
    "\n",
    "test_list = [monday, tuesday, wednesday]\n",
    "\n",
    "print(test_list)"
   ]
  },
  {
   "cell_type": "code",
   "execution_count": null,
   "id": "89b2b65d",
   "metadata": {},
   "outputs": [],
   "source": []
  }
 ],
 "metadata": {
  "kernelspec": {
   "display_name": "Python 3 (ipykernel)",
   "language": "python",
   "name": "python3"
  },
  "language_info": {
   "codemirror_mode": {
    "name": "ipython",
    "version": 3
   },
   "file_extension": ".py",
   "mimetype": "text/x-python",
   "name": "python",
   "nbconvert_exporter": "python",
   "pygments_lexer": "ipython3",
   "version": "3.11.4"
  }
 },
 "nbformat": 4,
 "nbformat_minor": 5
}
