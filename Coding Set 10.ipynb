{
 "cells": [
  {
   "cell_type": "code",
   "execution_count": 26,
   "id": "b762fd05",
   "metadata": {},
   "outputs": [
    {
     "name": "stdout",
     "output_type": "stream",
     "text": [
      "What is your Animals name? bob\n",
      "What type of Animal is it? dog\n",
      "How old is the Animal? 3\n",
      "The animals name is: bob:\n",
      "The animal is a dog:\n",
      "The animals age is 3:\n"
     ]
    }
   ],
   "source": [
    "import pet\n",
    "\n",
    "def main():\n",
    "    \n",
    "    name = input('What is your Animals name? ')\n",
    "    animal_type = input('What type of Animal is it? ')\n",
    "    age = input('How old is the Animal? ')\n",
    "    \n",
    "    my_pet = Pet(name, animal_type, age)\n",
    "    \n",
    "    print(f'The animals name is: {my_pet.get_name()}:')\n",
    "    print(f'The animal is a {my_pet.get_animal_type()}:')\n",
    "    print(f'The animals age is {my_pet.get_age()}:')\n",
    "    \n",
    "main()"
   ]
  },
  {
   "cell_type": "code",
   "execution_count": null,
   "id": "12c34559",
   "metadata": {},
   "outputs": [],
   "source": []
  },
  {
   "cell_type": "code",
   "execution_count": null,
   "id": "7b981942",
   "metadata": {},
   "outputs": [],
   "source": []
  }
 ],
 "metadata": {
  "kernelspec": {
   "display_name": "Python 3 (ipykernel)",
   "language": "python",
   "name": "python3"
  },
  "language_info": {
   "codemirror_mode": {
    "name": "ipython",
    "version": 3
   },
   "file_extension": ".py",
   "mimetype": "text/x-python",
   "name": "python",
   "nbconvert_exporter": "python",
   "pygments_lexer": "ipython3",
   "version": "3.11.4"
  }
 },
 "nbformat": 4,
 "nbformat_minor": 5
}
