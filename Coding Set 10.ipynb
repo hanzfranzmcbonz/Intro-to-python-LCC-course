{
 "cells": [
  {
   "cell_type": "markdown",
   "id": "382e1c7c",
   "metadata": {},
   "source": [
    "# Excercise 1: Pet Class:"
   ]
  },
  {
   "cell_type": "code",
   "execution_count": 26,
   "id": "712a6520",
   "metadata": {},
   "outputs": [
    {
     "name": "stdout",
     "output_type": "stream",
     "text": [
      "What is your Animals name? bob\n",
      "What type of Animal is it? dog\n",
      "How old is the Animal? 3\n",
      "The animals name is: bob:\n",
      "The animal is a dog:\n",
      "The animals age is 3:\n"
     ]
    }
   ],
   "source": [
    "# This program gets user inputs of an animal and use the Pet class to return an object\n",
    "\n",
    "# Inports the Pet class from pet.py\n",
    "import pet\n",
    "\n",
    "# This function gets user imputs and displays the atributes\n",
    "def main():\n",
    "    \n",
    "    # Gets user input for animal atributes\n",
    "    name = input('What is your Animals name? ')\n",
    "    animal_type = input('What type of Animal is it? ')\n",
    "    age = input('How old is the Animal? ')\n",
    "    \n",
    "    # Creates an object using the Pet class\n",
    "    my_pet = Pet(name, animal_type, age)\n",
    "    \n",
    "    # Displays the atributes of the object\n",
    "    print(f'The animals name is: {my_pet.get_name()}:')\n",
    "    print(f'The animal is a {my_pet.get_animal_type()}:')\n",
    "    print(f'The animals age is {my_pet.get_age()}:')\n",
    "\n",
    "# Everything starts here\n",
    "# Calls the main function\n",
    "main()"
   ]
  },
  {
   "cell_type": "code",
   "execution_count": null,
   "id": "88f2b71e",
   "metadata": {},
   "outputs": [],
   "source": []
  },
  {
   "cell_type": "markdown",
   "id": "eb578cbc",
   "metadata": {},
   "source": [
    "# Excercise 2: Car Class"
   ]
  },
  {
   "cell_type": "code",
   "execution_count": 28,
   "id": "f5baba3d",
   "metadata": {},
   "outputs": [
    {
     "ename": "NameError",
     "evalue": "name 'self' is not defined",
     "output_type": "error",
     "traceback": [
      "\u001b[0;31m---------------------------------------------------------------------------\u001b[0m",
      "\u001b[0;31mNameError\u001b[0m                                 Traceback (most recent call last)",
      "Cell \u001b[0;32mIn[28], line 14\u001b[0m\n\u001b[1;32m     11\u001b[0m         my_car\u001b[38;5;241m.\u001b[39mbrake()\n\u001b[1;32m     12\u001b[0m         \u001b[38;5;28mprint\u001b[39m(\u001b[38;5;124mf\u001b[39m\u001b[38;5;124m'\u001b[39m\u001b[38;5;124mCurrent Speed: \u001b[39m\u001b[38;5;132;01m{\u001b[39;00mmy_car\u001b[38;5;241m.\u001b[39mget_speed()\u001b[38;5;132;01m}\u001b[39;00m\u001b[38;5;124m'\u001b[39m)\n\u001b[0;32m---> 14\u001b[0m main()\n",
      "Cell \u001b[0;32mIn[28], line 8\u001b[0m, in \u001b[0;36mmain\u001b[0;34m()\u001b[0m\n\u001b[1;32m      6\u001b[0m \u001b[38;5;28;01mfor\u001b[39;00m i \u001b[38;5;129;01min\u001b[39;00m \u001b[38;5;28mrange\u001b[39m(\u001b[38;5;241m5\u001b[39m):\n\u001b[1;32m      7\u001b[0m     my_car\u001b[38;5;241m.\u001b[39maccelerate()\n\u001b[0;32m----> 8\u001b[0m     \u001b[38;5;28mprint\u001b[39m(\u001b[38;5;124mf\u001b[39m\u001b[38;5;124m'\u001b[39m\u001b[38;5;124mCurrent Speed: \u001b[39m\u001b[38;5;132;01m{\u001b[39;00mmy_car\u001b[38;5;241m.\u001b[39mget_speed()\u001b[38;5;132;01m}\u001b[39;00m\u001b[38;5;124m'\u001b[39m)\n\u001b[1;32m     10\u001b[0m \u001b[38;5;28;01mfor\u001b[39;00m i \u001b[38;5;129;01min\u001b[39;00m \u001b[38;5;28mrange\u001b[39m(\u001b[38;5;241m5\u001b[39m):\n\u001b[1;32m     11\u001b[0m     my_car\u001b[38;5;241m.\u001b[39mbrake()\n",
      "File \u001b[0;32m~/Documents/GitHub/Intro-to-python-LCC-course/car.py:22\u001b[0m, in \u001b[0;36mCar.get_speed\u001b[0;34m(slef)\u001b[0m\n\u001b[1;32m     21\u001b[0m \u001b[38;5;28;01mdef\u001b[39;00m \u001b[38;5;21mget_speed\u001b[39m(slef):\n\u001b[0;32m---> 22\u001b[0m     \u001b[38;5;28;01mreturn\u001b[39;00m \u001b[38;5;28mself\u001b[39m\u001b[38;5;241m.\u001b[39m__speed\n",
      "\u001b[0;31mNameError\u001b[0m: name 'self' is not defined"
     ]
    }
   ],
   "source": [
    "import car\n",
    "\n",
    "def main():\n",
    "    my_car = car.Car(2023, \"Lamborghini\")\n",
    "    \n",
    "    for i in range(5):\n",
    "        my_car.accelerate()\n",
    "        print(f'Current Speed: {my_car.get_speed()}')\n",
    "        \n",
    "    for i in range(5):\n",
    "        my_car.brake()\n",
    "        print(f'Current Speed: {my_car.get_speed()}')\n",
    "              \n",
    "main()"
   ]
  },
  {
   "cell_type": "code",
   "execution_count": null,
   "id": "75e2633d",
   "metadata": {},
   "outputs": [],
   "source": []
  }
 ],
 "metadata": {
  "kernelspec": {
   "display_name": "Python 3 (ipykernel)",
   "language": "python",
   "name": "python3"
  },
  "language_info": {
   "codemirror_mode": {
    "name": "ipython",
    "version": 3
   },
   "file_extension": ".py",
   "mimetype": "text/x-python",
   "name": "python",
   "nbconvert_exporter": "python",
   "pygments_lexer": "ipython3",
   "version": "3.11.4"
  }
 },
 "nbformat": 4,
 "nbformat_minor": 5
}
