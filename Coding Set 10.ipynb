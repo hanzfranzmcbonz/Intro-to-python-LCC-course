{
 "cells": [
  {
   "cell_type": "code",
   "execution_count": 6,
   "id": "ded7790e",
   "metadata": {},
   "outputs": [
    {
     "name": "stdout",
     "output_type": "stream",
     "text": [
      "What is your Animals name? sam\n",
      "What type of Animal is it? dog\n",
      "How old is the Animal? 4\n"
     ]
    },
    {
     "ename": "AttributeError",
     "evalue": "module 'pet' has no attribute 'Pet'",
     "output_type": "error",
     "traceback": [
      "\u001b[0;31m---------------------------------------------------------------------------\u001b[0m",
      "\u001b[0;31mAttributeError\u001b[0m                            Traceback (most recent call last)",
      "Cell \u001b[0;32mIn[6], line 11\u001b[0m\n\u001b[1;32m      7\u001b[0m     age \u001b[38;5;241m=\u001b[39m \u001b[38;5;28minput\u001b[39m(\u001b[38;5;124m'\u001b[39m\u001b[38;5;124mHow old is the Animal? \u001b[39m\u001b[38;5;124m'\u001b[39m)\n\u001b[1;32m      9\u001b[0m     my_pet \u001b[38;5;241m=\u001b[39m pet\u001b[38;5;241m.\u001b[39mPet(name, animal_type, age)\n\u001b[0;32m---> 11\u001b[0m main()\n",
      "Cell \u001b[0;32mIn[6], line 9\u001b[0m, in \u001b[0;36mmain\u001b[0;34m()\u001b[0m\n\u001b[1;32m      6\u001b[0m animal_type \u001b[38;5;241m=\u001b[39m \u001b[38;5;28minput\u001b[39m(\u001b[38;5;124m'\u001b[39m\u001b[38;5;124mWhat type of Animal is it? \u001b[39m\u001b[38;5;124m'\u001b[39m)\n\u001b[1;32m      7\u001b[0m age \u001b[38;5;241m=\u001b[39m \u001b[38;5;28minput\u001b[39m(\u001b[38;5;124m'\u001b[39m\u001b[38;5;124mHow old is the Animal? \u001b[39m\u001b[38;5;124m'\u001b[39m)\n\u001b[0;32m----> 9\u001b[0m my_pet \u001b[38;5;241m=\u001b[39m pet\u001b[38;5;241m.\u001b[39mPet(name, animal_type, age)\n",
      "\u001b[0;31mAttributeError\u001b[0m: module 'pet' has no attribute 'Pet'"
     ]
    }
   ],
   "source": [
    "import pet\n",
    "\n",
    "def main():\n",
    "    \n",
    "    name = input('What is your Animals name? ')\n",
    "    animal_type = input('What type of Animal is it? ')\n",
    "    age = input('How old is the Animal? ')\n",
    "    \n",
    "    my_pet = pet.Pet(name, animal_type, age)\n",
    "    \n",
    "main()"
   ]
  },
  {
   "cell_type": "code",
   "execution_count": null,
   "id": "4d4ecfcb",
   "metadata": {},
   "outputs": [],
   "source": []
  }
 ],
 "metadata": {
  "kernelspec": {
   "display_name": "Python 3 (ipykernel)",
   "language": "python",
   "name": "python3"
  },
  "language_info": {
   "codemirror_mode": {
    "name": "ipython",
    "version": 3
   },
   "file_extension": ".py",
   "mimetype": "text/x-python",
   "name": "python",
   "nbconvert_exporter": "python",
   "pygments_lexer": "ipython3",
   "version": "3.11.4"
  }
 },
 "nbformat": 4,
 "nbformat_minor": 5
}
