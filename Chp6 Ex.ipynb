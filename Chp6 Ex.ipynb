{
 "cells": [
  {
   "cell_type": "markdown",
   "id": "917500e2",
   "metadata": {},
   "source": [
    "# Coding Set 6: Chapter 6 Exsamples\n"
   ]
  },
  {
   "cell_type": "markdown",
   "id": "d7b54a54",
   "metadata": {},
   "source": [
    "## Algorithm Workbench"
   ]
  },
  {
   "cell_type": "markdown",
   "id": "d7e6f793",
   "metadata": {},
   "source": [
    "## Question 1: myname.txt\n",
    "## Write a program that opens an output file with the filename myname.txt, writes your name to the file, then closes the file."
   ]
  },
  {
   "cell_type": "markdown",
   "id": "a29b7fa9",
   "metadata": {},
   "source": [
    "initital thoughts: Yeah I got this just a quick writing promt and itll do it."
   ]
  },
  {
   "cell_type": "code",
   "execution_count": 1,
   "id": "a56d6779",
   "metadata": {},
   "outputs": [],
   "source": [
    "def main():\n",
    "    with open('myname.txt', 'w') as outfile: \n",
    "        \n",
    "        outfile.write('Dillon Blair')\n",
    "        \n",
    "if __name__ == '__main__':\n",
    "    main()\n",
    "    "
   ]
  },
  {
   "cell_type": "code",
   "execution_count": null,
   "id": "8d514ad8",
   "metadata": {},
   "outputs": [],
   "source": []
  }
 ],
 "metadata": {
  "kernelspec": {
   "display_name": "Python 3 (ipykernel)",
   "language": "python",
   "name": "python3"
  },
  "language_info": {
   "codemirror_mode": {
    "name": "ipython",
    "version": 3
   },
   "file_extension": ".py",
   "mimetype": "text/x-python",
   "name": "python",
   "nbconvert_exporter": "python",
   "pygments_lexer": "ipython3",
   "version": "3.11.4"
  }
 },
 "nbformat": 4,
 "nbformat_minor": 5
}
