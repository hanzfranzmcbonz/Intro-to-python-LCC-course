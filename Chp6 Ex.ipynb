{
 "cells": [
  {
   "cell_type": "markdown",
   "id": "917500e2",
   "metadata": {},
   "source": [
    "# Coding Set 6: Chapter 6 Exsamples\n"
   ]
  },
  {
   "cell_type": "markdown",
   "id": "d7b54a54",
   "metadata": {},
   "source": [
    "## Algorithm Workbench"
   ]
  },
  {
   "cell_type": "markdown",
   "id": "d7e6f793",
   "metadata": {},
   "source": [
    "## Question 1: myname.txt write\n",
    "## Write a program that opens an output file with the filename myname.txt, writes your name to the file, then closes the file."
   ]
  },
  {
   "cell_type": "markdown",
   "id": "a29b7fa9",
   "metadata": {},
   "source": [
    "initital thoughts: Yeah I got this just a quick writing promt and itll do it. I found out later that with is an amazing tool. "
   ]
  },
  {
   "cell_type": "code",
   "execution_count": 1,
   "id": "a56d6779",
   "metadata": {},
   "outputs": [],
   "source": [
    "# This program writes my name in file called myname.txt\n",
    "def main():\n",
    "    # Opens the file named myname.txt \n",
    "    # With function tells python to stop using file after done\n",
    "    with open('myname.txt', 'w') as outfile: \n",
    "        \n",
    "        # Writes my name in the file on line 1\n",
    "        outfile.write('Dillon Blair')\n",
    "        \n",
    "# Call the main function\n",
    "if __name__ == '__main__':\n",
    "    main()"
   ]
  },
  {
   "cell_type": "markdown",
   "id": "f3a4e91f",
   "metadata": {},
   "source": [
    "## Question 2: myname.txt read\n",
    "\n",
    "## Write a program that opens the myname.txt file that was created by the program in problem 1, reads your name from the file, displays the name on the screen, then closes the file."
   ]
  },
  {
   "cell_type": "markdown",
   "id": "9c09fb61",
   "metadata": {},
   "source": [
    "Initial Thoughts: I probrably should have chosen a harder question but oh well. This question in almost identical as the last one but instead of opening it a with the write mode we will open it with the read mode. Then just change the write statement to a readline statement and print. We don't need to close it because we are using the WITH function. ALL HAIL THE MIGHTY WITH STATEMENT!!!!!!"
   ]
  },
  {
   "cell_type": "code",
   "execution_count": 5,
   "id": "331afe00",
   "metadata": {},
   "outputs": [
    {
     "name": "stdout",
     "output_type": "stream",
     "text": [
      "Dillon Blair\n"
     ]
    }
   ],
   "source": [
    "# This program reads my name in file called myname.txt\n",
    "def main():\n",
    "    # Opens the file named myname.txt \n",
    "    # With function tells python to stop using file after done\n",
    "    with open('myname.txt', 'r') as infile: \n",
    "        \n",
    "        # Reads my name in the file\n",
    "        file_contents = infile.read()\n",
    "        \n",
    "        # Prints the text in myname.txt\n",
    "        print(f'{file_contents}')\n",
    "        \n",
    "# Call the main function\n",
    "if __name__ == '__main__':\n",
    "    main()"
   ]
  },
  {
   "cell_type": "markdown",
   "id": "fdbcb547",
   "metadata": {},
   "source": [
    "## Programing Exercises (Exercise, more like extra frys)"
   ]
  },
  {
   "cell_type": "code",
   "execution_count": 10,
   "id": "7eefc864",
   "metadata": {},
   "outputs": [
    {
     "name": "stdout",
     "output_type": "stream",
     "text": [
      "Thats a very funny joke Dillon, here is your award for most funny human\n",
      " \n",
      "             ___________\n",
      "            '._==_==_=_.'\n",
      "            .-\\:      /-.\n",
      "           | (|:.     |) |\n",
      "            '-|:.     |-'\n",
      "              \\::.    /\n",
      "               '::. .'\n",
      "                 ) (\n",
      "               _.' '._\n",
      "              `\"\"\"\"\"\"\"`\n",
      "\n"
     ]
    }
   ],
   "source": [
    "print('Thats a very funny joke Dillon, here is your award for most funny human')\n",
    "ascii_art =''' \n",
    "             ___________\n",
    "            '._==_==_=_.'\n",
    "            .-\\:      /-.\n",
    "           | (|:.     |) |\n",
    "            '-|:.     |-'\n",
    "              \\::.    /\n",
    "               '::. .'\n",
    "                 ) (\n",
    "               _.' '._\n",
    "              `\"\"\"\"\"\"\"`\n",
    "'''\n",
    "print(ascii_art)"
   ]
  },
  {
   "cell_type": "markdown",
   "id": "d846b610",
   "metadata": {},
   "source": [
    "## Question 1: File Display\n",
    "## Assume a file containing a series of integers is named  and exists on the computer’s disk. Write a program that displays all of the numbers in the file."
   ]
  },
  {
   "attachments": {},
   "cell_type": "markdown",
   "id": "92ea0464",
   "metadata": {},
   "source": [
    "Initial Thoughts: Ok I have a choice to make, do I complete this question with malicious compliance and do exactly what it asks or do the responsible thing and make a named file with all the data. It will be more work, but I guess it’s worth the extra practice. So, this question has multiple parts. first, I need to create a function that will create and write a series of numbers on a data sheet then closes the text file. Then I need a separate function what will then open that txt file and display the data. It seems counterproductive to make two separate functions to do this, so I’ll do some research to find out if I can do it all with one function."
   ]
  },
  {
   "cell_type": "code",
   "execution_count": 14,
   "id": "d45530e3",
   "metadata": {},
   "outputs": [
    {
     "name": "stdout",
     "output_type": "stream",
     "text": [
      "Please enter a number: 2\n",
      "Please enter another number: 3\n",
      "Please enter another number: 3\n",
      "line1: 2\n",
      "line2: 3\n",
      "line3: 3\n"
     ]
    }
   ],
   "source": [
    "# Gets user input for the first number as integer\n",
    "# also stores the number as a variable\n",
    "line1 = int(input('Please enter a number: '))\n",
    "\n",
    "# Gets user input for the second number as integer\n",
    "# also stores the number as a variable\n",
    "\n",
    "line2 = int(input('Please enter another number: '))\n",
    "\n",
    "# Gets user input for the third number as integer\n",
    "# also stores the number as a variable\n",
    "line3 = int(input('Please enter another number: '))\n",
    "\n",
    "# This function creates and opens a file named integersfile.txt\n",
    "# and writes the user input data\n",
    "def main():\n",
    "    \n",
    "    # Opens the file named integersfile.txt with write mode\n",
    "    # also uses the MIGHTY WITH STATEMENT\n",
    "    with open('integersfile.txt', 'w') as outfile:\n",
    "        \n",
    "        # Writes user input for line1 in the file and creates a new line\n",
    "        outfile.write(f'{line1}\\n')\n",
    "        \n",
    "        # Writes user input for line2 in the file and creates a new line\n",
    "        outfile.write(f'{line2}\\n')\n",
    "        \n",
    "        # Writes user input for line3 in the file and creates a new line\n",
    "        outfile.write(f'{line3}\\n')\n",
    "        \n",
    "# This function opens the the file named integerfile.txt and reads the data line by line\n",
    "# also prints the data into this file\n",
    "def main2():\n",
    "    \n",
    "    # Opens the file named integerfile.txt with the read mode\n",
    "    # also ALL HAIL THE MIGHTY WITH STATEMENT!!!\n",
    "    with open('integersfile.txt', 'r') as infile:\n",
    "        \n",
    "        # Reads lines 1-3 and strips the \\n then sets them equal to variables\n",
    "        readline_line1 = int(infile.readline().strip())\n",
    "        readline_line2 = int(infile.readline().strip())\n",
    "        readline_line3 = int(infile.readline().strip())\n",
    "    \n",
    "    # Prints the data into this file\n",
    "    print(f'line1: {readline_line1}')\n",
    "    print(f'line2: {readline_line2}')\n",
    "    print(f'line3: {readline_line3}')\n",
    "\n",
    "# Call the main and main2 functions\n",
    "if __name__ == '__main__':\n",
    "    main()\n",
    "\n",
    "    main2()\n",
    "        "
   ]
  },
  {
   "cell_type": "markdown",
   "id": "8aad082c",
   "metadata": {},
   "source": [
    "## Question 6: Average of Numbers\n",
    "\n",
    "## Assume a file containing a series of integers is named  and exists on the computer’s disk. Write a program that calculates the average of all the numbers stored in the file."
   ]
  },
  {
   "cell_type": "markdown",
   "id": "9d4affa8",
   "metadata": {},
   "source": [
    "Initial Thoughts: Ok im not creating a new document this time, I've got too many files on my computer now. I will just use the file I created in the last question and get the average of the numbers. I will need a simple function that reads the numbers with int(readline) plus the strip and set them equal to variables then find the average of the numbers using an equation or posibly use the import statitics."
   ]
  },
  {
   "cell_type": "code",
   "execution_count": 17,
   "id": "f0a02e77",
   "metadata": {},
   "outputs": [
    {
     "ename": "TypeError",
     "evalue": "'float' object is not iterable",
     "output_type": "error",
     "traceback": [
      "\u001b[0;31m---------------------------------------------------------------------------\u001b[0m",
      "\u001b[0;31mTypeError\u001b[0m                                 Traceback (most recent call last)",
      "Cell \u001b[0;32mIn[17], line 15\u001b[0m\n\u001b[1;32m     12\u001b[0m     \u001b[38;5;28mprint\u001b[39m(\u001b[38;5;124mf\u001b[39m\u001b[38;5;124m'\u001b[39m\u001b[38;5;124maverage: \u001b[39m\u001b[38;5;132;01m{\u001b[39;00maverage\u001b[38;5;132;01m}\u001b[39;00m\u001b[38;5;124m'\u001b[39m)\n\u001b[1;32m     14\u001b[0m \u001b[38;5;28;01mif\u001b[39;00m \u001b[38;5;18m__name__\u001b[39m \u001b[38;5;241m==\u001b[39m \u001b[38;5;124m'\u001b[39m\u001b[38;5;124m__main__\u001b[39m\u001b[38;5;124m'\u001b[39m:\n\u001b[0;32m---> 15\u001b[0m     main()\n",
      "Cell \u001b[0;32mIn[17], line 10\u001b[0m, in \u001b[0;36mmain\u001b[0;34m()\u001b[0m\n\u001b[1;32m      7\u001b[0m     readline_line2 \u001b[38;5;241m=\u001b[39m \u001b[38;5;28mfloat\u001b[39m(infile\u001b[38;5;241m.\u001b[39mreadline()\u001b[38;5;241m.\u001b[39mstrip())\n\u001b[1;32m      8\u001b[0m     readline_line3 \u001b[38;5;241m=\u001b[39m \u001b[38;5;28mfloat\u001b[39m(infile\u001b[38;5;241m.\u001b[39mreadline()\u001b[38;5;241m.\u001b[39mstrip())\n\u001b[0;32m---> 10\u001b[0m average \u001b[38;5;241m=\u001b[39m statistics\u001b[38;5;241m.\u001b[39mmean(readline_line1 \u001b[38;5;241m+\u001b[39m readline_line2 \u001b[38;5;241m+\u001b[39m readline_line3)\n\u001b[1;32m     12\u001b[0m \u001b[38;5;28mprint\u001b[39m(\u001b[38;5;124mf\u001b[39m\u001b[38;5;124m'\u001b[39m\u001b[38;5;124maverage: \u001b[39m\u001b[38;5;132;01m{\u001b[39;00maverage\u001b[38;5;132;01m}\u001b[39;00m\u001b[38;5;124m'\u001b[39m)\n",
      "File \u001b[0;32m~/anaconda3/lib/python3.11/statistics.py:430\u001b[0m, in \u001b[0;36mmean\u001b[0;34m(data)\u001b[0m\n\u001b[1;32m    414\u001b[0m \u001b[38;5;28;01mdef\u001b[39;00m \u001b[38;5;21mmean\u001b[39m(data):\n\u001b[1;32m    415\u001b[0m \u001b[38;5;250m    \u001b[39m\u001b[38;5;124;03m\"\"\"Return the sample arithmetic mean of data.\u001b[39;00m\n\u001b[1;32m    416\u001b[0m \n\u001b[1;32m    417\u001b[0m \u001b[38;5;124;03m    >>> mean([1, 2, 3, 4, 4])\u001b[39;00m\n\u001b[0;32m   (...)\u001b[0m\n\u001b[1;32m    428\u001b[0m \u001b[38;5;124;03m    If ``data`` is empty, StatisticsError will be raised.\u001b[39;00m\n\u001b[1;32m    429\u001b[0m \u001b[38;5;124;03m    \"\"\"\u001b[39;00m\n\u001b[0;32m--> 430\u001b[0m     T, total, n \u001b[38;5;241m=\u001b[39m _sum(data)\n\u001b[1;32m    431\u001b[0m     \u001b[38;5;28;01mif\u001b[39;00m n \u001b[38;5;241m<\u001b[39m \u001b[38;5;241m1\u001b[39m:\n\u001b[1;32m    432\u001b[0m         \u001b[38;5;28;01mraise\u001b[39;00m StatisticsError(\u001b[38;5;124m'\u001b[39m\u001b[38;5;124mmean requires at least one data point\u001b[39m\u001b[38;5;124m'\u001b[39m)\n",
      "File \u001b[0;32m~/anaconda3/lib/python3.11/statistics.py:191\u001b[0m, in \u001b[0;36m_sum\u001b[0;34m(data)\u001b[0m\n\u001b[1;32m    189\u001b[0m partials \u001b[38;5;241m=\u001b[39m {}\n\u001b[1;32m    190\u001b[0m partials_get \u001b[38;5;241m=\u001b[39m partials\u001b[38;5;241m.\u001b[39mget\n\u001b[0;32m--> 191\u001b[0m \u001b[38;5;28;01mfor\u001b[39;00m typ, values \u001b[38;5;129;01min\u001b[39;00m groupby(data, \u001b[38;5;28mtype\u001b[39m):\n\u001b[1;32m    192\u001b[0m     types_add(typ)\n\u001b[1;32m    193\u001b[0m     \u001b[38;5;28;01mfor\u001b[39;00m n, d \u001b[38;5;129;01min\u001b[39;00m \u001b[38;5;28mmap\u001b[39m(_exact_ratio, values):\n",
      "\u001b[0;31mTypeError\u001b[0m: 'float' object is not iterable"
     ]
    }
   ],
   "source": [
    "import statistics\n",
    "\n",
    "def main():\n",
    "    with open('integersfile.txt', 'r') as infile:\n",
    "        \n",
    "        readline_line1 = float(infile.readline().strip())\n",
    "        readline_line2 = float(infile.readline().strip())\n",
    "        readline_line3 = float(infile.readline().strip())\n",
    "        \n",
    "    average = statistics.mean(readline_line1 + readline_line2 + readline_line3)\n",
    "    \n",
    "    print(f'average: {average}')\n",
    "    \n",
    "if __name__ == '__main__':\n",
    "    main()"
   ]
  },
  {
   "cell_type": "code",
   "execution_count": null,
   "id": "f2693674",
   "metadata": {},
   "outputs": [],
   "source": []
  }
 ],
 "metadata": {
  "kernelspec": {
   "display_name": "Python 3 (ipykernel)",
   "language": "python",
   "name": "python3"
  },
  "language_info": {
   "codemirror_mode": {
    "name": "ipython",
    "version": 3
   },
   "file_extension": ".py",
   "mimetype": "text/x-python",
   "name": "python",
   "nbconvert_exporter": "python",
   "pygments_lexer": "ipython3",
   "version": "3.11.4"
  }
 },
 "nbformat": 4,
 "nbformat_minor": 5
}
