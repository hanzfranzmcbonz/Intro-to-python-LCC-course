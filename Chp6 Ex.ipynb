{
 "cells": [
  {
   "cell_type": "markdown",
   "id": "917500e2",
   "metadata": {},
   "source": [
    "# Coding Set 6: Chapter 6 Exsamples\n"
   ]
  },
  {
   "cell_type": "markdown",
   "id": "d7b54a54",
   "metadata": {},
   "source": [
    "## Algorithm Workbench"
   ]
  },
  {
   "cell_type": "markdown",
   "id": "d7e6f793",
   "metadata": {},
   "source": [
    "## Question 1: myname.txt write\n",
    "## Write a program that opens an output file with the filename myname.txt, writes your name to the file, then closes the file."
   ]
  },
  {
   "cell_type": "markdown",
   "id": "a29b7fa9",
   "metadata": {},
   "source": [
    "initital thoughts: Yeah I got this just a quick writing promt and itll do it. I found out later that with is an amazing tool. "
   ]
  },
  {
   "cell_type": "code",
   "execution_count": 1,
   "id": "a56d6779",
   "metadata": {},
   "outputs": [],
   "source": [
    "# This program writes my name in file called myname.txt\n",
    "def main():\n",
    "    # Opens the file named myname.txt \n",
    "    # With function tells python to stop using file after done\n",
    "    with open('myname.txt', 'w') as outfile: \n",
    "        \n",
    "        # Writes my name in the file on line 1\n",
    "        outfile.write('Dillon Blair')\n",
    "        \n",
    "# Call the main function\n",
    "if __name__ == '__main__':\n",
    "    main()"
   ]
  },
  {
   "cell_type": "markdown",
   "id": "2d0d0749",
   "metadata": {},
   "source": [
    "## Question 2: myname.txt read\n",
    "\n",
    "## Write a program that opens the myname.txt file that was created by the program in problem 1, reads your name from the file, displays the name on the screen, then closes the file."
   ]
  },
  {
   "cell_type": "markdown",
   "id": "9245c9c3",
   "metadata": {},
   "source": [
    "Initial Thoughts: I probrably should have chosen a harder question but oh well. This question in almost identical as the last one but instead of opening it a with the write mode we will open it with the read mode. Then just change the write statement to a readline statement and print. We don't need to close it because we are using the WITH function. ALL HAIL THE MIGHTY WITH STATEMENT!!!!!!"
   ]
  },
  {
   "cell_type": "code",
   "execution_count": 5,
   "id": "8144fb41",
   "metadata": {},
   "outputs": [
    {
     "name": "stdout",
     "output_type": "stream",
     "text": [
      "Dillon Blair\n"
     ]
    }
   ],
   "source": [
    "# This program reads my name in file called myname.txt\n",
    "def main():\n",
    "    # Opens the file named myname.txt \n",
    "    # With function tells python to stop using file after done\n",
    "    with open('myname.txt', 'r') as infile: \n",
    "        \n",
    "        # Reads my name in the file\n",
    "        file_contents = infile.read()\n",
    "        \n",
    "        # Prints the text in myname.txt\n",
    "        print(f'{file_contents}')\n",
    "        \n",
    "# Call the main function\n",
    "if __name__ == '__main__':\n",
    "    main()"
   ]
  },
  {
   "cell_type": "markdown",
   "id": "67ad11a5",
   "metadata": {},
   "source": [
    "## Programing Exercises (Exercise, more like extra frys)"
   ]
  },
  {
   "cell_type": "code",
   "execution_count": 10,
   "id": "f67fb350",
   "metadata": {},
   "outputs": [
    {
     "name": "stdout",
     "output_type": "stream",
     "text": [
      "Thats a very funny joke Dillon, here is your award for most funny human\n",
      " \n",
      "             ___________\n",
      "            '._==_==_=_.'\n",
      "            .-\\:      /-.\n",
      "           | (|:.     |) |\n",
      "            '-|:.     |-'\n",
      "              \\::.    /\n",
      "               '::. .'\n",
      "                 ) (\n",
      "               _.' '._\n",
      "              `\"\"\"\"\"\"\"`\n",
      "\n"
     ]
    }
   ],
   "source": [
    "print('Thats a very funny joke Dillon, here is your award for most funny human')\n",
    "ascii_art =''' \n",
    "             ___________\n",
    "            '._==_==_=_.'\n",
    "            .-\\:      /-.\n",
    "           | (|:.     |) |\n",
    "            '-|:.     |-'\n",
    "              \\::.    /\n",
    "               '::. .'\n",
    "                 ) (\n",
    "               _.' '._\n",
    "              `\"\"\"\"\"\"\"`\n",
    "'''\n",
    "print(ascii_art)"
   ]
  },
  {
   "cell_type": "markdown",
   "id": "94e8aa4f",
   "metadata": {},
   "source": [
    "## Question 1: File Display\n",
    "## Assume a file containing a series of integers is named  and exists on the computer’s disk. Write a program that displays all of the numbers in the file."
   ]
  },
  {
   "attachments": {},
   "cell_type": "markdown",
   "id": "666a458f",
   "metadata": {},
   "source": [
    "Initial Thoughts: Ok I have a choice to make, do I complete this question with malicious compliance and do exactly what it asks or do the responsible thing and make a named file with all the data. It will be more work, but I guess it’s worth the extra practice. So, this question has multiple parts. first, I need to create a function that will create and write a series of numbers on a data sheet then closes the text file. Then I need a separate function what will then open that txt file and display the data. It seems counterproductive to make two separate functions to do this, so I’ll do some research to find out if I can do it all with one function."
   ]
  },
  {
   "cell_type": "code",
   "execution_count": null,
   "id": "7e72adc6",
   "metadata": {},
   "outputs": [],
   "source": []
  }
 ],
 "metadata": {
  "kernelspec": {
   "display_name": "Python 3 (ipykernel)",
   "language": "python",
   "name": "python3"
  },
  "language_info": {
   "codemirror_mode": {
    "name": "ipython",
    "version": 3
   },
   "file_extension": ".py",
   "mimetype": "text/x-python",
   "name": "python",
   "nbconvert_exporter": "python",
   "pygments_lexer": "ipython3",
   "version": "3.11.4"
  }
 },
 "nbformat": 4,
 "nbformat_minor": 5
}
