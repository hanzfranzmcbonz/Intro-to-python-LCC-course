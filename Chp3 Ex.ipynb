{
 "cells": [
  {
   "cell_type": "markdown",
   "id": "0a74c414",
   "metadata": {},
   "source": [
    "# Code Set 3 (Chapter 3 Questions)"
   ]
  },
  {
   "cell_type": "markdown",
   "id": "d8bbf833",
   "metadata": {},
   "source": [
    "## Question 4: The following code contains several nested  statements. Unfortunately, it was written without proper alignment and indentation. Rewrite the code and use the proper conventions of alignment and indentation. "
   ]
  },
  {
   "cell_type": "code",
   "execution_count": 18,
   "id": "99bc62ef",
   "metadata": {},
   "outputs": [
    {
     "ename": "NameError",
     "evalue": "name 'score' is not defined",
     "output_type": "error",
     "traceback": [
      "\u001b[0;31m---------------------------------------------------------------------------\u001b[0m",
      "\u001b[0;31mNameError\u001b[0m                                 Traceback (most recent call last)",
      "Cell \u001b[0;32mIn[18], line 2\u001b[0m\n\u001b[1;32m      1\u001b[0m \u001b[38;5;66;03m#Checks what your score is and tells you your grade\u001b[39;00m\n\u001b[0;32m----> 2\u001b[0m \u001b[38;5;28;01mif\u001b[39;00m score \u001b[38;5;241m>\u001b[39m\u001b[38;5;241m=\u001b[39m A_score: \u001b[38;5;66;03m#Check if user score is A\u001b[39;00m\n\u001b[1;32m      3\u001b[0m     \u001b[38;5;28mprint\u001b[39m(\u001b[38;5;124m'\u001b[39m\u001b[38;5;124mYour grade is A.\u001b[39m\u001b[38;5;124m'\u001b[39m) \u001b[38;5;66;03m#prints grade if A\u001b[39;00m\n\u001b[1;32m      4\u001b[0m \u001b[38;5;28;01melse\u001b[39;00m:\n",
      "\u001b[0;31mNameError\u001b[0m: name 'score' is not defined"
     ]
    }
   ],
   "source": [
    "#Checks what your score is and tells you your grade\n",
    "if score >= A_score: #Check if user score is A\n",
    "    print('Your grade is A.') #prints grade if A\n",
    "else:\n",
    "    if score >= B_score: #Checks if user score is B\n",
    "        print('Your grade is B.') #prints grade if B\n",
    "    else:\n",
    "        if score >= C_score: #Checks if user score is C\n",
    "            print('Your grade is C.') #prints grade if C\n",
    "        else:\n",
    "            if score >= D_score: #Checks if user score is D\n",
    "                print('Your score is D.') #prints grade if D\n",
    "            else:\n",
    "                print('Your grade is F') #prints grade if F"
   ]
  },
  {
   "cell_type": "markdown",
   "id": "241a67b9",
   "metadata": {},
   "source": [
    "### Code doesn't work properly with out an input to set the variable score. However the question does ask us to include one. "
   ]
  },
  {
   "cell_type": "markdown",
   "id": "ab988606",
   "metadata": {},
   "source": [
    "## Question 5: "
   ]
  }
 ],
 "metadata": {
  "kernelspec": {
   "display_name": "Python 3 (ipykernel)",
   "language": "python",
   "name": "python3"
  },
  "language_info": {
   "codemirror_mode": {
    "name": "ipython",
    "version": 3
   },
   "file_extension": ".py",
   "mimetype": "text/x-python",
   "name": "python",
   "nbconvert_exporter": "python",
   "pygments_lexer": "ipython3",
   "version": "3.11.4"
  }
 },
 "nbformat": 4,
 "nbformat_minor": 5
}
