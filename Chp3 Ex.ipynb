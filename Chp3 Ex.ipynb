{
 "cells": [
  {
   "cell_type": "markdown",
   "id": "ed5af85d",
   "metadata": {},
   "source": [
    "# Code Set 3 (Chapter 3 Questions)\n",
    "## Algorithm Workbench"
   ]
  },
  {
   "cell_type": "markdown",
   "id": "ef4f595a",
   "metadata": {},
   "source": [
    "## Question 4: The following code contains several nested  statements. Unfortunately, it was written without proper alignment and indentation. Rewrite the code and use the proper conventions of alignment and indentation. "
   ]
  },
  {
   "cell_type": "code",
   "execution_count": null,
   "id": "49adb171",
   "metadata": {},
   "outputs": [],
   "source": [
    "#Checks what your score is and tells you your grade\n",
    "if score >= A_score: #Check if user score is A\n",
    "    print('Your grade is A.') #prints grade if A\n",
    "else:\n",
    "    if score >= B_score: #Checks if user score is B\n",
    "        print('Your grade is B.') #prints grade if B\n",
    "    else:\n",
    "        if score >= C_score: #Checks if user score is C\n",
    "            print('Your grade is C.') #prints grade if C\n",
    "        else:\n",
    "            if score >= D_score: #Checks if user score is D\n",
    "                print('Your score is D.') #prints grade if D\n",
    "            else:\n",
    "                print('Your grade is F') #prints grade if F"
   ]
  },
  {
   "cell_type": "markdown",
   "id": "7adc8bd3",
   "metadata": {},
   "source": [
    "### Code doesn't work properly with out an input to set the variable score. However the question does ask us to include one. "
   ]
  },
  {
   "cell_type": "markdown",
   "id": "395599f6",
   "metadata": {},
   "source": [
    "## Question 5: Write nested decision structures that perform the following: If amount1 is greater than 10 and amount2 is less than 100, display the greater of amount1 and amount2."
   ]
  },
  {
   "cell_type": "code",
   "execution_count": null,
   "id": "3f2e5eef",
   "metadata": {},
   "outputs": [],
   "source": [
    "#Get user imput for variables amount1 and amount2 \n",
    "amount1 = int(input('What is the amount of amount 1?'))\n",
    "amount2 = int(input('What is the amount of amount 2?'))\n",
    "#check if a is greater than 10\n",
    "if amount1 > 10:\n",
    "    if amount2 < 100: #check if b is less than 100\n",
    "        if amount1 > amount2:\n",
    "            print('the greater amount is:', amount1) #print the greater of a and b \n",
    "        else:\n",
    "            print('The greater amount is:', amount2)\n",
    "    else:\n",
    "        print('amount1 is less than 10')\n",
    "else:\n",
    "    print('amount2 is greater than 100')"
   ]
  },
  {
   "cell_type": "markdown",
   "id": "e463835f",
   "metadata": {},
   "source": [
    "## Programming Exercises"
   ]
  },
  {
   "cell_type": "markdown",
   "id": "67a7e656",
   "metadata": {},
   "source": [
    "## Questions 1: Day of the Week \n",
    "## Write a program that asks the user for a number in the range of 1 through 7. The program should display the corresponding day of the week, where 1 = Monday, 2 = Tuesday, 3 = Wednesday, 4 = Thursday, 5 = Friday, 6 = Saturday, and 7 = Sunday. The program should display an error message if the user enters a number that is outside the range of 1 through 7."
   ]
  },
  {
   "cell_type": "markdown",
   "id": "eb8b4232",
   "metadata": {},
   "source": [
    "Intial Thoughts: This question has multiple steps and tasks it needs to preform to work correctly. First it needs an input for the number of the day of week. Then it needs a nested decision structure in order to determine the day of the week. Inside this nested structure will also need a print function that states the day. Im not sure if I can do this with one line of code or if I need a seperate line for everyday. Finally if the number is not in the range it will display a error message."
   ]
  },
  {
   "cell_type": "code",
   "execution_count": 23,
   "id": "d7c96ccf",
   "metadata": {},
   "outputs": [
    {
     "name": "stdout",
     "output_type": "stream",
     "text": [
      "Enter a number between 1 through 76\n",
      "ERROR: CHARACTER_NAME_STRING variable has not: been set before.,\n"
     ]
    }
   ],
   "source": [
    "user_input = int(input('Enter a number between 1 through 7'))#input day of the week as a number 1-7\n",
    "if 1 <= user_input >= 7: \n",
    "    if user_input == 1:\n",
    "        day = 'Monday' #If input 1 display monday\n",
    "    elif user_input == 2:\n",
    "        day = 'Tuesday' #if input 2 display tuesday\n",
    "    elif user_input == 3:\n",
    "        day = 'Wednesday' #if input 3 display wednesday\n",
    "    elif user_input == 4:\n",
    "        day = 'Thursday' #if input 4 display thursday\n",
    "    elif user_input == 5:\n",
    "        day = 'Friday' #if input 5 display friday\n",
    "    elif user_input == 6:\n",
    "        day = 'Saturday' #if input 6 display saturday\n",
    "    elif user_input == 7:\n",
    "        day = 'Sunday' #if input 7 display sunday\n",
    "    else: \n",
    "        print ('its', day)\n",
    "else: \n",
    "        print('ERROR: CHARACTER_NAME_STRING variable has not: been set before.,')\n",
    "                            "
   ]
  },
  {
   "cell_type": "markdown",
   "id": "d0f5f3de",
   "metadata": {},
   "source": [
    "## Question 2: Areas of Rectangles\n",
    "## The area of a rectangle is the rectangle’s length times its width. Write a program that asks for the length and width of two rectangles. The program should tell the user which rectangle has the greater area, or if the areas are the same."
   ]
  },
  {
   "cell_type": "markdown",
   "id": "015776e4",
   "metadata": {},
   "source": []
  }
 ],
 "metadata": {
  "kernelspec": {
   "display_name": "Python 3 (ipykernel)",
   "language": "python",
   "name": "python3"
  },
  "language_info": {
   "codemirror_mode": {
    "name": "ipython",
    "version": 3
   },
   "file_extension": ".py",
   "mimetype": "text/x-python",
   "name": "python",
   "nbconvert_exporter": "python",
   "pygments_lexer": "ipython3",
   "version": "3.11.4"
  }
 },
 "nbformat": 4,
 "nbformat_minor": 5
}
