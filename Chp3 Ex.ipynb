{
 "cells": [
  {
   "cell_type": "markdown",
   "id": "ed5af85d",
   "metadata": {},
   "source": [
    "# Code Set 3 (Chapter 3 Questions)\n",
    "## Algorithm Workbench"
   ]
  },
  {
   "cell_type": "markdown",
   "id": "ef4f595a",
   "metadata": {},
   "source": [
    "## Question 4: The following code contains several nested  statements. Unfortunately, it was written without proper alignment and indentation. Rewrite the code and use the proper conventions of alignment and indentation. "
   ]
  },
  {
   "cell_type": "code",
   "execution_count": null,
   "id": "49adb171",
   "metadata": {},
   "outputs": [],
   "source": [
    "#Checks what your score is and tells you your grade\n",
    "if score >= A_score: #Check if user score is A\n",
    "    print('Your grade is A.') #prints grade if A\n",
    "else:\n",
    "    if score >= B_score: #Checks if user score is B\n",
    "        print('Your grade is B.') #prints grade if B\n",
    "    else:\n",
    "        if score >= C_score: #Checks if user score is C\n",
    "            print('Your grade is C.') #prints grade if C\n",
    "        else:\n",
    "            if score >= D_score: #Checks if user score is D\n",
    "                print('Your score is D.') #prints grade if D\n",
    "            else:\n",
    "                print('Your grade is F') #prints grade if F"
   ]
  },
  {
   "cell_type": "markdown",
   "id": "7adc8bd3",
   "metadata": {},
   "source": [
    "### Code doesn't work properly with out an input to set the variable score. However the question does ask us to include one. "
   ]
  },
  {
   "cell_type": "markdown",
   "id": "395599f6",
   "metadata": {},
   "source": [
    "## Question 5: Write nested decision structures that perform the following: If amount1 is greater than 10 and amount2 is less than 100, display the greater of amount1 and amount2."
   ]
  },
  {
   "cell_type": "code",
   "execution_count": null,
   "id": "3f2e5eef",
   "metadata": {},
   "outputs": [],
   "source": [
    "#Get user imput for variables amount1 and amount2 \n",
    "amount1 = int(input('What is the amount of amount 1?'))\n",
    "amount2 = int(input('What is the amount of amount 2?'))\n",
    "#check if a is greater than 10\n",
    "if amount1 > 10:\n",
    "    if amount2 < 100: #check if b is less than 100\n",
    "        if amount1 > amount2:\n",
    "            print('the greater amount is:', amount1) #print the greater of a and b \n",
    "        else:\n",
    "            print('The greater amount is:', amount2)\n",
    "    else:\n",
    "        print('amount1 is less than 10')\n",
    "else:\n",
    "    print('amount2 is greater than 100')"
   ]
  },
  {
   "cell_type": "markdown",
   "id": "e463835f",
   "metadata": {},
   "source": [
    "## Programming Exercises"
   ]
  },
  {
   "cell_type": "markdown",
   "id": "67a7e656",
   "metadata": {},
   "source": [
    "## Questions 1: Day of the Week \n",
    "## Write a program that asks the user for a number in the range of 1 through 7. The program should display the corresponding day of the week, where 1 = Monday, 2 = Tuesday, 3 = Wednesday, 4 = Thursday, 5 = Friday, 6 = Saturday, and 7 = Sunday. The program should display an error message if the user enters a number that is outside the range of 1 through 7."
   ]
  },
  {
   "cell_type": "markdown",
   "id": "eb8b4232",
   "metadata": {},
   "source": [
    "Intial Thoughts: This question has multiple steps and tasks it needs to preform to work correctly. First it needs an input for the number of the day of week. Then it needs a nested decision structure in order to determine the day of the week. Inside this nested structure will also need a print function that states the day. Im not sure if I can do this with one line of code or if I need a seperate line for everyday. Finally if the number is not in the range it will display a error message."
   ]
  },
  {
   "cell_type": "code",
   "execution_count": 29,
   "id": "d7c96ccf",
   "metadata": {},
   "outputs": [
    {
     "name": "stdout",
     "output_type": "stream",
     "text": [
      "Enter a number between 1 through 78\n",
      "ERROR: CHARACTER_NAME_STRING variable has not: been set before.,\n"
     ]
    }
   ],
   "source": [
    "user_input = int(input('Enter a number between 1 through 7'))#input day of the week as a number 1-7\n",
    "if 1 <= user_input and user_input <= 7: \n",
    "    if user_input == 1:\n",
    "        day = 'Monday' #If input 1 display monday\n",
    "    elif user_input == 2:\n",
    "        day = 'Tuesday' #if input 2 display tuesday\n",
    "    elif user_input == 3:\n",
    "        day = 'Wednesday' #if input 3 display wednesday\n",
    "    elif user_input == 4:\n",
    "        day = 'Thursday' #if input 4 display thursday\n",
    "    elif user_input == 5:\n",
    "        day = 'Friday' #if input 5 display friday\n",
    "    elif user_input == 6:\n",
    "        day = 'Saturday' #if input 6 display saturday\n",
    "    elif user_input == 7:\n",
    "        day = 'Sunday' #if input 7 display sunday \n",
    "    print ('its', day)\n",
    "else: \n",
    "        print('ERROR: CHARACTER_NAME_STRING variable has not: been set before.,')\n",
    "                            "
   ]
  },
  {
   "cell_type": "markdown",
   "id": "b46f475f",
   "metadata": {},
   "source": [
    "## Question 2: Areas of Rectangles\n",
    "## The area of a rectangle is the rectangle’s length times its width. Write a program that asks for the length and width of two rectangles. The program should tell the user which rectangle has the greater area, or if the areas are the same."
   ]
  },
  {
   "cell_type": "markdown",
   "id": "ef7ef626",
   "metadata": {},
   "source": [
    "Intial Thoughts: We will need 4 imputs, one for each leangth and width of both rectangles. We need a program that determines the area of a rectangle. Then we need a program to determine which Rectangle has a larger area or if they are the same. Then we need a program to tell the user which one is larger."
   ]
  },
  {
   "cell_type": "code",
   "execution_count": 33,
   "id": "37e096d9",
   "metadata": {},
   "outputs": [
    {
     "name": "stdout",
     "output_type": "stream",
     "text": [
      "Length of Rectangle 1? 5.69\n",
      "Width of Rectangle 1? 2.34\n",
      "Length of Rectangle 2? 88.2\n",
      "Width of Retangle 2? 1.4\n",
      "Rectangle 2 is larger. With an area of: 123.47999999999999\n"
     ]
    }
   ],
   "source": [
    "length1 = float(input('Length of Rectangle 1? ')) #User input for length of Rectangle 1\n",
    "width1 = float(input('Width of Rectangle 1? ')) #User input for width of Rectangle 1\n",
    "length2 = float(input('Length of Rectangle 2? ')) #User input for length of rectangle 2\n",
    "width2 = float(input('Width of Retangle 2? ')) #User input for width of rectangle 2\n",
    "area1 = (length1*width1) #Calculation for Rectangle 1 area\n",
    "area2 = (length2*width2) #Calculation for Rectangle 2 area\n",
    "if area1 > area2 or area1 < area2: #if function comparing the area of rectangle 1 and rectangle 2\n",
    "    if area1 > area2:\n",
    "        print('Rectangle 1 is larger. With an area of:', area1) #if rectangle 1 area is larger print area of rectangle 1\n",
    "    elif area1 < area2:\n",
    "        print('Rectangle 2 is larger. With an area of:', area2) #if rectangle 2 area is larger print area of rectangle 2\n",
    "else:\n",
    "    print('Both Rectangles are the same size with an area of:', area1) #else area of rectangle is the same print both. "
   ]
  },
  {
   "cell_type": "markdown",
   "id": "2e022844",
   "metadata": {},
   "source": [
    "## After further research I realize I wasn't supossed to do that one. Oh well im leaving it in..."
   ]
  },
  {
   "cell_type": "markdown",
   "id": "7c2212a2",
   "metadata": {},
   "source": [
    "## Question 5: Mass and Weight\n",
    "## Scientists measure an object’s mass in kilograms and its weight in newtons. If you know the amount of mass of an object in kilograms, you can calculate its weight in newtons with the following formula:\n",
    "## Weight = Mass x 9.8\n",
    "\n",
    "## Write a program that asks the user to enter an object’s mass, then calculates its weight. If the object weighs more than 500 newtons, display a message indicating that it is too heavy. If the object weighs less than 100 newtons, display a message indicating that it is too light."
   ]
  },
  {
   "cell_type": "markdown",
   "id": "56397638",
   "metadata": {},
   "source": [
    "Initital Thoughts: Im going to need a input for Mass(in Kilograms) which we will set to the variable Weight(in Newtons) using a sepreate calculation multiplying it by 9.8. Then we run a if function to determine if the weight is greater than 500 or less than 100 newtons. With coresponding print functions. "
   ]
  },
  {
   "cell_type": "code",
   "execution_count": 37,
   "id": "d3ab0c4d",
   "metadata": {},
   "outputs": [
    {
     "name": "stdout",
     "output_type": "stream",
     "text": [
      "What is the Objects mass?(in kilograms) 6\n",
      "thats toooo light\n"
     ]
    }
   ],
   "source": [
    "mass = float(input('What is the Objects mass?(in kilograms) ')) #user input for objects mass in kilograms\n",
    "weight = (mass*9.8) #Set variable weight using calculation\n",
    "if weight > 500 or weight < 100: #check if weight is greater than 500 or less than 100 newtons\n",
    "    if weight > 500: #check if weight is greater than 500\n",
    "        print('Thats TOOOO HEAVY') #print indication of too heavy\n",
    "    elif weight < 100: #check if weight is less than 100\n",
    "        print('thats toooo light') #print indication of too light\n",
    "else:\n",
    "    print('Thats just right!') #else print indication that its within the range"
   ]
  },
  {
   "cell_type": "markdown",
   "id": "97f114a7",
   "metadata": {},
   "source": [
    "## Question 15: Time Calculator\n",
    "## Write a program that asks the user to enter a number of seconds and works as follows:\n",
    "                \n",
    "                  There are 60 seconds in a minute. If the number of seconds entered by the user is greater than or equal to 60, the program should convert the number of seconds to minutes and seconds.\n",
    "                \n",
    "              \n",
    "                \n",
    "                  There are 3,600 seconds in an hour. If the number of seconds entered by the user is greater than or equal to 3,600, the program should convert the number of seconds to hours, minutes, and seconds.\n",
    "                \n",
    "              \n",
    "                \n",
    "                  There are 86,400 seconds in a day. If the number of seconds entered by the user is greater than or equal to 86,400, the program should convert the number of seconds to days, hours, minutes, and seconds."
   ]
  },
  {
   "cell_type": "markdown",
   "id": "aa31aa9f",
   "metadata": {},
   "source": [
    "Initial Thoughts: This question is really straight forward. There will be one input asking the user for the amount of seconds will define that as a varible. Theres really only need for one check at the start, seeing if its more than 60 seconds if not else its the number of seconds. Inside the if function we only need sepreate functions for minutes hours and days. The only tricky part is getting it too display the other varibles too, i belive this can be done with a simple equation."
   ]
  },
  {
   "cell_type": "code",
   "execution_count": 46,
   "id": "8031c54b",
   "metadata": {},
   "outputs": [
    {
     "name": "stdout",
     "output_type": "stream",
     "text": [
      "Seconds?\n",
      "90065\n",
      "1 days 1 hours 1 minutes 5 seconds\n"
     ]
    }
   ],
   "source": [
    "print('Seconds?') #prints the question seconds\n",
    "seconds = int(input())#user input for amount of time in seconds\n",
    "days = 0 #sets varible days\n",
    "hours = 0 #sets initial variable hours\n",
    "minutes = 0 #sets initial variable minutes\n",
    "if seconds > 86400: #checks if seconds is greater than 86,400\n",
    "    days = (seconds//86400)#Runs calculation for days with remainder\n",
    "    seconds = (seconds%86400) #redefines seconds\n",
    "if seconds > 3600: #checks if remainder is greater than 3,600\n",
    "    hours = (seconds//3600) #runs calculation for hours\n",
    "    seconds = (seconds%3600) #redefines seconds\n",
    "if seconds > 60: #checks if remainder or seconds is greater than 60\n",
    "    minutes = (seconds//60) #runs calculation for minutes and remainder\n",
    "    seconds = (seconds%60) #redefines seconds\n",
    "print(days,'days', hours,'hours', minutes,'minutes', seconds,'seconds') #prints days, hours, minutes, seconds\n"
   ]
  },
  {
   "cell_type": "code",
   "execution_count": null,
   "id": "b75e369d",
   "metadata": {},
   "outputs": [],
   "source": []
  }
 ],
 "metadata": {
  "kernelspec": {
   "display_name": "Python 3 (ipykernel)",
   "language": "python",
   "name": "python3"
  },
  "language_info": {
   "codemirror_mode": {
    "name": "ipython",
    "version": 3
   },
   "file_extension": ".py",
   "mimetype": "text/x-python",
   "name": "python",
   "nbconvert_exporter": "python",
   "pygments_lexer": "ipython3",
   "version": "3.11.4"
  }
 },
 "nbformat": 4,
 "nbformat_minor": 5
}
