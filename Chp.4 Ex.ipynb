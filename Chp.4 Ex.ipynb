{
 "cells": [
  {
   "cell_type": "markdown",
   "id": "c113c3c5",
   "metadata": {},
   "source": [
    "# Coding Set 4 (Chapter 4 Exsamples)"
   ]
  },
  {
   "cell_type": "markdown",
   "id": "1aa583c5",
   "metadata": {},
   "source": [
    "## Problem 1: Write a while loop that lets the user enter a number. The number should be multiplied by 10, and the result assigned to a variable named product. The loop should iterate as long as product is less than 100."
   ]
  },
  {
   "cell_type": "markdown",
   "id": "04f94d91",
   "metadata": {},
   "source": [
    "Initial Thoughts: First were going to need statment that sets the variable to zero so we can use product later on. Then we add a while loop with condition <100 followed by an input that allows the user to enter a number in then converts it to float point and sets it equal to user input and multiply it by 10. Finish when it goes over 100."
   ]
  },
  {
   "cell_type": "code",
   "execution_count": null,
   "id": "14f8ad8c",
   "metadata": {},
   "outputs": [],
   "source": [
    "#initialize the variable product\n",
    "product = 0 \n",
    "while product < 100:\n",
    "    user_input = float(input('Enter a number: '))#convert the number to float, set it to variable user input\n",
    "    product = (user_input*10) #multiply user input by 10, set equal to product\n",
    "    print(f\"{user_input} multiplied by 10 equals: {product}\") #print that the number has been multiplyed by ten\n",
    "print('Product is now bigger than 100. Ending loop.') #print that the number has exceeded 100 and the program is finished"
   ]
  },
  {
   "cell_type": "markdown",
   "id": "bb3876ec",
   "metadata": {},
   "source": [
    "### Problem 3: Write a for loop that displays the following set of numbers: \n",
    "\n",
    "## 0 , 10 , 20 , 30 , 40 , 50 . . . 1000"
   ]
  },
  {
   "cell_type": "markdown",
   "id": "73588f45",
   "metadata": {},
   "source": [
    "Initial Thoughts: This one seems pretty simple to do. All I need is a for loop going up by 10 to 1000. Then I print."
   ]
  },
  {
   "cell_type": "code",
   "execution_count": null,
   "id": "d00ac13d",
   "metadata": {},
   "outputs": [],
   "source": [
    "num = 0 #Initial\n",
    "for num in range(0, 1001, 10): #Generate sequence of numbers from 0 to 1000 incrimenting by 10\n",
    "    print(num) #print num"
   ]
  },
  {
   "cell_type": "markdown",
   "id": "db55934d",
   "metadata": {},
   "source": [
    "## Programing Exercises"
   ]
  },
  {
   "cell_type": "markdown",
   "id": "810ef9f0",
   "metadata": {},
   "source": [
    "## Problem 1:  Bug Collector\n",
    "## A bug collector collects bugs every day for five days. Write a program that keeps a running total of the number of bugs collected during the five days. The loop should ask for the number of bugs collected for each day, and when the loop is finished, the program should display the total number of bugs collected."
   ]
  },
  {
   "cell_type": "markdown",
   "id": "d5adb0d3",
   "metadata": {},
   "source": [
    "Initial Thoughts: This will be a simple for loop that will ask the user to input the number of bugs collected everyday. Total bugs will be the final output to print and will just be a addition of the number of bugs collected."
   ]
  },
  {
   "cell_type": "code",
   "execution_count": null,
   "id": "51efb23c",
   "metadata": {},
   "outputs": [],
   "source": [
    "#initialize the total_bugs variable set to 0\n",
    "total_bugs = 0\n",
    "\n",
    "#for loop that will loop for the 5 days\n",
    "for days in range(1,6):\n",
    "    \n",
    "    #user input to determine the number of bugs collected\n",
    "    #set user input equal to the variable num_bugs\n",
    "    num_bugs = int(input(f'How many bugs were collected? on day {days}:'))\n",
    "    \n",
    "    total_bugs += num_bugs\n",
    "    \n",
    "#print the total number of bugs over the 5 days\n",
    "print(f'Total number of bugs collected during the 5 days: {total_bugs}')"
   ]
  },
  {
   "cell_type": "markdown",
   "id": "76b09609",
   "metadata": {},
   "source": [
    "## Problem 4: Disance Traveled"
   ]
  },
  {
   "cell_type": "markdown",
   "id": "e5343e1e",
   "metadata": {},
   "source": [
    "## The distance a vehicle travels can be calculated as follows:\n",
    "\n",
    "## distance = speed x time\n",
    "\n",
    "## For example, if a train travels 40 miles per hour for three hours, the distance traveled is 120 miles. Write a program that asks the user for the speed of a vehicle (in miles per hour) and the number of hours it has traveled. It should then use a loop to display the distance the vehicle has traveled for each hour of that time period. "
   ]
  },
  {
   "cell_type": "markdown",
   "id": "ab712984",
   "metadata": {},
   "source": [
    "Initial Thoughts: In this question we will need two seprate inputs from the user to get both the speed and the hours. The speed will need to be a float but the hours will need to be a int in order to ensure the required outputs. Then a for loop will be needed in order to determine the distance travelled every hour. On second thought we will also need a print function to add the header for the hours and distance traveled. "
   ]
  },
  {
   "cell_type": "code",
   "execution_count": 2,
   "id": "4f562308",
   "metadata": {},
   "outputs": [
    {
     "name": "stdout",
     "output_type": "stream",
     "text": [
      "What is the speed of the vehicle in mph?40\n",
      "How many whole number hours has the vehicle been traveling for?3\n",
      "Hour     Distance Traveled\n",
      "1         40.0\n",
      "2         80.0\n",
      "3         120.0\n"
     ]
    }
   ],
   "source": [
    "#input prompt for the user to enter the speed of the vehicle \n",
    "speed = float(input('What is the speed of the vehicle in mph?'))\n",
    "#input prompt fot the user to enter the hours the vehicle has been traveling\n",
    "total_hour = int(input('How many whole number hours has the vehicle been traveling for?'))\n",
    "#print function to add a header for hours and distance traveled\n",
    "print('Hour     Distance Traveled')\n",
    "#for loop to display hours and distance travelled based on user inputs\n",
    "for hour in range (1, total_hour +1):\n",
    "#distance equation calculated by speed multiplyied by time\n",
    "    distance = speed * hour\n",
    "#print function to display the calculation\n",
    "    print(f'{hour}         {distance}')"
   ]
  },
  {
   "cell_type": "markdown",
   "id": "6e0de91e",
   "metadata": {},
   "source": [
    "## Problem 13: Write a program that uses nested loops to draw this pattern:\n",
    "## *******\n",
    "## ******\n",
    "## *****\n",
    "## ****\n",
    "## ***\n",
    "## **\n",
    "## *"
   ]
  },
  {
   "cell_type": "markdown",
   "id": "cc26390f",
   "metadata": {},
   "source": [
    "Intial Thoughts: This one seems pretty straight forward, it will consist of a inital for loop for the variable row in a range of 7 decreasing by 1 every row. Then anouther loop for the stars pattern. Then a final print function to display the code"
   ]
  },
  {
   "cell_type": "code",
   "execution_count": 8,
   "id": "d930307e",
   "metadata": {},
   "outputs": [
    {
     "name": "stdout",
     "output_type": "stream",
     "text": [
      "* * * * * * * \n",
      "* * * * * * \n",
      "* * * * * \n",
      "* * * * \n",
      "* * * \n",
      "* * \n",
      "* \n"
     ]
    }
   ],
   "source": [
    "#for loop in the range\n",
    "for row in range(7, 0, -1):\n",
    "#for loop in stars in the range\n",
    "    for stars in range(row):\n",
    "#print statement for the stars\n",
    "        print('*', end=' ')\n",
    "    #print whole code\n",
    "    #line up with first loop\n",
    "    print()"
   ]
  },
  {
   "cell_type": "markdown",
   "id": "ca0e41fc",
   "metadata": {},
   "source": [
    "## Problem 14: Draw Hashtag nested loop pattern "
   ]
  },
  {
   "cell_type": "markdown",
   "id": "acc5a885",
   "metadata": {},
   "source": [
    "Initial Thoughts: This question I very similar to the previous question. It shuold be similar two for loop pattern the only thing that will be dificult in this question spesifically will be the spacing of the hashtags but I think I can figure it out. "
   ]
  },
  {
   "cell_type": "code",
   "execution_count": 10,
   "id": "26734a18",
   "metadata": {},
   "outputs": [
    {
     "name": "stdout",
     "output_type": "stream",
     "text": [
      "# #\n",
      "#   #\n",
      "#     #\n",
      "#       #\n",
      "#         #\n",
      "#           #\n"
     ]
    }
   ],
   "source": [
    "#for loop to set pattern size in range\n",
    "for hashtag in range(6):\n",
    "    #print hashtags with corisponding range \n",
    "    print('#', end=' ')\n",
    "    \n",
    "    for i in range(hashtag):\n",
    "        print(' ', end=' ')\n",
    "    print('#')"
   ]
  },
  {
   "cell_type": "code",
   "execution_count": null,
   "id": "33d6d0db",
   "metadata": {},
   "outputs": [],
   "source": []
  }
 ],
 "metadata": {
  "kernelspec": {
   "display_name": "Python 3 (ipykernel)",
   "language": "python",
   "name": "python3"
  },
  "language_info": {
   "codemirror_mode": {
    "name": "ipython",
    "version": 3
   },
   "file_extension": ".py",
   "mimetype": "text/x-python",
   "name": "python",
   "nbconvert_exporter": "python",
   "pygments_lexer": "ipython3",
   "version": "3.11.4"
  }
 },
 "nbformat": 4,
 "nbformat_minor": 5
}
