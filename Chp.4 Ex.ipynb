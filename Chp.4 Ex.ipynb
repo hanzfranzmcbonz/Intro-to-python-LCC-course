{
 "cells": [
  {
   "cell_type": "markdown",
   "id": "317f28ae",
   "metadata": {},
   "source": [
    "# Coding Set 4 (Chapter 4 Exsamples)"
   ]
  },
  {
   "cell_type": "markdown",
   "id": "20f30823",
   "metadata": {},
   "source": [
    "## Problem 1: Write a while loop that lets the user enter a number. The number should be multiplied by 10, and the result assigned to a variable named product. The loop should iterate as long as product is less than 100."
   ]
  },
  {
   "cell_type": "markdown",
   "id": "b71c3634",
   "metadata": {},
   "source": [
    "Initial Thoughts: First were going to need statment that sets the variable to zero so we can use product later on. Then we add a while loop with condition <100 followed by an input that allows the user to enter a number in then converts it to float point and sets it equal to user input and multiply it by 10. Finish when it goes over 100."
   ]
  },
  {
   "cell_type": "code",
   "execution_count": null,
   "id": "2ac0fd47",
   "metadata": {},
   "outputs": [],
   "source": [
    "#initialize the variable product\n",
    "#prompt the user to enter a number\n",
    "#convert the number to float, set it to variable user input\n",
    "#multiply user input by 10, set equal to product\n",
    "#print that the number has been multiplyed by ten\n",
    "#print that the number has exceeded 100 and the program is finished"
   ]
  }
 ],
 "metadata": {
  "kernelspec": {
   "display_name": "Python 3 (ipykernel)",
   "language": "python",
   "name": "python3"
  },
  "language_info": {
   "codemirror_mode": {
    "name": "ipython",
    "version": 3
   },
   "file_extension": ".py",
   "mimetype": "text/x-python",
   "name": "python",
   "nbconvert_exporter": "python",
   "pygments_lexer": "ipython3",
   "version": "3.11.4"
  }
 },
 "nbformat": 4,
 "nbformat_minor": 5
}
