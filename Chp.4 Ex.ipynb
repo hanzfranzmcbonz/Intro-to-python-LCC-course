{
 "cells": [
  {
   "cell_type": "markdown",
   "id": "79f437e6",
   "metadata": {},
   "source": [
    "# Coding Set 4 (Chapter 4 Exsamples)"
   ]
  },
  {
   "cell_type": "markdown",
   "id": "e87503c7",
   "metadata": {},
   "source": [
    "## Problem 1: Write a while loop that lets the user enter a number. The number should be multiplied by 10, and the result assigned to a variable named product. The loop should iterate as long as product is less than 100."
   ]
  },
  {
   "cell_type": "markdown",
   "id": "4a26263a",
   "metadata": {},
   "source": [
    "Initial Thoughts: First were going to need statment that sets the variable to zero so we can use product later on. Then we add a while loop with condition <100 followed by an input that allows the user to enter a number in then converts it to float point and sets it equal to user input and multiply it by 10. Finish when it goes over 100."
   ]
  },
  {
   "cell_type": "code",
   "execution_count": 1,
   "id": "742625e0",
   "metadata": {},
   "outputs": [
    {
     "name": "stdout",
     "output_type": "stream",
     "text": [
      "Enter a number: 1\n",
      "1.0 multiplied by 10 equals: 10.0\n",
      "Enter a number: 10\n",
      "10.0 multiplied by 10 equals: 100.0\n",
      "Enter a number: 11\n",
      "11.0 multiplied by 10 equals: 110.0\n",
      "Product is now bigger than 100. Ending loop.\n"
     ]
    }
   ],
   "source": [
    "product = 0 #initialize the variable product\n",
    "while product <= 100:\n",
    "    #prompt the user to enter a number\n",
    "    user_input = float(input('Enter a number: '))#convert the number to float, set it to variable user input\n",
    "    product = (user_input*10) #multiply user input by 10, set equal to product\n",
    "    print(f\"{user_input} multiplied by 10 equals: {product}\") #print that the number has been multiplyed by ten\n",
    "print('Product is now bigger than 100. Ending loop.') #print that the number has exceeded 100 and the program is finished"
   ]
  },
  {
   "cell_type": "code",
   "execution_count": null,
   "id": "124b705d",
   "metadata": {},
   "outputs": [],
   "source": []
  }
 ],
 "metadata": {
  "kernelspec": {
   "display_name": "Python 3 (ipykernel)",
   "language": "python",
   "name": "python3"
  },
  "language_info": {
   "codemirror_mode": {
    "name": "ipython",
    "version": 3
   },
   "file_extension": ".py",
   "mimetype": "text/x-python",
   "name": "python",
   "nbconvert_exporter": "python",
   "pygments_lexer": "ipython3",
   "version": "3.11.4"
  }
 },
 "nbformat": 4,
 "nbformat_minor": 5
}
