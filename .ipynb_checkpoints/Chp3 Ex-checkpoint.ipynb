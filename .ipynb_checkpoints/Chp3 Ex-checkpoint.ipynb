{
 "cells": [
  {
   "cell_type": "markdown",
   "id": "ed5af85d",
   "metadata": {},
   "source": [
    "# Code Set 3 (Chapter 3 Questions)\n",
    "## Algorithm Workbench"
   ]
  },
  {
   "cell_type": "markdown",
   "id": "ef4f595a",
   "metadata": {},
   "source": [
    "## Question 4: The following code contains several nested  statements. Unfortunately, it was written without proper alignment and indentation. Rewrite the code and use the proper conventions of alignment and indentation. "
   ]
  },
  {
   "cell_type": "code",
   "execution_count": 18,
   "id": "49adb171",
   "metadata": {},
   "outputs": [
    {
     "ename": "NameError",
     "evalue": "name 'score' is not defined",
     "output_type": "error",
     "traceback": [
      "\u001b[0;31m---------------------------------------------------------------------------\u001b[0m",
      "\u001b[0;31mNameError\u001b[0m                                 Traceback (most recent call last)",
      "Cell \u001b[0;32mIn[18], line 2\u001b[0m\n\u001b[1;32m      1\u001b[0m \u001b[38;5;66;03m#Checks what your score is and tells you your grade\u001b[39;00m\n\u001b[0;32m----> 2\u001b[0m \u001b[38;5;28;01mif\u001b[39;00m score \u001b[38;5;241m>\u001b[39m\u001b[38;5;241m=\u001b[39m A_score: \u001b[38;5;66;03m#Check if user score is A\u001b[39;00m\n\u001b[1;32m      3\u001b[0m     \u001b[38;5;28mprint\u001b[39m(\u001b[38;5;124m'\u001b[39m\u001b[38;5;124mYour grade is A.\u001b[39m\u001b[38;5;124m'\u001b[39m) \u001b[38;5;66;03m#prints grade if A\u001b[39;00m\n\u001b[1;32m      4\u001b[0m \u001b[38;5;28;01melse\u001b[39;00m:\n",
      "\u001b[0;31mNameError\u001b[0m: name 'score' is not defined"
     ]
    }
   ],
   "source": [
    "#Checks what your score is and tells you your grade\n",
    "if score >= A_score: #Check if user score is A\n",
    "    print('Your grade is A.') #prints grade if A\n",
    "else:\n",
    "    if score >= B_score: #Checks if user score is B\n",
    "        print('Your grade is B.') #prints grade if B\n",
    "    else:\n",
    "        if score >= C_score: #Checks if user score is C\n",
    "            print('Your grade is C.') #prints grade if C\n",
    "        else:\n",
    "            if score >= D_score: #Checks if user score is D\n",
    "                print('Your score is D.') #prints grade if D\n",
    "            else:\n",
    "                print('Your grade is F') #prints grade if F"
   ]
  },
  {
   "cell_type": "markdown",
   "id": "7adc8bd3",
   "metadata": {},
   "source": [
    "### Code doesn't work properly with out an input to set the variable score. However the question does ask us to include one. "
   ]
  },
  {
   "cell_type": "markdown",
   "id": "395599f6",
   "metadata": {},
   "source": [
    "## Question 5: Write nested decision structures that perform the following: If amount1 is greater than 10 and amount2 is less than 100, display the greater of amount1 and amount2."
   ]
  },
  {
   "cell_type": "code",
   "execution_count": 14,
   "id": "3f2e5eef",
   "metadata": {},
   "outputs": [
    {
     "name": "stdout",
     "output_type": "stream",
     "text": [
      "What is the amount of amount 1?9\n",
      "What is the amount of amount 2?111\n",
      "amount2 is greater than 100\n"
     ]
    }
   ],
   "source": [
    "#Get user imput for variables amount1 and amount2 \n",
    "amount1 = int(input('What is the amount of amount 1?'))\n",
    "amount2 = int(input('What is the amount of amount 2?'))\n",
    "#check if a is greater than 10\n",
    "if amount1 > 10:\n",
    "    if amount2 < 100: #check if b is less than 100\n",
    "        if amount1 > amount2:\n",
    "            print('the greater amount is:', amount1) #print the greater of a and b \n",
    "        else:\n",
    "            print('The greater amount is:', amount2)\n",
    "    else:\n",
    "        print('amount1 is less than 10')\n",
    "else:\n",
    "    print('amount2 is greater than 100')"
   ]
  },
  {
   "cell_type": "markdown",
   "id": "6d055ca8",
   "metadata": {},
   "source": [
    "## Programming Exercises"
   ]
  },
  {
   "cell_type": "markdown",
   "id": "eb223fc6",
   "metadata": {},
   "source": [
    "## Questions 1: Day of the Week \n",
    "## Write a program that asks the user for a number in the range of 1 through 7. The program should display the corresponding day of the week, where 1 = Monday, 2 = Tuesday, 3 = Wednesday, 4 = Thursday, 5 = Friday, 6 = Saturday, and 7 = Sunday. The program should display an error message if the user enters a number that is outside the range of 1 through 7."
   ]
  },
  {
   "cell_type": "markdown",
   "id": "a5692eb6",
   "metadata": {},
   "source": [
    "Intial Thoughts: This question has multiple steps and tasks it needs to preform to work correctly. First it needs an input for the number of the day of week. Then it needs a nested decision structure in order to determine the day of the week. Inside this nested structure will also need a print function that states the day. Im not sure if I can do this with one line of code or if I need a seperate line for everyday. Finally if the number is not in the range it will display a error message."
   ]
  },
  {
   "cell_type": "code",
   "execution_count": null,
   "id": "d28f0bcd",
   "metadata": {},
   "outputs": [],
   "source": [
    "day = int(input('What day of the week is it, based on numbers 1-7'))#input day of the week as a number 1-7\n",
    "\n",
    "if day == 1: #If input 1 display monday\n",
    "    print('Today is Monday, Sorry')\n",
    "    if day == 2: #if input 2 display tuesday\n",
    "        print ('Today is Tuesday, Better then Moday')\n",
    "        if day == 3: #if input 3 display wednesday\n",
    "            print('Today is Wednesday, Half way there.')\n",
    "            if day == 4: #if input 4 display thursday\n",
    "                print('Today is Thursday, Almost there you can do it!')\n",
    "                if day == 5: #if input 5 display friday\n",
    "                    print('Today is Friday, Yay!!!')\n",
    "                    if day == 6: #if input 6 display saturday\n",
    "                        print('Today is Saturday, Yay!!!')\n",
    "                        if day == 7: #if input 7 display sunday\n",
    "                            print('Today is Sunday, Scary')\n",
    "                        #else display error message\n",
    "                        else: print('ERROR: CHARACTER_NAME_STRING variable has not: been set before.,')\n",
    "                            "
   ]
  },
  {
   "cell_type": "code",
   "execution_count": null,
   "id": "bc9b169b",
   "metadata": {},
   "outputs": [],
   "source": []
  }
 ],
 "metadata": {
  "kernelspec": {
   "display_name": "Python 3 (ipykernel)",
   "language": "python",
   "name": "python3"
  },
  "language_info": {
   "codemirror_mode": {
    "name": "ipython",
    "version": 3
   },
   "file_extension": ".py",
   "mimetype": "text/x-python",
   "name": "python",
   "nbconvert_exporter": "python",
   "pygments_lexer": "ipython3",
   "version": "3.11.4"
  }
 },
 "nbformat": 4,
 "nbformat_minor": 5
}
