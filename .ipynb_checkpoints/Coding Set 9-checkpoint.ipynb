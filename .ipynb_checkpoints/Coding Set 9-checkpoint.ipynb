{
 "cells": [
  {
   "cell_type": "code",
   "execution_count": 10,
   "id": "304ea444",
   "metadata": {},
   "outputs": [
    {
     "name": "stdout",
     "output_type": "stream",
     "text": [
      "Please enter your course number: NT110\n",
      "Room Number: 1244\n",
      "Professor: Burke\n",
      "Meeting Time: 11:00 AM\n"
     ]
    }
   ],
   "source": [
    "# This program tell the student class information using dictionarys \n",
    "\n",
    "# Import the module classdict.py\n",
    "import classdict\n",
    "\n",
    "# Get user input of the course number\n",
    "user_input = input(\"Please enter your course number: \")\n",
    "\n",
    "# The main function calls upon the dictionary to retreve data\n",
    "def main():\n",
    "    # If statement to determine if course exsists\n",
    "    if user_input in classdict.roomNum:\n",
    "        \n",
    "        # gets the data for room number\n",
    "        room_number = classdict.roomNum[user_input]\n",
    "        \n",
    "        # Get the data for teachers name\n",
    "        teachers_name = classdict.teacherName[user_input]\n",
    "        \n",
    "        # Gets data for the metting time of the class\n",
    "        class_time = classdict.classTime[user_input]\n",
    "        \n",
    "        # Displays the imformation retrived from the dictionarys\n",
    "        print(f'Room Number: {room_number}')\n",
    "        print(f'Professor: {teachers_name}')\n",
    "        print(f'Meeting Time: {class_time}')\n",
    "        \n",
    "        # If the course doesnt exsist tell the user\n",
    "    else:\n",
    "        print('That course does not exsist.')\n",
    "        \n",
    "# Call the main function    \n",
    "main()"
   ]
  },
  {
   "cell_type": "code",
   "execution_count": null,
   "id": "7695aa64",
   "metadata": {},
   "outputs": [],
   "source": []
  }
 ],
 "metadata": {
  "kernelspec": {
   "display_name": "Python 3 (ipykernel)",
   "language": "python",
   "name": "python3"
  },
  "language_info": {
   "codemirror_mode": {
    "name": "ipython",
    "version": 3
   },
   "file_extension": ".py",
   "mimetype": "text/x-python",
   "name": "python",
   "nbconvert_exporter": "python",
   "pygments_lexer": "ipython3",
   "version": "3.11.4"
  }
 },
 "nbformat": 4,
 "nbformat_minor": 5
}
