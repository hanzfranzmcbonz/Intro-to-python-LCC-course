{
 "cells": [
  {
   "cell_type": "markdown",
   "id": "31f1baab",
   "metadata": {},
   "source": [
    "# Coding Set 7 Exercises"
   ]
  },
  {
   "cell_type": "markdown",
   "id": "b45c3f93",
   "metadata": {},
   "source": [
    "## Algotithm Workbench"
   ]
  },
  {
   "cell_type": "markdown",
   "id": "c9249cd1",
   "metadata": {},
   "source": [
    "## Question 1: Write a statement that creates a list with the following strings: 'Einstein','Newton' ,'Copernicus', and 'Kepler'."
   ]
  },
  {
   "cell_type": "markdown",
   "id": "0dd304ed",
   "metadata": {},
   "source": [
    "Initial Thoughts: I will simply create a varible list1 and set it equal to a list with the strings for names. Then I will print it."
   ]
  },
  {
   "cell_type": "code",
   "execution_count": 2,
   "id": "6fc458ff",
   "metadata": {},
   "outputs": [
    {
     "name": "stdout",
     "output_type": "stream",
     "text": [
      "['Einstein', 'Newton', 'Copernicus', 'Kepler']\n"
     ]
    }
   ],
   "source": [
    "# Create list with names and set it equal\n",
    "# to the names variable\n",
    "names = ['Einstein', 'Newton', 'Copernicus', 'Kepler']\n",
    "\n",
    "# Print the names variable\n",
    "print(names)"
   ]
  },
  {
   "cell_type": "markdown",
   "id": "f1850d5c",
   "metadata": {},
   "source": [
    "## Question 7: What will the following code print?\n",
    "\n",
    "## list1 = [40, 50, 60]\n",
    "\n",
    "## list2 = [10, 20, 30]\n",
    "\n",
    "## list3 = list1 + list2\n",
    "\n",
    "## print(list3)"
   ]
  },
  {
   "cell_type": "markdown",
   "id": "fe1201d2",
   "metadata": {},
   "source": [
    "Initial Thoughts: This code will produce this as the output: [40, 50, 60, 10, 20, 30]"
   ]
  },
  {
   "cell_type": "code",
   "execution_count": 1,
   "id": "f2d1464c",
   "metadata": {},
   "outputs": [
    {
     "name": "stdout",
     "output_type": "stream",
     "text": [
      "[40, 50, 60, 10, 20, 30]\n"
     ]
    }
   ],
   "source": [
    "list1 = [40, 50, 60]\n",
    "\n",
    "list2 = [10, 20, 30]\n",
    "\n",
    "list3 = list1 + list2\n",
    "\n",
    "print(list3)"
   ]
  },
  {
   "cell_type": "markdown",
   "id": "e55a634e",
   "metadata": {},
   "source": [
    "## Programing Exeercises"
   ]
  },
  {
   "cell_type": "markdown",
   "id": "aba85b56",
   "metadata": {},
   "source": [
    "## Question 1: Total Sales\n",
    "\n",
    "## Design a program that asks the user to enter a store’s sales for each day of the week. The amounts should be stored in a list. Use a loop to calculate the total sales for the week and display the result."
   ]
  },
  {
   "cell_type": "markdown",
   "id": "e9069e51",
   "metadata": {},
   "source": [
    "Intitial thoughts: Ok I have a vauge idea of how to do this but its gonna take some time, alot of iterations and some research. First we need to set the num_days which will always be set to 7 but could be changed later if we want. I don't know if I want to make a list of days of the week or not. Then we need a function that first gets the sales for the day of the week. Then we need a seprate eqaution which calculates the total sales and prints it. Lets see If I can do this.\n",
    "    "
   ]
  },
  {
   "cell_type": "code",
   "execution_count": 20,
   "id": "dbc708a1",
   "metadata": {},
   "outputs": [
    {
     "name": "stdout",
     "output_type": "stream",
     "text": [
      "Enter the sales for Sunday: $1\n",
      "Enter the sales for Monday: $1\n",
      "Enter the sales for Tuesday: $1\n",
      "Enter the sales for Wednesday: $1\n",
      "Enter the sales for Thursday: $1\n",
      "Enter the sales for Friday: $1\n",
      "Enter the sales for Saturday: $1\n",
      "7.0\n"
     ]
    }
   ],
   "source": [
    "# This program collects data from each day of the week\n",
    "# and calculates the total sales\n",
    "\n",
    "# Creates a empty list where the daily sale can go\n",
    "daily_sales = []\n",
    "\n",
    "def main():\n",
    "  \n",
    "    # Gets the daily sales for each day\n",
    "    for day in ['Sunday', 'Monday', 'Tuesday', 'Wednesday',\n",
    "            'Thursday', 'Friday', 'Saturday']:\n",
    "        \n",
    "        sales = float(input(f'Enter the sales for {day}: $'))\n",
    "        daily_sales.append(sales)\n",
    "    \n",
    "    # Sums the list of daily sales\n",
    "    total_sales = sum(daily_sales)\n",
    "    \n",
    "    # Displays the sum of daily sales\n",
    "    print(total_sales)\n",
    "\n",
    "# Calls the main function\n",
    "if __name__ == '__main__':\n",
    "    main()"
   ]
  },
  {
   "cell_type": "markdown",
   "id": "e9319f17",
   "metadata": {},
   "source": [
    "## Question 14: Expense Pie Chart\n",
    "\n",
    "## Create a text file that contains your expenses for last month in the following categories:\n",
    "               \n",
    "               \n",
    "## Rent\n",
    "                \n",
    "              \n",
    "                \n",
    "## Gas\n",
    "                \n",
    "              \n",
    "                \n",
    "## Food\n",
    "                \n",
    "              \n",
    "                \n",
    "## Clothing\n",
    "                \n",
    "              \n",
    "                \n",
    "## Car payment\n",
    "                \n",
    "              \n",
    "                \n",
    "## Misc\n",
    "                \n",
    "## Write a Python program that reads the data from the file and uses  to plot a pie chart showing how you spend your money."
   ]
  },
  {
   "cell_type": "code",
   "execution_count": 21,
   "id": "0909d8c3",
   "metadata": {},
   "outputs": [
    {
     "name": "stdout",
     "output_type": "stream",
     "text": [
      "3.7.1\n"
     ]
    }
   ],
   "source": [
    "import matplotlib \n",
    "\n",
    "print(matplotlib.__version__)"
   ]
  },
  {
   "cell_type": "code",
   "execution_count": 23,
   "id": "1a3be054",
   "metadata": {},
   "outputs": [
    {
     "data": {
      "image/png": "[encoded data removed]",
      "text/plain": [
       "<Figure size 640x480 with 1 Axes>"
      ]
     },
     "metadata": {},
     "output_type": "display_data"
    }
   ],
   "source": [
    "# This is sample code givin by chat to test using matplotlib\n",
    "\n",
    "import matplotlib.pyplot as plt\n",
    "\n",
    "# Sample data\n",
    "days = ['Monday', 'Tuesday', 'Wednesday', 'Thursday', 'Friday']\n",
    "sales = [100, 120, 90, 150, 200]\n",
    "\n",
    "# Plotting\n",
    "plt.plot(days, sales, marker='o')\n",
    "plt.title('Daily Sales')\n",
    "plt.xlabel('Days of the Week')\n",
    "plt.ylabel('Sales ($)')\n",
    "plt.show()\n"
   ]
  },
  {
   "cell_type": "markdown",
   "id": "daf9c0c7",
   "metadata": {},
   "source": [
    "Initial Thoughts: Ok so there are multiple parts to this question, One: We need to create a sperate text document to place these values in. Second: we need a program that reads the document and places the values into a list. Finially we need a program that plot the values in a pie chart. I would love to do this without any help so we shall see. PERCHANCE. "
   ]
  },
  {
   "cell_type": "code",
   "execution_count": 26,
   "id": "c3d92e24",
   "metadata": {},
   "outputs": [],
   "source": [
    "def expense():\n",
    "    outfile = open('mymonthlyexpenses.txt', 'w')\n",
    "    \n",
    "    outfile.write(input('Rent: $'))\n",
    "    \n",
    "if __name__ == '__expense__':\n",
    "    expense()"
   ]
  },
  {
   "cell_type": "code",
   "execution_count": null,
   "id": "0da792ea",
   "metadata": {},
   "outputs": [],
   "source": []
  }
 ],
 "metadata": {
  "kernelspec": {
   "display_name": "Python 3 (ipykernel)",
   "language": "python",
   "name": "python3"
  },
  "language_info": {
   "codemirror_mode": {
    "name": "ipython",
    "version": 3
   },
   "file_extension": ".py",
   "mimetype": "text/x-python",
   "name": "python",
   "nbconvert_exporter": "python",
   "pygments_lexer": "ipython3",
   "version": "3.11.4"
  }
 },
 "nbformat": 4,
 "nbformat_minor": 5
}
