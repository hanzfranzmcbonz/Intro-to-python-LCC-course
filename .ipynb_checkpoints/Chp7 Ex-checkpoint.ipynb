{
 "cells": [
  {
   "cell_type": "markdown",
   "id": "31f1baab",
   "metadata": {},
   "source": [
    "# Coding Set 7 Exercises"
   ]
  },
  {
   "cell_type": "markdown",
   "id": "b45c3f93",
   "metadata": {},
   "source": [
    "## Algotithm Workbench"
   ]
  },
  {
   "cell_type": "markdown",
   "id": "c9249cd1",
   "metadata": {},
   "source": [
    "## Question 1: Write a statement that creates a list with the following strings: 'Einstein','Newton' ,'Copernicus', and 'Kepler'."
   ]
  },
  {
   "cell_type": "markdown",
   "id": "0dd304ed",
   "metadata": {},
   "source": [
    "Initial Thoughts: I will simply create a varible list1 and set it equal to a list with the strings for names. Then I will print it."
   ]
  },
  {
   "cell_type": "code",
   "execution_count": 2,
   "id": "6fc458ff",
   "metadata": {},
   "outputs": [
    {
     "name": "stdout",
     "output_type": "stream",
     "text": [
      "['Einstein', 'Newton', 'Copernicus', 'Kepler']\n"
     ]
    }
   ],
   "source": [
    "# Create list with names and set it equal\n",
    "# to the names variable\n",
    "names = ['Einstein', 'Newton', 'Copernicus', 'Kepler']\n",
    "\n",
    "# Print the names variable\n",
    "print(names)"
   ]
  },
  {
   "cell_type": "markdown",
   "id": "bbd44b20",
   "metadata": {},
   "source": [
    "## Question 7: What will the following code print?\n",
    "\n",
    "## list1 = [40, 50, 60]\n",
    "\n",
    "## list2 = [10, 20, 30]\n",
    "\n",
    "## list3 = list1 + list2\n",
    "\n",
    "## print(list3)"
   ]
  },
  {
   "cell_type": "markdown",
   "id": "6ab75cbf",
   "metadata": {},
   "source": [
    "Initial Thoughts: This code will produce this as the output: [40, 50, 60, 10, 20, 30]"
   ]
  },
  {
   "cell_type": "code",
   "execution_count": 1,
   "id": "7cd5e5de",
   "metadata": {},
   "outputs": [
    {
     "name": "stdout",
     "output_type": "stream",
     "text": [
      "[40, 50, 60, 10, 20, 30]\n"
     ]
    }
   ],
   "source": [
    "list1 = [40, 50, 60]\n",
    "\n",
    "list2 = [10, 20, 30]\n",
    "\n",
    "list3 = list1 + list2\n",
    "\n",
    "print(list3)"
   ]
  },
  {
   "cell_type": "markdown",
   "id": "dad023ee",
   "metadata": {},
   "source": [
    "## Programing Exeercises"
   ]
  },
  {
   "cell_type": "markdown",
   "id": "3c08b0b9",
   "metadata": {},
   "source": [
    "## Question 1: Total Sales\n",
    "\n",
    "## Design a program that asks the user to enter a store’s sales for each day of the week. The amounts should be stored in a list. Use a loop to calculate the total sales for the week and display the result."
   ]
  },
  {
   "cell_type": "markdown",
   "id": "b44ac900",
   "metadata": {},
   "source": [
    "Intitial thoughts: Ok I have a vauge idea of how to do this but its gonna take some time, alot of iterations and some research. First we need to set the num_days which will always be set to 7 but could be changed later if we want. I don't know if I want to make a list of days of the week or not. Then we need a function that first gets the sales for the day of the week. Then we need a seprate eqaution which calculates the total sales and prints it. Lets see If I can do this.\n",
    "    "
   ]
  },
  {
   "cell_type": "code",
   "execution_count": 20,
   "id": "56e1c11e",
   "metadata": {},
   "outputs": [
    {
     "name": "stdout",
     "output_type": "stream",
     "text": [
      "Enter the sales for Sunday: $1\n",
      "Enter the sales for Monday: $1\n",
      "Enter the sales for Tuesday: $1\n",
      "Enter the sales for Wednesday: $1\n",
      "Enter the sales for Thursday: $1\n",
      "Enter the sales for Friday: $1\n",
      "Enter the sales for Saturday: $1\n",
      "7.0\n"
     ]
    }
   ],
   "source": [
    "# This program collects data from each day of the week\n",
    "# and calculates the total sales\n",
    "\n",
    "# Creates a empty list where the daily sale can go\n",
    "daily_sales = []\n",
    "\n",
    "def main():\n",
    "  \n",
    "    # Gets the daily sales for each day\n",
    "    for day in ['Sunday', 'Monday', 'Tuesday', 'Wednesday',\n",
    "            'Thursday', 'Friday', 'Saturday']:\n",
    "        \n",
    "        sales = float(input(f'Enter the sales for {day}: $'))\n",
    "        daily_sales.append(sales)\n",
    "    \n",
    "    # Sums the list of daily sales\n",
    "    total_sales = sum(daily_sales)\n",
    "    \n",
    "    # Displays the sum of daily sales\n",
    "    print(total_sales)\n",
    "\n",
    "# Calls the main function\n",
    "if __name__ == '__main__':\n",
    "    main()"
   ]
  },
  {
   "cell_type": "markdown",
   "id": "7fa454de",
   "metadata": {},
   "source": [
    "monday = (0)\n",
    "\n",
    "tuesday = (0)\n",
    "\n",
    "wednesday = (0)\n",
    "\n",
    "test_list = [monday, tuesday, wednesday]\n",
    "\n",
    "print(test_list)"
   ]
  },
  {
   "cell_type": "code",
   "execution_count": null,
   "id": "daf731c4",
   "metadata": {},
   "outputs": [],
   "source": []
  }
 ],
 "metadata": {
  "kernelspec": {
   "display_name": "Python 3 (ipykernel)",
   "language": "python",
   "name": "python3"
  },
  "language_info": {
   "codemirror_mode": {
    "name": "ipython",
    "version": 3
   },
   "file_extension": ".py",
   "mimetype": "text/x-python",
   "name": "python",
   "nbconvert_exporter": "python",
   "pygments_lexer": "ipython3",
   "version": "3.11.4"
  }
 },
 "nbformat": 4,
 "nbformat_minor": 5
}
