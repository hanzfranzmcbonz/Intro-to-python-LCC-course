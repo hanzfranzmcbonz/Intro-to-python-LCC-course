{
 "cells": [
  {
   "cell_type": "markdown",
   "id": "c113c3c5",
   "metadata": {},
   "source": [
    "# Coding Set 4 (Chapter 4 Exsamples)"
   ]
  },
  {
   "cell_type": "markdown",
   "id": "1aa583c5",
   "metadata": {},
   "source": [
    "## Problem 1: Write a while loop that lets the user enter a number. The number should be multiplied by 10, and the result assigned to a variable named product. The loop should iterate as long as product is less than 100."
   ]
  },
  {
   "cell_type": "markdown",
   "id": "04f94d91",
   "metadata": {},
   "source": [
    "Initial Thoughts: First were going to need statment that sets the variable to zero so we can use product later on. Then we add a while loop with condition <100 followed by an input that allows the user to enter a number in then converts it to float point and sets it equal to user input and multiply it by 10. Finish when it goes over 100."
   ]
  },
  {
   "cell_type": "code",
   "execution_count": 2,
   "id": "14f8ad8c",
   "metadata": {},
   "outputs": [
    {
     "name": "stdout",
     "output_type": "stream",
     "text": [
      "Enter a number: 10\n",
      "10.0 multiplied by 10 equals: 100.0\n",
      "Product is now bigger than 100. Ending loop.\n"
     ]
    }
   ],
   "source": [
    "product = 0 #initialize the variable product\n",
    "while product < 100:\n",
    "    user_input = float(input('Enter a number: '))#convert the number to float, set it to variable user input\n",
    "    product = (user_input*10) #multiply user input by 10, set equal to product\n",
    "    print(f\"{user_input} multiplied by 10 equals: {product}\") #print that the number has been multiplyed by ten\n",
    "print('Product is now bigger than 100. Ending loop.') #print that the number has exceeded 100 and the program is finished"
   ]
  },
  {
   "cell_type": "markdown",
   "id": "4eb3eda2",
   "metadata": {},
   "source": [
    "### Problem 3: Write a for loop that displays the following set of numbers: \n",
    "\n",
    "## 0 , 10 , 20 , 30 , 40 , 50 . . . 1000"
   ]
  },
  {
   "cell_type": "markdown",
   "id": "e51a3ab1",
   "metadata": {},
   "source": [
    "Initial Thoughts: This one seems pretty simple to do. All I need is a for loop going up by 10 to 1000. Then I print."
   ]
  },
  {
   "cell_type": "code",
   "execution_count": 3,
   "id": "533cb4d1",
   "metadata": {},
   "outputs": [
    {
     "name": "stdout",
     "output_type": "stream",
     "text": [
      "0\n",
      "10\n",
      "20\n",
      "30\n",
      "40\n",
      "50\n",
      "60\n",
      "70\n",
      "80\n",
      "90\n",
      "100\n",
      "110\n",
      "120\n",
      "130\n",
      "140\n",
      "150\n",
      "160\n",
      "170\n",
      "180\n",
      "190\n",
      "200\n",
      "210\n",
      "220\n",
      "230\n",
      "240\n",
      "250\n",
      "260\n",
      "270\n",
      "280\n",
      "290\n",
      "300\n",
      "310\n",
      "320\n",
      "330\n",
      "340\n",
      "350\n",
      "360\n",
      "370\n",
      "380\n",
      "390\n",
      "400\n",
      "410\n",
      "420\n",
      "430\n",
      "440\n",
      "450\n",
      "460\n",
      "470\n",
      "480\n",
      "490\n",
      "500\n",
      "510\n",
      "520\n",
      "530\n",
      "540\n",
      "550\n",
      "560\n",
      "570\n",
      "580\n",
      "590\n",
      "600\n",
      "610\n",
      "620\n",
      "630\n",
      "640\n",
      "650\n",
      "660\n",
      "670\n",
      "680\n",
      "690\n",
      "700\n",
      "710\n",
      "720\n",
      "730\n",
      "740\n",
      "750\n",
      "760\n",
      "770\n",
      "780\n",
      "790\n",
      "800\n",
      "810\n",
      "820\n",
      "830\n",
      "840\n",
      "850\n",
      "860\n",
      "870\n",
      "880\n",
      "890\n",
      "900\n",
      "910\n",
      "920\n",
      "930\n",
      "940\n",
      "950\n",
      "960\n",
      "970\n",
      "980\n",
      "990\n",
      "1000\n"
     ]
    }
   ],
   "source": [
    "num = 0 #Initial\n",
    "for num in range(0, 1001, 10): #Generate sequence of numbers from 0 to 1000 incrimenting by 10\n",
    "    print(num) #print num"
   ]
  },
  {
   "cell_type": "code",
   "execution_count": null,
   "id": "ab4c98aa",
   "metadata": {},
   "outputs": [],
   "source": []
  }
 ],
 "metadata": {
  "kernelspec": {
   "display_name": "Python 3 (ipykernel)",
   "language": "python",
   "name": "python3"
  },
  "language_info": {
   "codemirror_mode": {
    "name": "ipython",
    "version": 3
   },
   "file_extension": ".py",
   "mimetype": "text/x-python",
   "name": "python",
   "nbconvert_exporter": "python",
   "pygments_lexer": "ipython3",
   "version": "3.11.4"
  }
 },
 "nbformat": 4,
 "nbformat_minor": 5
}
