{
 "cells": [
  {
   "cell_type": "markdown",
   "id": "c113c3c5",
   "metadata": {},
   "source": [
    "# Coding Set 4 (Chapter 4 Exsamples)"
   ]
  },
  {
   "cell_type": "markdown",
   "id": "1aa583c5",
   "metadata": {},
   "source": [
    "## Problem 1: Write a while loop that lets the user enter a number. The number should be multiplied by 10, and the result assigned to a variable named product. The loop should iterate as long as product is less than 100."
   ]
  },
  {
   "cell_type": "markdown",
   "id": "04f94d91",
   "metadata": {},
   "source": [
    "Initial Thoughts: First were going to need statment that sets the variable to zero so we can use product later on. Then we add a while loop with condition <100 followed by an input that allows the user to enter a number in then converts it to float point and sets it equal to user input and multiply it by 10. Finish when it goes over 100."
   ]
  },
  {
   "cell_type": "code",
   "execution_count": 1,
   "id": "14f8ad8c",
   "metadata": {},
   "outputs": [
    {
     "name": "stdout",
     "output_type": "stream",
     "text": [
      "Enter a number: j\\\\\n"
     ]
    },
    {
     "ename": "ValueError",
     "evalue": "could not convert string to float: 'j\\\\\\\\'",
     "output_type": "error",
     "traceback": [
      "\u001b[0;31m---------------------------------------------------------------------------\u001b[0m",
      "\u001b[0;31mValueError\u001b[0m                                Traceback (most recent call last)",
      "Cell \u001b[0;32mIn[1], line 3\u001b[0m\n\u001b[1;32m      1\u001b[0m product \u001b[38;5;241m=\u001b[39m \u001b[38;5;241m0\u001b[39m \u001b[38;5;66;03m#initialize the variable product\u001b[39;00m\n\u001b[1;32m      2\u001b[0m \u001b[38;5;28;01mwhile\u001b[39;00m product \u001b[38;5;241m<\u001b[39m \u001b[38;5;241m100\u001b[39m:\n\u001b[0;32m----> 3\u001b[0m     user_input \u001b[38;5;241m=\u001b[39m \u001b[38;5;28mfloat\u001b[39m(\u001b[38;5;28minput\u001b[39m(\u001b[38;5;124m'\u001b[39m\u001b[38;5;124mEnter a number: \u001b[39m\u001b[38;5;124m'\u001b[39m))\u001b[38;5;66;03m#convert the number to float, set it to variable user input\u001b[39;00m\n\u001b[1;32m      4\u001b[0m     product \u001b[38;5;241m=\u001b[39m (user_input\u001b[38;5;241m*\u001b[39m\u001b[38;5;241m10\u001b[39m) \u001b[38;5;66;03m#multiply user input by 10, set equal to product\u001b[39;00m\n\u001b[1;32m      5\u001b[0m     \u001b[38;5;28mprint\u001b[39m(\u001b[38;5;124mf\u001b[39m\u001b[38;5;124m\"\u001b[39m\u001b[38;5;132;01m{\u001b[39;00muser_input\u001b[38;5;132;01m}\u001b[39;00m\u001b[38;5;124m multiplied by 10 equals: \u001b[39m\u001b[38;5;132;01m{\u001b[39;00mproduct\u001b[38;5;132;01m}\u001b[39;00m\u001b[38;5;124m\"\u001b[39m) \u001b[38;5;66;03m#print that the number has been multiplyed by ten\u001b[39;00m\n",
      "\u001b[0;31mValueError\u001b[0m: could not convert string to float: 'j\\\\\\\\'"
     ]
    }
   ],
   "source": [
    "#initialize the variable product\n",
    "product = 0 \n",
    "while product < 100:\n",
    "    user_input = float(input('Enter a number: '))#convert the number to float, set it to variable user input\n",
    "    product = (user_input*10) #multiply user input by 10, set equal to product\n",
    "    print(f\"{user_input} multiplied by 10 equals: {product}\") #print that the number has been multiplyed by ten\n",
    "print('Product is now bigger than 100. Ending loop.') #print that the number has exceeded 100 and the program is finished"
   ]
  },
  {
   "cell_type": "markdown",
   "id": "bb3876ec",
   "metadata": {},
   "source": [
    "### Problem 3: Write a for loop that displays the following set of numbers: \n",
    "\n",
    "## 0 , 10 , 20 , 30 , 40 , 50 . . . 1000"
   ]
  },
  {
   "cell_type": "markdown",
   "id": "73588f45",
   "metadata": {},
   "source": [
    "Initial Thoughts: This one seems pretty simple to do. All I need is a for loop going up by 10 to 1000. Then I print."
   ]
  },
  {
   "cell_type": "code",
   "execution_count": 2,
   "id": "d00ac13d",
   "metadata": {},
   "outputs": [
    {
     "name": "stdout",
     "output_type": "stream",
     "text": [
      "0\n",
      "10\n",
      "20\n",
      "30\n",
      "40\n",
      "50\n",
      "60\n",
      "70\n",
      "80\n",
      "90\n",
      "100\n",
      "110\n",
      "120\n",
      "130\n",
      "140\n",
      "150\n",
      "160\n",
      "170\n",
      "180\n",
      "190\n",
      "200\n",
      "210\n",
      "220\n",
      "230\n",
      "240\n",
      "250\n",
      "260\n",
      "270\n",
      "280\n",
      "290\n",
      "300\n",
      "310\n",
      "320\n",
      "330\n",
      "340\n",
      "350\n",
      "360\n",
      "370\n",
      "380\n",
      "390\n",
      "400\n",
      "410\n",
      "420\n",
      "430\n",
      "440\n",
      "450\n",
      "460\n",
      "470\n",
      "480\n",
      "490\n",
      "500\n",
      "510\n",
      "520\n",
      "530\n",
      "540\n",
      "550\n",
      "560\n",
      "570\n",
      "580\n",
      "590\n",
      "600\n",
      "610\n",
      "620\n",
      "630\n",
      "640\n",
      "650\n",
      "660\n",
      "670\n",
      "680\n",
      "690\n",
      "700\n",
      "710\n",
      "720\n",
      "730\n",
      "740\n",
      "750\n",
      "760\n",
      "770\n",
      "780\n",
      "790\n",
      "800\n",
      "810\n",
      "820\n",
      "830\n",
      "840\n",
      "850\n",
      "860\n",
      "870\n",
      "880\n",
      "890\n",
      "900\n",
      "910\n",
      "920\n",
      "930\n",
      "940\n",
      "950\n",
      "960\n",
      "970\n",
      "980\n",
      "990\n",
      "1000\n"
     ]
    }
   ],
   "source": [
    "num = 0 #Initial\n",
    "for num in range(0, 1001, 10): #Generate sequence of numbers from 0 to 1000 incrimenting by 10\n",
    "    print(num) #print num"
   ]
  },
  {
   "cell_type": "markdown",
   "id": "db55934d",
   "metadata": {},
   "source": [
    "## Programing Exercises"
   ]
  },
  {
   "cell_type": "markdown",
   "id": "810ef9f0",
   "metadata": {},
   "source": [
    "## Problem 1:  Bug Collector\n",
    "## A bug collector collects bugs every day for five days. Write a program that keeps a running total of the number of bugs collected during the five days. The loop should ask for the number of bugs collected for each day, and when the loop is finished, the program should display the total number of bugs collected."
   ]
  },
  {
   "cell_type": "markdown",
   "id": "3e6016c3",
   "metadata": {},
   "source": [
    "Initial Thoughts: This will be a simple for loop that will ask the user to input the number of bugs collected everyday. Total bugs will be the final output to print and will just be a addition of the number of bugs collected."
   ]
  },
  {
   "cell_type": "code",
   "execution_count": 4,
   "id": "41b58875",
   "metadata": {},
   "outputs": [
    {
     "name": "stdout",
     "output_type": "stream",
     "text": [
      "How many bugs were collected? on day 1:4\n",
      "How many bugs were collected? on day 2:4\n",
      "How many bugs were collected? on day 3:2\n",
      "How many bugs were collected? on day 4:5\n",
      "How many bugs were collected? on day 5:1\n",
      "(Total number of bugs collected during the 5 days: 16\n"
     ]
    }
   ],
   "source": [
    "#initialize the total_bugs variable set to 0\n",
    "total_bugs = 0\n",
    "\n",
    "#for loop that will loop for the 5 days\n",
    "for days in range(1,6):\n",
    "    \n",
    "    #user input to determine the number of bugs collected\n",
    "    #set user input equal to the variable num_bugs\n",
    "    num_bugs = int(input(f'How many bugs were collected? on day {days}:'))\n",
    "    \n",
    "    total_bugs += num_bugs\n",
    "    \n",
    "#print the total number of bugs over the 5 days\n",
    "print(f'Total number of bugs collected during the 5 days: {total_bugs}')"
   ]
  },
  {
   "cell_type": "code",
   "execution_count": null,
   "id": "ac78b532",
   "metadata": {},
   "outputs": [],
   "source": []
  }
 ],
 "metadata": {
  "kernelspec": {
   "display_name": "Python 3 (ipykernel)",
   "language": "python",
   "name": "python3"
  },
  "language_info": {
   "codemirror_mode": {
    "name": "ipython",
    "version": 3
   },
   "file_extension": ".py",
   "mimetype": "text/x-python",
   "name": "python",
   "nbconvert_exporter": "python",
   "pygments_lexer": "ipython3",
   "version": "3.11.4"
  }
 },
 "nbformat": 4,
 "nbformat_minor": 5
}
