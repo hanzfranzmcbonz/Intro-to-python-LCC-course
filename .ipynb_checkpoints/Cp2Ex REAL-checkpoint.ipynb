{
 "cells": [
  {
   "cell_type": "markdown",
   "id": "52feaa7f",
   "metadata": {},
   "source": [
    "# Chapter 2 Practice Exsamples\n",
    "\n"
   ]
  },
  {
   "cell_type": "markdown",
   "id": "03cbec4e",
   "metadata": {},
   "source": [
    "In this assignment I will atempt to work my way through the chapter 2 practice exsamples. I waited till the last possible moment to work on this, and that is too my detrement. I will be doing Problems 1, _, and 13."
   ]
  },
  {
   "cell_type": "markdown",
   "id": "6d8a0525",
   "metadata": {},
   "source": [
    "## Algorithm Workbench\n"
   ]
  },
  {
   "cell_type": "markdown",
   "id": "66c471c3",
   "metadata": {},
   "source": [
    "### Problem 2: Write Python code that prompts the use to enter his or her favorite color and assigns the user's input to a variable named COLOR.\n"
   ]
  },
  {
   "cell_type": "markdown",
   "id": "48864c8d",
   "metadata": {},
   "source": [
    "Initial Thoughts on problem: Understanding the problem from an initial stand point I see there are multiple steps in which my code must execute. First I beleive it must contain a promt that ask the user to imput a certain keyboard imput. This imput must then be read by a seperate line that reads the answer and assigns it to a varible color. Im not sure how to make the prompt come up so that is what I'll start with. "
   ]
  },
  {
   "cell_type": "markdown",
   "id": "6db39439",
   "metadata": {},
   "source": [
    "My initial try was unsucsessful because prompt was not spelled correctly. I realized that the function I actually want is input. Ok now that I have a sucssesful input time to assign it to a varible. I wanted to add some other words to go with the code but I think it meets the satisfaction of the question"
   ]
  },
  {
   "cell_type": "code",
   "execution_count": 1,
   "id": "63698c89",
   "metadata": {},
   "outputs": [
    {
     "name": "stdout",
     "output_type": "stream",
     "text": [
      "What is you favorite color?blue\n"
     ]
    }
   ],
   "source": [
    "color = input('What is you favorite color?')\n",
    "# Prompt to ask the user her or his favorite color"
   ]
  },
  {
   "cell_type": "code",
   "execution_count": 2,
   "id": "41bba9a4",
   "metadata": {},
   "outputs": [
    {
     "name": "stdout",
     "output_type": "stream",
     "text": [
      "blue Wow!!! What a great color.\n"
     ]
    }
   ],
   "source": [
    "print(color + ' Wow!!! What a great color.')\n",
    "# Text to confirm variable color and respond to user"
   ]
  },
  {
   "cell_type": "markdown",
   "id": "f79509b3",
   "metadata": {},
   "source": [
    "## Programing Ecercises\n"
   ]
  },
  {
   "cell_type": "markdown",
   "id": "82a2e4ce",
   "metadata": {},
   "source": [
    "### Problem 1: Write a program that displays the following information:\n",
    "\n",
    "### Your name\n",
    "\n",
    "### Your Address, city, state, and ZIP\n",
    "\n",
    "### Your telephone number\n",
    "\n",
    "### Your college major"
   ]
  },
  {
   "cell_type": "markdown",
   "id": "ca363525",
   "metadata": {},
   "source": [
    "Initial thoughts on problem: It seems to have multiple steps involved with this problem. Each question is going to to need a seperate prompt and varible assigned to it. Then a seperate line is going to have to print all of these together. Hopefully I can keep the code consise."
   ]
  },
  {
   "cell_type": "markdown",
   "id": "e2d6223a",
   "metadata": {},
   "source": [
    "### "
   ]
  },
  {
   "cell_type": "code",
   "execution_count": 3,
   "id": "48b85537",
   "metadata": {},
   "outputs": [
    {
     "name": "stdout",
     "output_type": "stream",
     "text": [
      "Personal Contact Info Form\n"
     ]
    }
   ],
   "source": [
    "print('Personal Contact Info Form')\n",
    "# Title to state what the following promts with ask of the user. "
   ]
  },
  {
   "cell_type": "code",
   "execution_count": null,
   "id": "c5117ae5",
   "metadata": {},
   "outputs": [],
   "source": [
    "name = input('What is your name? ')\n",
    "#prompt to ask the user their name"
   ]
  },
  {
   "cell_type": "code",
   "execution_count": null,
   "id": "5966e9d4",
   "metadata": {},
   "outputs": [],
   "source": [
    "street_address = input('What is your Street Address? ')\n",
    "#prompt to ask the user their street address"
   ]
  },
  {
   "cell_type": "code",
   "execution_count": 6,
   "id": "c6e05d2b",
   "metadata": {},
   "outputs": [
    {
     "name": "stdout",
     "output_type": "stream",
     "text": [
      "What is your City? Dewitt\n"
     ]
    }
   ],
   "source": [
    "city = input('What is your City? ')\n",
    "#promt to ask the user their city"
   ]
  },
  {
   "cell_type": "code",
   "execution_count": 7,
   "id": "abb28659",
   "metadata": {},
   "outputs": [
    {
     "name": "stdout",
     "output_type": "stream",
     "text": [
      "what is your state? Michigan\n"
     ]
    }
   ],
   "source": [
    "state = input(\"what is your state? \")\n",
    "#promt to ask the user their state"
   ]
  },
  {
   "cell_type": "code",
   "execution_count": 8,
   "id": "0904dff6",
   "metadata": {},
   "outputs": [
    {
     "name": "stdout",
     "output_type": "stream",
     "text": [
      "What is your ZIP? 48820\n"
     ]
    }
   ],
   "source": [
    "ZIP = input('What is your ZIP? ')\n",
    "#prompt to ask the user their zip"
   ]
  },
  {
   "cell_type": "code",
   "execution_count": 9,
   "id": "50796c32",
   "metadata": {},
   "outputs": [],
   "source": [
    "address = (street_address, city, state, ZIP)\n",
    "#combining all address info into one variable"
   ]
  },
  {
   "cell_type": "code",
   "execution_count": 10,
   "id": "107f0b53",
   "metadata": {},
   "outputs": [
    {
     "name": "stdout",
     "output_type": "stream",
     "text": [
      "What is your Telephone Number? 517-624-9010\n"
     ]
    }
   ],
   "source": [
    "telephone_number = input('What is your Telephone Number? ')\n",
    "#prompt to ask the user there phone number"
   ]
  },
  {
   "cell_type": "code",
   "execution_count": 11,
   "id": "1f70c99d",
   "metadata": {},
   "outputs": [
    {
     "name": "stdout",
     "output_type": "stream",
     "text": [
      "What is you College Major? Econ\n"
     ]
    }
   ],
   "source": [
    "major = input('What is you College Major? ')\n",
    "#prompt to ask the user their college major"
   ]
  },
  {
   "cell_type": "code",
   "execution_count": 18,
   "id": "dc59aa57",
   "metadata": {},
   "outputs": [
    {
     "name": "stdout",
     "output_type": "stream",
     "text": [
      "Dillon Blair ('13225 speckledwood dr', 'Dewitt', 'Michigan', '48820') 517-624-9010 Econ\n"
     ]
    }
   ],
   "source": [
    "print(name, address, telephone_number, major)\n",
    "#display all info givin in form"
   ]
  },
  {
   "cell_type": "markdown",
   "id": "4ed0ab58",
   "metadata": {},
   "source": [
    "# "
   ]
  },
  {
   "cell_type": "markdown",
   "id": "cfadc8f1",
   "metadata": {},
   "source": []
  }
 ],
 "metadata": {
  "kernelspec": {
   "display_name": "Python 3 (ipykernel)",
   "language": "python",
   "name": "python3"
  },
  "language_info": {
   "codemirror_mode": {
    "name": "ipython",
    "version": 3
   },
   "file_extension": ".py",
   "mimetype": "text/x-python",
   "name": "python",
   "nbconvert_exporter": "python",
   "pygments_lexer": "ipython3",
   "version": "3.11.4"
  }
 },
 "nbformat": 4,
 "nbformat_minor": 5
}
