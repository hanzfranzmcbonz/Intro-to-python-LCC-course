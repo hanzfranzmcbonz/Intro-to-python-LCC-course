{
 "cells": [
  {
   "cell_type": "markdown",
   "id": "f59e9a08",
   "metadata": {},
   "source": [
    "# Chapter 2 Practice Exsamples\n",
    "\n"
   ]
  },
  {
   "cell_type": "markdown",
   "id": "535eb2b4",
   "metadata": {},
   "source": [
    "In this assignment I will atempt to work my way through the chapter 2 practice exsamples. I waited till the last possible moment to work on this, and that is too my detrement. I will be doing Problems 1, _, and 13."
   ]
  },
  {
   "cell_type": "markdown",
   "id": "319f2238",
   "metadata": {},
   "source": [
    "## Algorithm Workbench\n"
   ]
  },
  {
   "cell_type": "markdown",
   "id": "114c5274",
   "metadata": {},
   "source": [
    "### Problem 2: Write Python code that prompts the use to enter his or her favorite color and assigns the user's input to a variable named COLOR.\n"
   ]
  },
  {
   "cell_type": "markdown",
   "id": "571fb16e",
   "metadata": {},
   "source": [
    "Initial Thoughts on problem: Understanding the problem from an initial stand point I see there are multiple steps in which my code must execute. First I beleive it must contain a promt that ask the user to imput a certain keyboard imput. This imput must then be read by a seperate line that reads the answer and assigns it to a varible color. Im not sure how to make the prompt come up so that is what I'll start with. "
   ]
  },
  {
   "cell_type": "markdown",
   "id": "42c9df4f",
   "metadata": {},
   "source": [
    "My initial try was unsucsessful because prompt was not spelled correctly. I realized that the function I actually want is input. Ok now that I have a sucssesful input time to assign it to a varible. I wanted to add some other words to go with the code but I think it meets the satisfaction of the question"
   ]
  },
  {
   "cell_type": "code",
   "execution_count": 1,
   "id": "57cfc7f1",
   "metadata": {},
   "outputs": [
    {
     "name": "stdout",
     "output_type": "stream",
     "text": [
      "What is you favorite color?blue\n"
     ]
    }
   ],
   "source": [
    "color = input('What is you favorite color?')\n",
    "# Prompt to ask the user her or his favorite color"
   ]
  },
  {
   "cell_type": "code",
   "execution_count": 2,
   "id": "7d4624b4",
   "metadata": {},
   "outputs": [
    {
     "name": "stdout",
     "output_type": "stream",
     "text": [
      "blue Wow!!! What a great color.\n"
     ]
    }
   ],
   "source": [
    "print(color + ' Wow!!! What a great color.')\n",
    "# Text to confirm variable color and respond to user"
   ]
  },
  {
   "cell_type": "markdown",
   "id": "b546fb7a",
   "metadata": {},
   "source": [
    "## Programing Ecercises\n"
   ]
  },
  {
   "cell_type": "code",
   "execution_count": null,
   "id": "78775d89",
   "metadata": {},
   "outputs": [],
   "source": []
  }
 ],
 "metadata": {
  "kernelspec": {
   "display_name": "Python 3 (ipykernel)",
   "language": "python",
   "name": "python3"
  },
  "language_info": {
   "codemirror_mode": {
    "name": "ipython",
    "version": 3
   },
   "file_extension": ".py",
   "mimetype": "text/x-python",
   "name": "python",
   "nbconvert_exporter": "python",
   "pygments_lexer": "ipython3",
   "version": "3.11.4"
  }
 },
 "nbformat": 4,
 "nbformat_minor": 5
}
