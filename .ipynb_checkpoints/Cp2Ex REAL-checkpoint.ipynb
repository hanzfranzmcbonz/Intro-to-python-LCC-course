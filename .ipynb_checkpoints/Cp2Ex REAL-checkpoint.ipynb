{
 "cells": [
  {
   "cell_type": "markdown",
   "id": "67093e9a",
   "metadata": {},
   "source": [
    "# Chapter 2 Practice Exsamples\n",
    "\n"
   ]
  },
  {
   "cell_type": "markdown",
   "id": "825df93b",
   "metadata": {},
   "source": [
    "In this assignment I will atempt to work my way through the chapter 2 practice exsamples. I waited till the last possible moment to work on this, and that is too my detrement. I will be doing Problems 1, _, and 13."
   ]
  },
  {
   "cell_type": "markdown",
   "id": "6ac52405",
   "metadata": {},
   "source": [
    "## Algorithm Workbench\n"
   ]
  },
  {
   "cell_type": "markdown",
   "id": "d1cc83eb",
   "metadata": {},
   "source": [
    "### Problem 2: Write Python code that prompts the use to enter his or her favorite color and assigns the user's input to a variable named COLOR.\n"
   ]
  },
  {
   "cell_type": "markdown",
   "id": "1321eab8",
   "metadata": {},
   "source": [
    "Initial Thoughts on problem: Understanding the problem from an initial stand point I see there are multiple steps in which my code must execute. First I beleive it must contain a promt that ask the user to imput a certain keyboard imput. This imput must then be read by a seperate line that reads the answer and assigns it to a varible color. Im not sure how to make the prompt come up so that is what I'll start with. "
   ]
  },
  {
   "cell_type": "code",
   "execution_count": 1,
   "id": "2eb5172c",
   "metadata": {},
   "outputs": [
    {
     "ename": "NameError",
     "evalue": "name 'promt' is not defined",
     "output_type": "error",
     "traceback": [
      "\u001b[0;31m---------------------------------------------------------------------------\u001b[0m",
      "\u001b[0;31mNameError\u001b[0m                                 Traceback (most recent call last)",
      "Cell \u001b[0;32mIn[1], line 1\u001b[0m\n\u001b[0;32m----> 1\u001b[0m promt(\u001b[38;5;124m'\u001b[39m\u001b[38;5;124mWhat is your favorite color?\u001b[39m\u001b[38;5;124m'\u001b[39m)\n",
      "\u001b[0;31mNameError\u001b[0m: name 'promt' is not defined"
     ]
    }
   ],
   "source": [
    "promt('What is your favorite color?')"
   ]
  },
  {
   "cell_type": "markdown",
   "id": "5b30f88c",
   "metadata": {},
   "source": [
    "My initial try was unsucsessful because promt was not correct."
   ]
  }
 ],
 "metadata": {
  "kernelspec": {
   "display_name": "Python 3 (ipykernel)",
   "language": "python",
   "name": "python3"
  },
  "language_info": {
   "codemirror_mode": {
    "name": "ipython",
    "version": 3
   },
   "file_extension": ".py",
   "mimetype": "text/x-python",
   "name": "python",
   "nbconvert_exporter": "python",
   "pygments_lexer": "ipython3",
   "version": "3.11.4"
  }
 },
 "nbformat": 4,
 "nbformat_minor": 5
}
