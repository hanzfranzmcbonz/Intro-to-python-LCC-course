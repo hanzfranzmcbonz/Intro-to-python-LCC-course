{
 "cells": [
  {
   "cell_type": "markdown",
   "id": "1b194a33",
   "metadata": {},
   "source": [
    "# Chapter 2 Practice Exsamples\n",
    "\n"
   ]
  },
  {
   "cell_type": "markdown",
   "id": "92d86761",
   "metadata": {},
   "source": [
    "In this assignment I will atempt to work my way through the chapter 2 practice exsamples. I waited till the last possible moment to work on this, and that is too my detrement. I will be doing Problems 1, _, and 13."
   ]
  },
  {
   "cell_type": "markdown",
   "id": "07c09d41",
   "metadata": {},
   "source": [
    "## Algorithm Workbench\n"
   ]
  },
  {
   "cell_type": "markdown",
   "id": "3684df57",
   "metadata": {},
   "source": [
    "### Problem 2: Write Python code that prompts the use to enter his or her favorite color and assigns the user's input to a variable named COLOR.\n"
   ]
  },
  {
   "cell_type": "markdown",
   "id": "6d8d11c9",
   "metadata": {},
   "source": [
    "Initial Thoughts on problem: Understanding the problem from an initial stand point I see there are multiple steps in which my code must execute. First I beleive it must contain a promt that ask the user to imput a certain keyboard imput. This imput must then be read by a seperate line that reads the answer and assigns it to a varible color. Im not sure how to make the prompt come up so that is what I'll start with. "
   ]
  },
  {
   "cell_type": "markdown",
   "id": "e0a89f2f",
   "metadata": {},
   "source": [
    "My initial try was unsucsessful because prompt was not spelled correctly. I realized that the function I actually want is input. Ok now that I have a sucssesful input time to assign it to a varible. I wanted to add some other words to go with the code but I think it meets the satisfaction of the question"
   ]
  },
  {
   "cell_type": "code",
   "execution_count": 1,
   "id": "6ff61b27",
   "metadata": {},
   "outputs": [
    {
     "name": "stdout",
     "output_type": "stream",
     "text": [
      "What is you favorite color?g\n"
     ]
    }
   ],
   "source": [
    "color = input('What is you favorite color?')\n",
    "# Prompt to ask the user her or his favorite color"
   ]
  },
  {
   "cell_type": "code",
   "execution_count": 2,
   "id": "61fcd45b",
   "metadata": {},
   "outputs": [
    {
     "name": "stdout",
     "output_type": "stream",
     "text": [
      "g Wow!!! What a great color.\n"
     ]
    }
   ],
   "source": [
    "print(color + ' Wow!!! What a great color.')\n",
    "# Text to confirm variable color and respond to user"
   ]
  },
  {
   "cell_type": "markdown",
   "id": "0cbfa151",
   "metadata": {},
   "source": [
    "## Programing Ecercises\n"
   ]
  },
  {
   "cell_type": "markdown",
   "id": "e63fb087",
   "metadata": {},
   "source": [
    "### Problem 1: Write a program that displays the following information:\n",
    "\n",
    "### Your name\n",
    "\n",
    "### Your Address, city, state, and ZIP\n",
    "\n",
    "### Your telephone number\n",
    "\n",
    "### Your college major"
   ]
  },
  {
   "cell_type": "markdown",
   "id": "64b58d43",
   "metadata": {},
   "source": [
    "Initial thoughts on problem: It seems to have multiple steps involved with this problem. Each question is going to to need a seperate prompt and varible assigned to it. Then a seperate line is going to have to print all of these together. Hopefully I can keep the code consise."
   ]
  },
  {
   "cell_type": "markdown",
   "id": "b9ca2fbc",
   "metadata": {},
   "source": [
    "### "
   ]
  },
  {
   "cell_type": "code",
   "execution_count": 3,
   "id": "64101599",
   "metadata": {},
   "outputs": [
    {
     "name": "stdout",
     "output_type": "stream",
     "text": [
      "Personal Contact Info Form\n"
     ]
    }
   ],
   "source": [
    "print('Personal Contact Info Form')\n",
    "# Title to state what the following promts with ask of the user. "
   ]
  },
  {
   "cell_type": "code",
   "execution_count": 4,
   "id": "e0772f9b",
   "metadata": {},
   "outputs": [
    {
     "name": "stdout",
     "output_type": "stream",
     "text": [
      "What is your name? g\n"
     ]
    }
   ],
   "source": [
    "name = input('What is your name? ')\n",
    "#prompt to ask the user their name"
   ]
  },
  {
   "cell_type": "code",
   "execution_count": 5,
   "id": "3e035810",
   "metadata": {},
   "outputs": [
    {
     "name": "stdout",
     "output_type": "stream",
     "text": [
      "What is your Street Address? g\n"
     ]
    }
   ],
   "source": [
    "street_address = input('What is your Street Address? ')\n",
    "#prompt to ask the user their street address"
   ]
  },
  {
   "cell_type": "code",
   "execution_count": 6,
   "id": "29097201",
   "metadata": {},
   "outputs": [
    {
     "name": "stdout",
     "output_type": "stream",
     "text": [
      "What is your City? g\n"
     ]
    }
   ],
   "source": [
    "city = input('What is your City? ')\n",
    "#promt to ask the user their city"
   ]
  },
  {
   "cell_type": "code",
   "execution_count": 7,
   "id": "eb0acdb3",
   "metadata": {},
   "outputs": [
    {
     "name": "stdout",
     "output_type": "stream",
     "text": [
      "what is your state? g\n"
     ]
    }
   ],
   "source": [
    "state = input(\"what is your state? \")\n",
    "#promt to ask the user their state"
   ]
  },
  {
   "cell_type": "code",
   "execution_count": 8,
   "id": "7e7ca543",
   "metadata": {},
   "outputs": [
    {
     "name": "stdout",
     "output_type": "stream",
     "text": [
      "What is your ZIP? g\n"
     ]
    }
   ],
   "source": [
    "ZIP = input('What is your ZIP? ')\n",
    "#prompt to ask the user their zip"
   ]
  },
  {
   "cell_type": "code",
   "execution_count": 9,
   "id": "ff69b440",
   "metadata": {},
   "outputs": [],
   "source": [
    "address = (street_address, city, state, ZIP)\n",
    "#combining all address info into one variable"
   ]
  },
  {
   "cell_type": "code",
   "execution_count": 10,
   "id": "03019f25",
   "metadata": {},
   "outputs": [
    {
     "name": "stdout",
     "output_type": "stream",
     "text": [
      "What is your Telephone Number? g\n"
     ]
    }
   ],
   "source": [
    "telephone_number = input('What is your Telephone Number? ')\n",
    "#prompt to ask the user there phone number"
   ]
  },
  {
   "cell_type": "code",
   "execution_count": 11,
   "id": "3327fda4",
   "metadata": {},
   "outputs": [
    {
     "name": "stdout",
     "output_type": "stream",
     "text": [
      "What is you College Major? g\n"
     ]
    }
   ],
   "source": [
    "major = input('What is you College Major? ')\n",
    "#prompt to ask the user their college major"
   ]
  },
  {
   "cell_type": "code",
   "execution_count": 12,
   "id": "50b74e47",
   "metadata": {},
   "outputs": [
    {
     "name": "stdout",
     "output_type": "stream",
     "text": [
      "g ('g', 'g', 'g', 'g') g g\n"
     ]
    }
   ],
   "source": [
    "print(name, address, telephone_number, major)\n",
    "#display all info givin in form"
   ]
  },
  {
   "cell_type": "markdown",
   "id": "75d97c2e",
   "metadata": {},
   "source": [
    "# "
   ]
  },
  {
   "cell_type": "markdown",
   "id": "b6047033",
   "metadata": {},
   "source": [
    "### Problem 13: A vineyard owner is planting several new rows of grapevines, and needs to know how many grapevines to plant in each row. She has determined that after measuring the length of a future row, she can use the following formula to calculate the number of vines that will fit in the row, along with the trellis end-post assemblies that will need to be constructed at each end of the row:\n",
    "\n",
    "### V= R- 2E/ S\n",
    "\n",
    "### The terms in the formula are: V is the number of grapevines that will fit in the row. R is the length of the row, in feet. E is the amount of space, in feet, used by an end-post assembly. S is the space between vines, in feet. Write a program that makes the calculation for the vineyard owner. The program should ask the user to input the following:\n",
    "                \n",
    "#### The length of the row, in feet\n",
    "                \n",
    "              \n",
    "#### The amount of space used by an end-post assembly, in feet\n",
    "                \n",
    "              \n",
    "                \n",
    "#### The amount of space between the vines, in feet\n",
    "                \n",
    "### Once the input data has been entered, the program should calculate and display the number of grapevines that will fit in the row."
   ]
  },
  {
   "cell_type": "markdown",
   "id": "d697a28e",
   "metadata": {},
   "source": [
    "Initial Thoughts on problem: Oh boy this is a big one. But looking closser at I see that its rather straight forward. Each varible needs to be independently assigned and then once all varibles are assigned placed into an equation. Each input needs to be changed to be a float or int in order to work correctly. "
   ]
  },
  {
   "cell_type": "code",
   "execution_count": 19,
   "id": "029b56ad",
   "metadata": {},
   "outputs": [
    {
     "name": "stdout",
     "output_type": "stream",
     "text": [
      "Grapevine Row Calculator\n"
     ]
    }
   ],
   "source": [
    "print('Grapevine Row Calculator')\n",
    "#Title of the Calculator"
   ]
  },
  {
   "cell_type": "code",
   "execution_count": null,
   "id": "7dcc957a",
   "metadata": {},
   "outputs": [],
   "source": [
    "R = float(input('Length of row in feet?'))\n",
    "#Prompt for the user to enter the length of the row in feet. float is needed\n",
    "#for the eqaution to understand the prompt responce"
   ]
  },
  {
   "cell_type": "code",
   "execution_count": 15,
   "id": "ff6be395",
   "metadata": {},
   "outputs": [
    {
     "name": "stdout",
     "output_type": "stream",
     "text": [
      "Ammount of space used by end-post assembly, \"in feet\"5\n"
     ]
    }
   ],
   "source": [
    "E = float(input('Ammount of space used by end-post assembly, \"in feet\"'))\n",
    "#Prompt for the user to enter the space for end-post in feet. float is needed\n",
    "#for the eqaution to understand the prompt responce."
   ]
  },
  {
   "cell_type": "code",
   "execution_count": 16,
   "id": "20fecd02",
   "metadata": {},
   "outputs": [
    {
     "name": "stdout",
     "output_type": "stream",
     "text": [
      "Ammount of space between vines, \"in feet\"1\n"
     ]
    }
   ],
   "source": [
    "S = float(input('Ammount of space between vines, \"in feet\"'))\n",
    "#Prompt for the user to enter the space between vines in feet. float is needed\n",
    "#for the eqaution to understand the prompt responce"
   ]
  },
  {
   "cell_type": "code",
   "execution_count": 17,
   "id": "15e58664",
   "metadata": {},
   "outputs": [],
   "source": [
    "V = ((R-(2*E))/S)\n",
    "#equation for determining the number of grapevines that will fit in a row"
   ]
  },
  {
   "cell_type": "markdown",
   "id": "0a5b96f3",
   "metadata": {},
   "source": [
    "I need to figure out how to make it so that the numbers I put in too the inputs come out as floats"
   ]
  },
  {
   "cell_type": "code",
   "execution_count": 18,
   "id": "533df4c2",
   "metadata": {},
   "outputs": [
    {
     "name": "stdout",
     "output_type": "stream",
     "text": [
      "90.0\n"
     ]
    }
   ],
   "source": [
    "print(V)\n",
    "#print function to tell user the results of the equation"
   ]
  }
 ],
 "metadata": {
  "kernelspec": {
   "display_name": "Python 3 (ipykernel)",
   "language": "python",
   "name": "python3"
  },
  "language_info": {
   "codemirror_mode": {
    "name": "ipython",
    "version": 3
   },
   "file_extension": ".py",
   "mimetype": "text/x-python",
   "name": "python",
   "nbconvert_exporter": "python",
   "pygments_lexer": "ipython3",
   "version": "3.11.4"
  }
 },
 "nbformat": 4,
 "nbformat_minor": 5
}
