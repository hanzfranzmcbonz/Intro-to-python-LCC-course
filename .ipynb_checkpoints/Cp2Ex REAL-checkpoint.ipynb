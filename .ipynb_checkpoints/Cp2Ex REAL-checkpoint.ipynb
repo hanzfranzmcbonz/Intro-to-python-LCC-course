{
 "cells": [
  {
   "cell_type": "markdown",
   "id": "86433bd1",
   "metadata": {},
   "source": [
    "# Chapter 2 Practice Exsamples\n",
    "\n"
   ]
  },
  {
   "cell_type": "markdown",
   "id": "0b67dce9",
   "metadata": {},
   "source": [
    "In this assignment I will atempt to work my way through the chapter 2 practice exsamples. I waited till the last possible moment to work on this, and that is too my detrement. I will be doing Problems 1, _, and 13."
   ]
  },
  {
   "cell_type": "markdown",
   "id": "89a1a919",
   "metadata": {},
   "source": [
    "## Algorithm Workbench\n"
   ]
  },
  {
   "cell_type": "markdown",
   "id": "4894822a",
   "metadata": {},
   "source": [
    "### Problem 2: Write Python code that prompts the use to enter his or her favorite color and assigns the user's input to a variable named COLOR.\n"
   ]
  },
  {
   "cell_type": "markdown",
   "id": "8765cf71",
   "metadata": {},
   "source": [
    "Initial Thoughts on problem: Understanding the problem from an initial stand point I see there are multiple steps in which my code must execute. First I beleive it must contain a promt that ask the user to imput a certain keyboard imput. This imput must then be read by a seperate line that reads the answer and assigns it to a varible color. Im not sure how to make the prompt come up so that is what I'll start with. "
   ]
  },
  {
   "cell_type": "markdown",
   "id": "a13e1e9a",
   "metadata": {},
   "source": [
    "My initial try was unsucsessful because prompt was not spelled correctly. I realized that the function I actually want is input. Ok now that I have a sucssesful input time to assign it to a varible. I wanted to add some other words to go with the code but I think it meets the satisfaction of the question"
   ]
  },
  {
   "cell_type": "code",
   "execution_count": 1,
   "id": "265cf61e",
   "metadata": {},
   "outputs": [
    {
     "name": "stdout",
     "output_type": "stream",
     "text": [
      "What is you favorite color?b\n"
     ]
    }
   ],
   "source": [
    "color = input('What is you favorite color?')\n",
    "# Prompt to ask the user her or his favorite color"
   ]
  },
  {
   "cell_type": "code",
   "execution_count": 2,
   "id": "2539ef91",
   "metadata": {},
   "outputs": [
    {
     "name": "stdout",
     "output_type": "stream",
     "text": [
      "b Wow!!! What a great color.\n"
     ]
    }
   ],
   "source": [
    "print(color + ' Wow!!! What a great color.')\n",
    "# Text to confirm variable color and respond to user"
   ]
  },
  {
   "cell_type": "markdown",
   "id": "75d5ec78",
   "metadata": {},
   "source": [
    "## Programing Ecercises\n"
   ]
  },
  {
   "cell_type": "markdown",
   "id": "6f49ac96",
   "metadata": {},
   "source": [
    "### Problem 1: Write a program that displays the following information:\n",
    "\n",
    "### Your name\n",
    "\n",
    "### Your Address, city, state, and ZIP\n",
    "\n",
    "### Your telephone number\n",
    "\n",
    "### Your college major"
   ]
  },
  {
   "cell_type": "markdown",
   "id": "6156f9c4",
   "metadata": {},
   "source": [
    "Initial thoughts on problem: It seems to have multiple steps involved with this problem. Each question is going to to need a seperate prompt and varible assigned to it. Then a seperate line is going to have to print all of these together. Hopefully I can keep the code consise."
   ]
  },
  {
   "cell_type": "markdown",
   "id": "c12db11f",
   "metadata": {},
   "source": [
    "### "
   ]
  },
  {
   "cell_type": "code",
   "execution_count": 3,
   "id": "2a4eacd8",
   "metadata": {},
   "outputs": [
    {
     "name": "stdout",
     "output_type": "stream",
     "text": [
      "Personal Contact Info Form\n"
     ]
    }
   ],
   "source": [
    "print('Personal Contact Info Form')\n",
    "# Title to state what the following promts with ask of the user. "
   ]
  },
  {
   "cell_type": "code",
   "execution_count": 4,
   "id": "65aae640",
   "metadata": {},
   "outputs": [
    {
     "name": "stdout",
     "output_type": "stream",
     "text": [
      "What is your name? g\n"
     ]
    }
   ],
   "source": [
    "name = input('What is your name? ')\n",
    "#prompt to ask the user their name"
   ]
  },
  {
   "cell_type": "code",
   "execution_count": 5,
   "id": "e19b3809",
   "metadata": {},
   "outputs": [
    {
     "name": "stdout",
     "output_type": "stream",
     "text": [
      "What is your Street Address? g\n"
     ]
    }
   ],
   "source": [
    "street_address = input('What is your Street Address? ')\n",
    "#prompt to ask the user their street address"
   ]
  },
  {
   "cell_type": "code",
   "execution_count": 6,
   "id": "971ed40a",
   "metadata": {},
   "outputs": [
    {
     "name": "stdout",
     "output_type": "stream",
     "text": [
      "What is your City? g\n"
     ]
    }
   ],
   "source": [
    "city = input('What is your City? ')\n",
    "#promt to ask the user their city"
   ]
  },
  {
   "cell_type": "code",
   "execution_count": 7,
   "id": "53ee8d3e",
   "metadata": {},
   "outputs": [
    {
     "name": "stdout",
     "output_type": "stream",
     "text": [
      "what is your state? g\n"
     ]
    }
   ],
   "source": [
    "state = input(\"what is your state? \")\n",
    "#promt to ask the user their state"
   ]
  },
  {
   "cell_type": "code",
   "execution_count": 8,
   "id": "a494fc9b",
   "metadata": {},
   "outputs": [
    {
     "name": "stdout",
     "output_type": "stream",
     "text": [
      "What is your ZIP? g\n"
     ]
    }
   ],
   "source": [
    "ZIP = input('What is your ZIP? ')\n",
    "#prompt to ask the user their zip"
   ]
  },
  {
   "cell_type": "code",
   "execution_count": 9,
   "id": "b9f01ab4",
   "metadata": {},
   "outputs": [],
   "source": [
    "address = (street_address, city, state, ZIP)\n",
    "#combining all address info into one variable"
   ]
  },
  {
   "cell_type": "code",
   "execution_count": 10,
   "id": "86e4fa1f",
   "metadata": {},
   "outputs": [
    {
     "name": "stdout",
     "output_type": "stream",
     "text": [
      "What is your Telephone Number? g\n"
     ]
    }
   ],
   "source": [
    "telephone_number = input('What is your Telephone Number? ')\n",
    "#prompt to ask the user there phone number"
   ]
  },
  {
   "cell_type": "code",
   "execution_count": 11,
   "id": "18a51f53",
   "metadata": {},
   "outputs": [
    {
     "name": "stdout",
     "output_type": "stream",
     "text": [
      "What is you College Major? g\n"
     ]
    }
   ],
   "source": [
    "major = input('What is you College Major? ')\n",
    "#prompt to ask the user their college major"
   ]
  },
  {
   "cell_type": "code",
   "execution_count": 12,
   "id": "39bf83d9",
   "metadata": {},
   "outputs": [
    {
     "name": "stdout",
     "output_type": "stream",
     "text": [
      "g ('g', 'g', 'g', 'g') g g\n"
     ]
    }
   ],
   "source": [
    "print(name, address, telephone_number, major)\n",
    "#display all info givin in form"
   ]
  },
  {
   "cell_type": "markdown",
   "id": "77f81871",
   "metadata": {},
   "source": [
    "# "
   ]
  },
  {
   "cell_type": "markdown",
   "id": "0cdec891",
   "metadata": {},
   "source": [
    "### Problem 13: A vineyard owner is planting several new rows of grapevines, and needs to know how many grapevines to plant in each row. She has determined that after measuring the length of a future row, she can use the following formula to calculate the number of vines that will fit in the row, along with the trellis end-post assemblies that will need to be constructed at each end of the row:\n",
    "\n",
    "### V= R- 2E/ S\n",
    "\n",
    "### The terms in the formula are: V is the number of grapevines that will fit in the row. R is the length of the row, in feet. E is the amount of space, in feet, used by an end-post assembly. S is the space between vines, in feet. Write a program that makes the calculation for the vineyard owner. The program should ask the user to input the following:\n",
    "                \n",
    "#### The length of the row, in feet\n",
    "                \n",
    "              \n",
    "#### The amount of space used by an end-post assembly, in feet\n",
    "                \n",
    "              \n",
    "                \n",
    "#### The amount of space between the vines, in feet\n",
    "                \n",
    "### Once the input data has been entered, the program should calculate and display the number of grapevines that will fit in the row."
   ]
  },
  {
   "cell_type": "markdown",
   "id": "c7a2c900",
   "metadata": {},
   "source": [
    "Initial Thoughts on problem: Oh boy this is a big one. But looking closser at I see that its rather straight forward. Each varible needs to be independently assigned and then once all varibles are assigned placed into an equation. Each input needs to be changed to be a float or int in order to work correctly. "
   ]
  },
  {
   "cell_type": "code",
   "execution_count": 13,
   "id": "8f2a6c83",
   "metadata": {},
   "outputs": [
    {
     "name": "stdout",
     "output_type": "stream",
     "text": [
      "Grapevine Row Calculator\n"
     ]
    }
   ],
   "source": [
    "print('Grapevine Row Calculator')"
   ]
  },
  {
   "cell_type": "code",
   "execution_count": 14,
   "id": "b5de6aec",
   "metadata": {},
   "outputs": [
    {
     "name": "stdout",
     "output_type": "stream",
     "text": [
      "Length of row in feet?100\n"
     ]
    }
   ],
   "source": [
    "R = input('Length of row in feet?')"
   ]
  },
  {
   "cell_type": "code",
   "execution_count": 15,
   "id": "517ca52c",
   "metadata": {},
   "outputs": [
    {
     "name": "stdout",
     "output_type": "stream",
     "text": [
      "Ammount of space used by end-post assembly, \"in feet\"5\n"
     ]
    }
   ],
   "source": [
    "E = input('Ammount of space used by end-post assembly, \"in feet\"')"
   ]
  },
  {
   "cell_type": "code",
   "execution_count": 16,
   "id": "015f2fb7",
   "metadata": {},
   "outputs": [
    {
     "name": "stdout",
     "output_type": "stream",
     "text": [
      "Ammount of space between vines, \"in feet\"1\n"
     ]
    }
   ],
   "source": [
    "S = input('Ammount of space between vines, \"in feet\"')"
   ]
  },
  {
   "cell_type": "code",
   "execution_count": 17,
   "id": "844e401a",
   "metadata": {},
   "outputs": [
    {
     "ename": "TypeError",
     "evalue": "unsupported operand type(s) for -: 'str' and 'str'",
     "output_type": "error",
     "traceback": [
      "\u001b[0;31m---------------------------------------------------------------------------\u001b[0m",
      "\u001b[0;31mTypeError\u001b[0m                                 Traceback (most recent call last)",
      "Cell \u001b[0;32mIn[17], line 1\u001b[0m\n\u001b[0;32m----> 1\u001b[0m V \u001b[38;5;241m=\u001b[39m ((R\u001b[38;5;241m-\u001b[39m(\u001b[38;5;241m2\u001b[39m\u001b[38;5;241m*\u001b[39mE))\u001b[38;5;241m/\u001b[39mS)\n",
      "\u001b[0;31mTypeError\u001b[0m: unsupported operand type(s) for -: 'str' and 'str'"
     ]
    }
   ],
   "source": [
    "V = ((R-(2*E))/S)\n"
   ]
  },
  {
   "cell_type": "markdown",
   "id": "2c79112f",
   "metadata": {},
   "source": [
    "I need to figure out how to make it so that the numbers I put in too the inputs come out as floats"
   ]
  },
  {
   "cell_type": "code",
   "execution_count": null,
   "id": "408ab753",
   "metadata": {},
   "outputs": [],
   "source": []
  }
 ],
 "metadata": {
  "kernelspec": {
   "display_name": "Python 3 (ipykernel)",
   "language": "python",
   "name": "python3"
  },
  "language_info": {
   "codemirror_mode": {
    "name": "ipython",
    "version": 3
   },
   "file_extension": ".py",
   "mimetype": "text/x-python",
   "name": "python",
   "nbconvert_exporter": "python",
   "pygments_lexer": "ipython3",
   "version": "3.11.4"
  }
 },
 "nbformat": 4,
 "nbformat_minor": 5
}
