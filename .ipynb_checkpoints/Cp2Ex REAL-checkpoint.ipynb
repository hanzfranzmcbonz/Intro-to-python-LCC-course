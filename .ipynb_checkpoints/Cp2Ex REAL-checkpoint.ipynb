{
 "cells": [
  {
   "cell_type": "markdown",
   "id": "ef0b1804",
   "metadata": {},
   "source": [
    "# Chapter 2 Practice Exsamples\n",
    "\n"
   ]
  },
  {
   "cell_type": "markdown",
   "id": "5e7800e5",
   "metadata": {},
   "source": [
    "In this assignment I will atempt to work my way through the chapter 2 practice exsamples. I waited till the last possible moment to work on this, and that is too my detrement. I will be doing Problems 1, _, and 13."
   ]
  },
  {
   "cell_type": "markdown",
   "id": "39f98861",
   "metadata": {},
   "source": [
    "## Algorithm Workbench\n"
   ]
  },
  {
   "cell_type": "markdown",
   "id": "9929dd49",
   "metadata": {},
   "source": [
    "### Problem 2: Write Python code that prompts the use to enter his or her favorite color and assigns the user's input to a variable named COLOR.\n"
   ]
  },
  {
   "cell_type": "markdown",
   "id": "448c5268",
   "metadata": {},
   "source": [
    "Initial Thoughts on problem: Understanding the problem from an initial stand point I see there are multiple steps in which my code must execute. First I beleive it must contain a promt that ask the user to imput a certain keyboard imput. This imput must then be read by a seperate line that reads the answer and assigns it to a varible color. Im not sure how to make the prompt come up so that is what I'll start with. "
   ]
  },
  {
   "cell_type": "markdown",
   "id": "ce1f7a50",
   "metadata": {},
   "source": [
    "My initial try was unsucsessful because prompt was not spelled correctly. I realized that the function I actually want is input. Ok now that I have a sucssesful input time to assign it to a varible. I wanted to add some other words to go with the code but I think it meets the satisfaction of the question"
   ]
  },
  {
   "cell_type": "code",
   "execution_count": 1,
   "id": "a6b831f7",
   "metadata": {},
   "outputs": [
    {
     "name": "stdout",
     "output_type": "stream",
     "text": [
      "What is you favorite color?blue\n"
     ]
    }
   ],
   "source": [
    "color = input('What is you favorite color?')\n",
    "# Prompt to ask the user her or his favorite color"
   ]
  },
  {
   "cell_type": "code",
   "execution_count": 2,
   "id": "51e74541",
   "metadata": {},
   "outputs": [
    {
     "name": "stdout",
     "output_type": "stream",
     "text": [
      "blue Wow!!! What a great color.\n"
     ]
    }
   ],
   "source": [
    "print(color + ' Wow!!! What a great color.')\n",
    "# Text to confirm variable color and respond to user"
   ]
  },
  {
   "cell_type": "markdown",
   "id": "b986228f",
   "metadata": {},
   "source": [
    "## Programing Ecercises\n"
   ]
  },
  {
   "cell_type": "markdown",
   "id": "5e3402a6",
   "metadata": {},
   "source": [
    "### Problem 1: Write a program that displays the following information:\n",
    "\n",
    "### Your name\n",
    "\n",
    "### Your Address, city, state, and ZIP\n",
    "\n",
    "### Your telephone number\n",
    "\n",
    "### Your college major"
   ]
  },
  {
   "cell_type": "markdown",
   "id": "1bc17d50",
   "metadata": {},
   "source": [
    "Initial thoughts on problem: It seems to have multiple steps involved with this problem. Each question is going to to need a seperate prompt and varible assigned to it. Then a seperate line is going to have to print all of these together. Hopefully I can keep the code consise."
   ]
  },
  {
   "cell_type": "markdown",
   "id": "1707832a",
   "metadata": {},
   "source": [
    "### "
   ]
  },
  {
   "cell_type": "code",
   "execution_count": 3,
   "id": "6ac9c899",
   "metadata": {},
   "outputs": [
    {
     "name": "stdout",
     "output_type": "stream",
     "text": [
      "Personal Contact Info Form\n"
     ]
    }
   ],
   "source": [
    "print('Personal Contact Info Form')\n",
    "# Title to state what the following promts with ask of the user. "
   ]
  },
  {
   "cell_type": "code",
   "execution_count": null,
   "id": "d0629fb9",
   "metadata": {},
   "outputs": [],
   "source": [
    "name = input('What is your name? ')\n",
    "#prompt to ask the user their name"
   ]
  },
  {
   "cell_type": "code",
   "execution_count": null,
   "id": "784a7716",
   "metadata": {},
   "outputs": [],
   "source": [
    "street_address = input('What is your Street Address? ')\n",
    "#prompt to ask the user their street address"
   ]
  },
  {
   "cell_type": "code",
   "execution_count": 6,
   "id": "f7abdc25",
   "metadata": {},
   "outputs": [
    {
     "name": "stdout",
     "output_type": "stream",
     "text": [
      "What is your City? Dewitt\n"
     ]
    }
   ],
   "source": [
    "city = input('What is your City? ')\n",
    "#promt to ask the user their city"
   ]
  },
  {
   "cell_type": "code",
   "execution_count": 7,
   "id": "51901900",
   "metadata": {},
   "outputs": [
    {
     "name": "stdout",
     "output_type": "stream",
     "text": [
      "what is your state? Michigan\n"
     ]
    }
   ],
   "source": [
    "state = input(\"what is your state? \")\n",
    "#promt to ask the user their state"
   ]
  },
  {
   "cell_type": "code",
   "execution_count": 8,
   "id": "d896ba7f",
   "metadata": {},
   "outputs": [
    {
     "name": "stdout",
     "output_type": "stream",
     "text": [
      "What is your ZIP? 48820\n"
     ]
    }
   ],
   "source": [
    "ZIP = input('What is your ZIP? ')\n",
    "#prompt to ask the user their zip"
   ]
  },
  {
   "cell_type": "code",
   "execution_count": 9,
   "id": "66b1a123",
   "metadata": {},
   "outputs": [],
   "source": [
    "address = (street_address, city, state, ZIP)\n",
    "#combining all address info into one variable"
   ]
  },
  {
   "cell_type": "code",
   "execution_count": 10,
   "id": "a2b05fce",
   "metadata": {},
   "outputs": [
    {
     "name": "stdout",
     "output_type": "stream",
     "text": [
      "What is your Telephone Number? 517-624-9010\n"
     ]
    }
   ],
   "source": [
    "telephone_number = input('What is your Telephone Number? ')\n",
    "#prompt to ask the user there phone number"
   ]
  },
  {
   "cell_type": "code",
   "execution_count": 11,
   "id": "6c6d3f54",
   "metadata": {},
   "outputs": [
    {
     "name": "stdout",
     "output_type": "stream",
     "text": [
      "What is you College Major? Econ\n"
     ]
    }
   ],
   "source": [
    "major = input('What is you College Major? ')\n",
    "#prompt to ask the user their college major"
   ]
  },
  {
   "cell_type": "code",
   "execution_count": 18,
   "id": "8ba477b9",
   "metadata": {},
   "outputs": [
    {
     "name": "stdout",
     "output_type": "stream",
     "text": [
      "Dillon Blair ('13225 speckledwood dr', 'Dewitt', 'Michigan', '48820') 517-624-9010 Econ\n"
     ]
    }
   ],
   "source": [
    "print(name, address, telephone_number, major)\n",
    "#display all info givin in form"
   ]
  },
  {
   "cell_type": "markdown",
   "id": "5e8abd52",
   "metadata": {},
   "source": [
    "# "
   ]
  },
  {
   "cell_type": "markdown",
   "id": "3ec544b9",
   "metadata": {},
   "source": [
    "### Problem 13: A vineyard owner is planting several new rows of grapevines, and needs to know how many grapevines to plant in each row. She has determined that after measuring the length of a future row, she can use the following formula to calculate the number of vines that will fit in the row, along with the trellis end-post assemblies that will need to be constructed at each end of the row:\n",
    "\n",
    "### V= R- 2E/ S\n",
    "\n",
    "### The terms in the formula are:V is the number of grapevines that will fit in the row.R is the length of the row, in feet.E is the amount of space, in feet, used by an end-post assembly.S is the space between vines, in feet.Write a program that makes the calculation for the vineyard owner. The program should ask the user to input the following:\n",
    "                \n",
    "#### The length of the row, in feet\n",
    "                \n",
    "              \n",
    "#### The amount of space used by an end-post assembly, in feet\n",
    "                \n",
    "              \n",
    "                \n",
    "#### The amount of space between the vines, in feet\n",
    "                \n",
    "### Once the input data has been entered, the program should calculate and display the number of grapevines that will fit in the row."
   ]
  },
  {
   "cell_type": "markdown",
   "id": "9b3992d1",
   "metadata": {},
   "source": [
    "Initial Thoughts on problem: Oh boy this is a big one. But looking closser at I see that its rather straight forward. Each varible needs to be independently assigned and then once all varibles are assigned placed into an equation. "
   ]
  },
  {
   "cell_type": "code",
   "execution_count": null,
   "id": "7c08ccd6",
   "metadata": {},
   "outputs": [],
   "source": []
  }
 ],
 "metadata": {
  "kernelspec": {
   "display_name": "Python 3 (ipykernel)",
   "language": "python",
   "name": "python3"
  },
  "language_info": {
   "codemirror_mode": {
    "name": "ipython",
    "version": 3
   },
   "file_extension": ".py",
   "mimetype": "text/x-python",
   "name": "python",
   "nbconvert_exporter": "python",
   "pygments_lexer": "ipython3",
   "version": "3.11.4"
  }
 },
 "nbformat": 4,
 "nbformat_minor": 5
}
