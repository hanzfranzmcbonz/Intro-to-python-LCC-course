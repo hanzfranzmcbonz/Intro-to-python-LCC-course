{
 "cells": [
  {
   "cell_type": "markdown",
   "id": "3377dc99",
   "metadata": {},
   "source": [
    "# Excercise 1: Pet Class:"
   ]
  },
  {
   "cell_type": "code",
   "execution_count": 4,
   "id": "4d0aff3d",
   "metadata": {},
   "outputs": [
    {
     "name": "stdout",
     "output_type": "stream",
     "text": [
      "What is your Animals name? bob\n",
      "What type of Animal is it? dog\n",
      "How old is the Animal? 3\n",
      "The animals name is: bob:\n",
      "The animal is a dog:\n",
      "The animals age is 3:\n"
     ]
    }
   ],
   "source": [
    "# This program gets user inputs of an animal and use the Pet class to return an object\n",
    "\n",
    "# Inports the Pet class from pet.py\n",
    "import pet\n",
    "\n",
    "# This function gets user imputs and displays the atributes\n",
    "def main():\n",
    "    \n",
    "    # Gets user input for animal atributes\n",
    "    name = input('What is your Animals name? ')\n",
    "    animal_type = input('What type of Animal is it? ')\n",
    "    age = input('How old is the Animal? ')\n",
    "    \n",
    "    # Creates an object using the Pet class\n",
    "    my_pet = pet.Pet(name, animal_type, age)\n",
    "    \n",
    "    # Displays the atributes of the object\n",
    "    print(f'The animals name is: {my_pet.get_name()}:')\n",
    "    print(f'The animal is a {my_pet.get_animal_type()}:')\n",
    "    print(f'The animals age is {my_pet.get_age()}:')\n",
    "\n",
    "# Everything starts here\n",
    "# Calls the main function\n",
    "main()"
   ]
  },
  {
   "cell_type": "code",
   "execution_count": null,
   "id": "2779561d",
   "metadata": {},
   "outputs": [],
   "source": []
  },
  {
   "cell_type": "markdown",
   "id": "376423f9",
   "metadata": {},
   "source": [
    "# Excercise 2: Car Class"
   ]
  },
  {
   "cell_type": "code",
   "execution_count": 2,
   "id": "cbad339b",
   "metadata": {},
   "outputs": [
    {
     "name": "stdout",
     "output_type": "stream",
     "text": [
      "Accelerating:\n",
      "Current Speed: 5\n",
      "Current Speed: 10\n",
      "Current Speed: 15\n",
      "Current Speed: 20\n",
      "Current Speed: 25\n",
      "\n",
      "Braking\n",
      "Current Speed: 20\n",
      "Current Speed: 15\n",
      "Current Speed: 10\n",
      "Current Speed: 5\n",
      "Current Speed: 0\n"
     ]
    }
   ],
   "source": [
    "# This program uses the Car class from the car.py. Sets the atributes for the car\n",
    "# and accelerates and brakes 5 times\n",
    "\n",
    "# Imports the Car Class from car.py\n",
    "import car\n",
    "\n",
    "# Assigns the atributes for year_model and make. Then Accelerates and brakes 5 times\n",
    "def main():\n",
    "    \n",
    "    # Creates an object using Car class\n",
    "    my_car = car.Car(2023, \"Lamborghini\")\n",
    "    \n",
    "    # Accelecrates the car 5 times and prints speed after every instance\n",
    "    print('Accelerating:')\n",
    "    for i in range(5):\n",
    "        my_car.accelerate()\n",
    "        print(f'Current Speed: {my_car.get_speed()}')\n",
    "    \n",
    "    # Brakes the car 5 times and prints speed after every instance\n",
    "    print('\\nBraking')\n",
    "    for i in range(5):\n",
    "        my_car.brake()\n",
    "        print(f'Current Speed: {my_car.get_speed()}')\n",
    "\n",
    "# Calls the main function\n",
    "main()"
   ]
  },
  {
   "cell_type": "code",
   "execution_count": null,
   "id": "491402ba",
   "metadata": {},
   "outputs": [],
   "source": []
  }
 ],
 "metadata": {
  "kernelspec": {
   "display_name": "Python 3 (ipykernel)",
   "language": "python",
   "name": "python3"
  },
  "language_info": {
   "codemirror_mode": {
    "name": "ipython",
    "version": 3
   },
   "file_extension": ".py",
   "mimetype": "text/x-python",
   "name": "python",
   "nbconvert_exporter": "python",
   "pygments_lexer": "ipython3",
   "version": "3.11.4"
  }
 },
 "nbformat": 4,
 "nbformat_minor": 5
}
