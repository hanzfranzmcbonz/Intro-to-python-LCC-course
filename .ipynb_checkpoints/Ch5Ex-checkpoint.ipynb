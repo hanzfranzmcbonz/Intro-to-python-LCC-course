{
 "cells": [
  {
   "cell_type": "markdown",
   "id": "ab82cf2c",
   "metadata": {},
   "source": [
    "# Chapter 5 Exercises "
   ]
  },
  {
   "cell_type": "markdown",
   "id": "98fcc710",
   "metadata": {},
   "source": [
    "## Algorithm Workbench"
   ]
  },
  {
   "cell_type": "markdown",
   "id": "a7a69e56",
   "metadata": {},
   "source": [
    "## Question 1: Write a function named times_ten. The function should accept an argument and display the product of its argument multiplied times 10. "
   ]
  },
  {
   "cell_type": "markdown",
   "id": "023b15ba",
   "metadata": {},
   "source": [
    "Initial Thoughts: Im still not completly understanding Functions yet. However this question does not seem to difficult. It will require a def fuction named times_ten with an arguement of a number. Then a statement multiplying the input times ten. I think then it wants a print statement so we will do that too."
   ]
  },
  {
   "cell_type": "code",
   "execution_count": 1,
   "id": "934d6c09",
   "metadata": {},
   "outputs": [
    {
     "ename": "NameError",
     "evalue": "name 'number' is not defined",
     "output_type": "error",
     "traceback": [
      "\u001b[0;31m---------------------------------------------------------------------------\u001b[0m",
      "\u001b[0;31mNameError\u001b[0m                                 Traceback (most recent call last)",
      "Cell \u001b[0;32mIn[1], line 4\u001b[0m\n\u001b[1;32m      1\u001b[0m \u001b[38;5;28;01mdef\u001b[39;00m \u001b[38;5;21mtimes_ten\u001b[39m(number):\n\u001b[1;32m      3\u001b[0m     \u001b[38;5;28;01mreturn\u001b[39;00m {number}\u001b[38;5;241m*\u001b[39m\u001b[38;5;241m10\u001b[39m \n\u001b[0;32m----> 4\u001b[0m result \u001b[38;5;241m=\u001b[39m times_ten(number)\n\u001b[1;32m      6\u001b[0m \u001b[38;5;28mprint\u001b[39m(result)\n",
      "\u001b[0;31mNameError\u001b[0m: name 'number' is not defined"
     ]
    }
   ],
   "source": [
    "def times_ten(number):\n",
    "\n",
    "    return {number}*10 \n",
    "result = times_ten(number)\n",
    "\n",
    "print(result)"
   ]
  },
  {
   "cell_type": "code",
   "execution_count": null,
   "id": "d4250bb2",
   "metadata": {},
   "outputs": [],
   "source": []
  }
 ],
 "metadata": {
  "kernelspec": {
   "display_name": "Python 3 (ipykernel)",
   "language": "python",
   "name": "python3"
  },
  "language_info": {
   "codemirror_mode": {
    "name": "ipython",
    "version": 3
   },
   "file_extension": ".py",
   "mimetype": "text/x-python",
   "name": "python",
   "nbconvert_exporter": "python",
   "pygments_lexer": "ipython3",
   "version": "3.11.4"
  }
 },
 "nbformat": 4,
 "nbformat_minor": 5
}
