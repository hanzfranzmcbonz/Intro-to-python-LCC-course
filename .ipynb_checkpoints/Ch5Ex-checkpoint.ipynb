{
 "cells": [
  {
   "cell_type": "markdown",
   "id": "c9c9b9d0",
   "metadata": {},
   "source": [
    "# Chapter 5 Exercises "
   ]
  },
  {
   "cell_type": "markdown",
   "id": "98fcc710",
   "metadata": {},
   "source": [
    "## Algorithm Workbench"
   ]
  },
  {
   "cell_type": "markdown",
   "id": "0c4498ea",
   "metadata": {},
   "source": [
    "## Question 1: Write a function named times_ten. The function should accept an argument and display the product of its argument multiplied times 10. "
   ]
  },
  {
   "cell_type": "markdown",
   "id": "9c8d5b82",
   "metadata": {},
   "source": [
    "Initial Thoughts: Im still not completly understanding Functions yet. However this question does not seem to difficult. It will require a def fuction named times_ten with an arguement of a number. Then a statement multiplying the input times ten. I think then it wants a print statement so we will do that too."
   ]
  },
  {
   "cell_type": "code",
   "execution_count": 6,
   "id": "c4642795",
   "metadata": {},
   "outputs": [
    {
     "name": "stdout",
     "output_type": "stream",
     "text": [
      "50\n"
     ]
    }
   ],
   "source": [
    "#function to times a number by ten\n",
    "def times_ten(number):\n",
    "    #Mutiplys the number by 10\n",
    "    return number*10 \n",
    "# Uses ChatGPT to assist in determining the argument for times_ten function\n",
    "# Note: Currently using the number 5 as an example, can be adjusted as needed\n",
    "result = times_ten(5)\n",
    "#prints the result of the times_ten function\n",
    "print(result)"
   ]
  },
  {
   "cell_type": "markdown",
   "id": "ed678f1c",
   "metadata": {},
   "source": [
    "## Question 10: Write a function named get_first_name that asks the user to enter his or her first name, and returns it."
   ]
  },
  {
   "cell_type": "markdown",
   "id": "67d61b62",
   "metadata": {},
   "source": [
    "Initial Thoughts: After the first question I have more understanding of funtions thanks to chatgpt. This question will need a def function named get_first_name with the atribute of name. Im not sure where to put the input for the name but Ill work that out. Then It will finish with a print statment that prints the name, probabally with a greeting as well. "
   ]
  },
  {
   "cell_type": "code",
   "execution_count": null,
   "id": "9e89193f",
   "metadata": {},
   "outputs": [],
   "source": [
    "def get_first_name(name):\n",
    "    return first_name = input('What is your first name?')\n",
    "first_name = "
   ]
  }
 ],
 "metadata": {
  "kernelspec": {
   "display_name": "Python 3 (ipykernel)",
   "language": "python",
   "name": "python3"
  },
  "language_info": {
   "codemirror_mode": {
    "name": "ipython",
    "version": 3
   },
   "file_extension": ".py",
   "mimetype": "text/x-python",
   "name": "python",
   "nbconvert_exporter": "python",
   "pygments_lexer": "ipython3",
   "version": "3.11.4"
  }
 },
 "nbformat": 4,
 "nbformat_minor": 5
}
