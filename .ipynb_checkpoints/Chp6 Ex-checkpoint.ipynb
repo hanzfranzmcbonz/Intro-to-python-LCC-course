{
 "cells": [
  {
   "cell_type": "markdown",
   "id": "917500e2",
   "metadata": {},
   "source": [
    "# Coding Set 6: Chapter 6 Exsamples\n"
   ]
  },
  {
   "cell_type": "markdown",
   "id": "d7b54a54",
   "metadata": {},
   "source": [
    "## Algorithm Workbench"
   ]
  },
  {
   "cell_type": "markdown",
   "id": "d7e6f793",
   "metadata": {},
   "source": [
    "## Question 1: myname.txt write\n",
    "## Write a program that opens an output file with the filename myname.txt, writes your name to the file, then closes the file."
   ]
  },
  {
   "cell_type": "markdown",
   "id": "a29b7fa9",
   "metadata": {},
   "source": [
    "initital thoughts: Yeah I got this just a quick writing promt and itll do it. I found out later that with is an amazing tool. "
   ]
  },
  {
   "cell_type": "code",
   "execution_count": 1,
   "id": "a56d6779",
   "metadata": {},
   "outputs": [],
   "source": [
    "# This program writes my name in file called myname.txt\n",
    "def main():\n",
    "    # Opens the file named myname.txt \n",
    "    # With function tells python to stop using file after done\n",
    "    with open('myname.txt', 'w') as outfile: \n",
    "        \n",
    "        # Writes my name in the file on line 1\n",
    "        outfile.write('Dillon Blair')\n",
    "        \n",
    "# Call the main function\n",
    "if __name__ == '__main__':\n",
    "    main()"
   ]
  },
  {
   "cell_type": "markdown",
   "id": "bde2ce06",
   "metadata": {},
   "source": [
    "## Question 2: myname.txt read\n",
    "\n",
    "## Write a program that opens the myname.txt file that was created by the program in problem 1, reads your name from the file, displays the name on the screen, then closes the file."
   ]
  },
  {
   "cell_type": "markdown",
   "id": "582b6a07",
   "metadata": {},
   "source": [
    "Initial Thoughts: I probrably should have chosen a harder question but oh well. This question in almost identical as the last one but instead of opening it a with the write mode we will open it with the read mode. Then just change the write statement to a readline statement and print. We don't need to close it because we are using the WITH function. ALL HAIL THE MIGHTY WITH STATEMENT!!!!!!"
   ]
  },
  {
   "cell_type": "code",
   "execution_count": 3,
   "id": "eb9b79d0",
   "metadata": {},
   "outputs": [
    {
     "ename": "NameError",
     "evalue": "name 'file' is not defined",
     "output_type": "error",
     "traceback": [
      "\u001b[0;31m---------------------------------------------------------------------------\u001b[0m",
      "\u001b[0;31mNameError\u001b[0m                                 Traceback (most recent call last)",
      "Cell \u001b[0;32mIn[3], line 15\u001b[0m\n\u001b[1;32m     13\u001b[0m \u001b[38;5;66;03m# Call the main function\u001b[39;00m\n\u001b[1;32m     14\u001b[0m \u001b[38;5;28;01mif\u001b[39;00m \u001b[38;5;18m__name__\u001b[39m \u001b[38;5;241m==\u001b[39m \u001b[38;5;124m'\u001b[39m\u001b[38;5;124m__main__\u001b[39m\u001b[38;5;124m'\u001b[39m:\n\u001b[0;32m---> 15\u001b[0m     main()\n",
      "Cell \u001b[0;32mIn[3], line 8\u001b[0m, in \u001b[0;36mmain\u001b[0;34m()\u001b[0m\n\u001b[1;32m      2\u001b[0m \u001b[38;5;28;01mdef\u001b[39;00m \u001b[38;5;21mmain\u001b[39m():\n\u001b[1;32m      3\u001b[0m     \u001b[38;5;66;03m# Opens the file named myname.txt \u001b[39;00m\n\u001b[1;32m      4\u001b[0m     \u001b[38;5;66;03m# With function tells python to stop using file after done\u001b[39;00m\n\u001b[1;32m      5\u001b[0m     \u001b[38;5;28;01mwith\u001b[39;00m \u001b[38;5;28mopen\u001b[39m(\u001b[38;5;124m'\u001b[39m\u001b[38;5;124mmyname.txt\u001b[39m\u001b[38;5;124m'\u001b[39m, \u001b[38;5;124m'\u001b[39m\u001b[38;5;124mr\u001b[39m\u001b[38;5;124m'\u001b[39m) \u001b[38;5;28;01mas\u001b[39;00m infile: \n\u001b[1;32m      6\u001b[0m         \n\u001b[1;32m      7\u001b[0m         \u001b[38;5;66;03m# Reads my name in the file on line 1\u001b[39;00m\n\u001b[0;32m----> 8\u001b[0m         file\u001b[38;5;241m.\u001b[39mcontents \u001b[38;5;241m=\u001b[39m infile\u001b[38;5;241m.\u001b[39mreadline\n\u001b[1;32m     10\u001b[0m         \u001b[38;5;66;03m# Prints the text on line1\u001b[39;00m\n\u001b[1;32m     11\u001b[0m         \u001b[38;5;28mprint\u001b[39m(\u001b[38;5;124mf\u001b[39m\u001b[38;5;124m'\u001b[39m\u001b[38;5;132;01m{\u001b[39;00mfile\u001b[38;5;241m.\u001b[39mcontents\u001b[38;5;132;01m}\u001b[39;00m\u001b[38;5;124m'\u001b[39m)\n",
      "\u001b[0;31mNameError\u001b[0m: name 'file' is not defined"
     ]
    }
   ],
   "source": [
    "# This program reads my name in file called myname.txt\n",
    "def main():\n",
    "    # Opens the file named myname.txt \n",
    "    # With function tells python to stop using file after done\n",
    "    with open('myname.txt', 'r') as infile: \n",
    "        \n",
    "        # Reads my name in the file on line 1\n",
    "        file.contents = infile.readline\n",
    "        \n",
    "        # Prints the text on line1\n",
    "        print(f'{file.contents}')\n",
    "        \n",
    "# Call the main function\n",
    "if __name__ == '__main__':\n",
    "    main()"
   ]
  },
  {
   "cell_type": "code",
   "execution_count": null,
   "id": "f4a3b235",
   "metadata": {},
   "outputs": [],
   "source": []
  }
 ],
 "metadata": {
  "kernelspec": {
   "display_name": "Python 3 (ipykernel)",
   "language": "python",
   "name": "python3"
  },
  "language_info": {
   "codemirror_mode": {
    "name": "ipython",
    "version": 3
   },
   "file_extension": ".py",
   "mimetype": "text/x-python",
   "name": "python",
   "nbconvert_exporter": "python",
   "pygments_lexer": "ipython3",
   "version": "3.11.4"
  }
 },
 "nbformat": 4,
 "nbformat_minor": 5
}
