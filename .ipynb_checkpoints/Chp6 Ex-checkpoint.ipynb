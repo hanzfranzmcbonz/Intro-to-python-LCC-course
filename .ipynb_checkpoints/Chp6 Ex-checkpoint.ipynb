{
 "cells": [
  {
   "cell_type": "markdown",
   "id": "917500e2",
   "metadata": {},
   "source": [
    "# Coding Set 6: Chapter 6 Exsamples\n"
   ]
  },
  {
   "cell_type": "markdown",
   "id": "d7b54a54",
   "metadata": {},
   "source": [
    "## Algorithm Workbench"
   ]
  },
  {
   "cell_type": "markdown",
   "id": "d7e6f793",
   "metadata": {},
   "source": [
    "## Question 1: myname.txt write\n",
    "## Write a program that opens an output file with the filename myname.txt, writes your name to the file, then closes the file."
   ]
  },
  {
   "cell_type": "markdown",
   "id": "a29b7fa9",
   "metadata": {},
   "source": [
    "initital thoughts: Yeah I got this just a quick writing promt and itll do it. I found out later that with is an amazing tool. "
   ]
  },
  {
   "cell_type": "code",
   "execution_count": 1,
   "id": "a56d6779",
   "metadata": {},
   "outputs": [],
   "source": [
    "# This program writes my name in file called myname.txt\n",
    "def main():\n",
    "    # Opens the file named myname.txt \n",
    "    # With function tells python to stop using file after done\n",
    "    with open('myname.txt', 'w') as outfile: \n",
    "        \n",
    "        # Writes my name in the file on line 1\n",
    "        outfile.write('Dillon Blair')\n",
    "        \n",
    "# Call the main function\n",
    "if __name__ == '__main__':\n",
    "    main()"
   ]
  },
  {
   "cell_type": "markdown",
   "id": "77f5feb1",
   "metadata": {},
   "source": [
    "## Question 2: myname.txt read\n",
    "\n",
    "## Write a program that opens the myname.txt file that was created by the program in problem 1, reads your name from the file, displays the name on the screen, then closes the file."
   ]
  },
  {
   "cell_type": "markdown",
   "id": "2c934a40",
   "metadata": {},
   "source": [
    "Initial Thoughts: I probrably should have chosen a harder question but oh well. This question in almost identical as the last one but instead of opening it a with the write mode we will open it with the read mode. Then just change the write statement to a readline statement and print. We don't need to close it because we are using the WITH function. ALL HAIL THE MIGHTY WITH STATEMENT!!!!!!"
   ]
  },
  {
   "cell_type": "code",
   "execution_count": 5,
   "id": "61e6dff8",
   "metadata": {},
   "outputs": [
    {
     "name": "stdout",
     "output_type": "stream",
     "text": [
      "Dillon Blair\n"
     ]
    }
   ],
   "source": [
    "# This program reads my name in file called myname.txt\n",
    "def main():\n",
    "    # Opens the file named myname.txt \n",
    "    # With function tells python to stop using file after done\n",
    "    with open('myname.txt', 'r') as infile: \n",
    "        \n",
    "        # Reads my name in the file\n",
    "        file_contents = infile.read()\n",
    "        \n",
    "        # Prints the text in myname.txt\n",
    "        print(f'{file_contents}')\n",
    "        \n",
    "# Call the main function\n",
    "if __name__ == '__main__':\n",
    "    main()"
   ]
  },
  {
   "cell_type": "markdown",
   "id": "396e3197",
   "metadata": {},
   "source": [
    "## Programing Exercises (Exercise, more like extra frys)"
   ]
  },
  {
   "cell_type": "code",
   "execution_count": 10,
   "id": "4411b666",
   "metadata": {},
   "outputs": [
    {
     "name": "stdout",
     "output_type": "stream",
     "text": [
      "Thats a very funny joke Dillon, here is your award for most funny human\n",
      " \n",
      "             ___________\n",
      "            '._==_==_=_.'\n",
      "            .-\\:      /-.\n",
      "           | (|:.     |) |\n",
      "            '-|:.     |-'\n",
      "              \\::.    /\n",
      "               '::. .'\n",
      "                 ) (\n",
      "               _.' '._\n",
      "              `\"\"\"\"\"\"\"`\n",
      "\n"
     ]
    }
   ],
   "source": [
    "print('Thats a very funny joke Dillon, here is your award for most funny human')\n",
    "ascii_art =''' \n",
    "             ___________\n",
    "            '._==_==_=_.'\n",
    "            .-\\:      /-.\n",
    "           | (|:.     |) |\n",
    "            '-|:.     |-'\n",
    "              \\::.    /\n",
    "               '::. .'\n",
    "                 ) (\n",
    "               _.' '._\n",
    "              `\"\"\"\"\"\"\"`\n",
    "'''\n",
    "print(ascii_art)"
   ]
  },
  {
   "cell_type": "markdown",
   "id": "5e5aa3ae",
   "metadata": {},
   "source": [
    "## Question 1: File Display\n",
    "## Assume a file containing a series of integers is named  and exists on the computer’s disk. Write a program that displays all of the numbers in the file."
   ]
  },
  {
   "attachments": {},
   "cell_type": "markdown",
   "id": "321e865b",
   "metadata": {},
   "source": [
    "Initial Thoughts: Ok I have a choice to make, do I complete this question with malicious compliance and do exactly what it asks or do the responsible thing and make a named file with all the data. It will be more work, but I guess it’s worth the extra practice. So, this question has multiple parts. first, I need to create a function that will create and write a series of numbers on a data sheet then closes the text file. Then I need a separate function what will then open that txt file and display the data. It seems counterproductive to make two separate functions to do this, so I’ll do some research to find out if I can do it all with one function."
   ]
  },
  {
   "cell_type": "code",
   "execution_count": 14,
   "id": "f07c820f",
   "metadata": {},
   "outputs": [
    {
     "name": "stdout",
     "output_type": "stream",
     "text": [
      "Please enter a number: 2\n",
      "Please enter another number: 3\n",
      "Please enter another number: 3\n",
      "line1: 2\n",
      "line2: 3\n",
      "line3: 3\n"
     ]
    }
   ],
   "source": [
    "# Gets user input for the first number as integer\n",
    "# also stores the number as a variable\n",
    "line1 = int(input('Please enter a number: '))\n",
    "\n",
    "# Gets user input for the second number as integer\n",
    "# also stores the number as a variable\n",
    "\n",
    "line2 = int(input('Please enter another number: '))\n",
    "\n",
    "# Gets user input for the third number as integer\n",
    "# also stores the number as a variable\n",
    "line3 = int(input('Please enter another number: '))\n",
    "\n",
    "# This function creates and opens a file named integersfile.txt\n",
    "# and writes the user input data\n",
    "def main():\n",
    "    \n",
    "    # Opens the file named integersfile.txt with write mode\n",
    "    # also uses the MIGHTY WITH STATEMENT\n",
    "    with open('integersfile.txt', 'w') as outfile:\n",
    "        \n",
    "        # Writes user input for line1 in the file and creates a new line\n",
    "        outfile.write(f'{line1}\\n')\n",
    "        \n",
    "        # Writes user input for line2 in the file and creates a new line\n",
    "        outfile.write(f'{line2}\\n')\n",
    "        \n",
    "        # Writes user input for line3 in the file and creates a new line\n",
    "        outfile.write(f'{line3}\\n')\n",
    "        \n",
    "# This function opens the the file named integerfile.txt and reads the data line by line\n",
    "# also prints the data into this file\n",
    "def main2():\n",
    "    \n",
    "    # Opens the file named integerfile.txt with the read mode\n",
    "    # also ALL HAIL THE MIGHTY WITH STATEMENT!!!\n",
    "    with open('integersfile.txt', 'r') as infile:\n",
    "        \n",
    "        # Reads lines 1-3 and strips the \\n then sets them equal to variables\n",
    "        readline_line1 = int(infile.readline().strip())\n",
    "        readline_line2 = int(infile.readline().strip())\n",
    "        readline_line3 = int(infile.readline().strip())\n",
    "    \n",
    "    # Prints the data into this file\n",
    "    print(f'line1: {readline_line1}')\n",
    "    print(f'line2: {readline_line2}')\n",
    "    print(f'line3: {readline_line3}')\n",
    "\n",
    "# Call the main and main2 functions\n",
    "if __name__ == '__main__':\n",
    "    main()\n",
    "\n",
    "    main2()\n",
    "        "
   ]
  },
  {
   "cell_type": "markdown",
   "id": "ba5fafbd",
   "metadata": {},
   "source": [
    "## Question 6: Average of Numbers\n",
    "\n",
    "## Assume a file containing a series of integers is named  and exists on the computer’s disk. Write a program that calculates the average of all the numbers stored in the file."
   ]
  },
  {
   "cell_type": "markdown",
   "id": "2776614f",
   "metadata": {},
   "source": [
    "Initial Thoughts: Ok im not creating a new document this time, I've got too many files on my computer now. I will just use the file I created in the last question and get the average of the numbers. I will need a simple function that reads the numbers with int(readline) plus the strip and set them equal to variables then find the average of the numbers using an equation or posibly use the import math."
   ]
  }
 ],
 "metadata": {
  "kernelspec": {
   "display_name": "Python 3 (ipykernel)",
   "language": "python",
   "name": "python3"
  },
  "language_info": {
   "codemirror_mode": {
    "name": "ipython",
    "version": 3
   },
   "file_extension": ".py",
   "mimetype": "text/x-python",
   "name": "python",
   "nbconvert_exporter": "python",
   "pygments_lexer": "ipython3",
   "version": "3.11.4"
  }
 },
 "nbformat": 4,
 "nbformat_minor": 5
}
