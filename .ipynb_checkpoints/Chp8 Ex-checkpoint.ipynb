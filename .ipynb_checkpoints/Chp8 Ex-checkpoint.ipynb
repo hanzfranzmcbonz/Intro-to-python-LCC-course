{
 "cells": [
  {
   "cell_type": "markdown",
   "id": "354dc5b5",
   "metadata": {},
   "source": [
    "# Chapter 8 Coding Set"
   ]
  },
  {
   "cell_type": "markdown",
   "id": "0b90294a",
   "metadata": {},
   "source": [
    "## Algorithim Workbench"
   ]
  },
  {
   "cell_type": "markdown",
   "id": "f7484f9b",
   "metadata": {},
   "source": [
    "## Question 1: Assume choice references a string. The following if statement determines whether choice is equal to 'Y' or 'y':"
   ]
  },
  {
   "cell_type": "code",
   "execution_count": null,
   "id": "d3a97556",
   "metadata": {},
   "outputs": [],
   "source": [
    "if choice == 'Y' or choice == 'y'"
   ]
  },
  {
   "cell_type": "markdown",
   "id": "542d75c0",
   "metadata": {},
   "source": [
    "## Rewrite this statement so it only makes one comparison, and does not use the  operator.(Hint: use either the upper or lower methods.)"
   ]
  },
  {
   "cell_type": "code",
   "execution_count": 4,
   "id": "01b2ccc6",
   "metadata": {},
   "outputs": [
    {
     "name": "stdout",
     "output_type": "stream",
     "text": [
      "y\n",
      "y\n"
     ]
    }
   ],
   "source": [
    "# Get user input for the variable choice\n",
    "choice = input()\n",
    "\n",
    "# Prints the choice variable in lower case\n",
    "print(choice.lower())"
   ]
  },
  {
   "cell_type": "markdown",
   "id": "d6911b9c",
   "metadata": {},
   "source": [
    "# Question 2: Write a loop that counts the number of space characters that appear in the string referenced by mystring."
   ]
  },
  {
   "cell_type": "code",
   "execution_count": 10,
   "id": "d4dbeffe",
   "metadata": {},
   "outputs": [
    {
     "name": "stdout",
     "output_type": "stream",
     "text": [
      "Enter a sentence: I dont want to write this again\n",
      "6\n"
     ]
    }
   ],
   "source": [
    "# Gets user input and set is to the variable mystring\n",
    "mystring = str(input('Enter a sentence: '))\n",
    "\n",
    "# Sets the variable count to 0\n",
    "count = 0\n",
    "\n",
    "# Loop that adds 1 to the variable count when it detects a space\n",
    "for ch in mystring:\n",
    "    if ch.isspace():\n",
    "        count += 1\n",
    "    else:\n",
    "        pass\n",
    "\n",
    "# Displays the amount of spaces in the sentence\n",
    "print(count)\n",
    "    "
   ]
  },
  {
   "cell_type": "markdown",
   "id": "71bd5ca4",
   "metadata": {},
   "source": [
    "# Programing Excerises"
   ]
  },
  {
   "cell_type": "markdown",
   "id": "6ca45f77",
   "metadata": {},
   "source": [
    "## Question 1: Initials"
   ]
  },
  {
   "cell_type": "code",
   "execution_count": null,
   "id": "de914167",
   "metadata": {},
   "outputs": [],
   "source": [
    "# This function gets the users first middle and last name \n",
    "def main():\n",
    "\n",
    "    # Get the users first name\n",
    "    first = str(input('Enter First Name: '))\n",
    "\n",
    "    # Get the users middle name\n",
    "    middle = str(input('Enter Middle Name: '))\n",
    "\n",
    "    # Get the users last name\n",
    "    last = str(input('Enter Last Name: '))\n",
    "\n",
    "    # Sets the variable equal to the first character\n",
    "    str1 = first[0]\n",
    "\n",
    "    # Sets the variable equal to the first character\n",
    "    str2 = middle[0]\n",
    "\n",
    "    # Sets the variable equal to the first character\n",
    "    str3 = last[0]\n",
    "\n",
    "    # Chnages all letters to uppercase and adds them together\n",
    "    # and displays the initials\n",
    "    print((str1.upper()) + ('.') + (str2.upper()) \\\n",
    "          + ('.') + (str3.upper()) + ('.'))\n",
    "    \n",
    "# Calls the main function   \n",
    "if __name__ == '__main__':\n",
    "    main()"
   ]
  },
  {
   "cell_type": "markdown",
   "id": "322eaa23",
   "metadata": {},
   "source": [
    "## Question 2: Sum of Digits in a String"
   ]
  },
  {
   "cell_type": "code",
   "execution_count": 5,
   "id": "332a4cff",
   "metadata": {},
   "outputs": [
    {
     "name": "stdout",
     "output_type": "stream",
     "text": [
      "Enter a series of single-digit numbers with nothing separating them: 1234\n",
      "10\n"
     ]
    }
   ],
   "source": [
    "# This function gets a user input and determines the sum\n",
    "def main(): \n",
    "     \n",
    "    # Get the user input of a series of numbers\n",
    "    numbers = str(input('Enter a series of single-digit\\\n",
    " numbers with nothing separating them: '))\n",
    "    \n",
    "    # Finds the sum of each of the characters in the string numbers\n",
    "    number = sum(int(ch) for ch in numbers)\n",
    "    \n",
    "    # Displays the sum of the user input numbers\n",
    "    print(number)\n",
    "    \n",
    "# Call the main fuction  \n",
    "if __name__ == '__main__':\n",
    "    main()"
   ]
  },
  {
   "cell_type": "markdown",
   "id": "94045bb5",
   "metadata": {},
   "source": [
    "## Question 3: Date Printer"
   ]
  },
  {
   "cell_type": "code",
   "execution_count": 22,
   "id": "388300ac",
   "metadata": {},
   "outputs": [
    {
     "name": "stdout",
     "output_type": "stream",
     "text": [
      "Date(mm/dd/yyyy): 01/10/2003\n",
      "January 10, 2003\n"
     ]
    }
   ],
   "source": [
    "# This function gets a date from the user and converts it to a diferent form\n",
    "def main():\n",
    "    \n",
    "    # Gets a date from the user in a spesific form\n",
    "    date = input('Date(mm/dd/yyyy): ')\n",
    "    \n",
    "    # Sets the variable to the first two chacacters of the user input\n",
    "    month = date[:2]\n",
    "    \n",
    "    # Sets the variable to the middle two characters of the user input\n",
    "    day = date[3:5]\n",
    "    \n",
    "    # Set the variable to the last four characters of the user input\n",
    "    year = date[6:]\n",
    "    \n",
    "    # Creates a list of all the months of the year\n",
    "    months = ['January', 'February','March', 'April', 'May',\n",
    "            'June', 'July', 'August', 'September', 'October', \n",
    "            'November', 'December']\n",
    "    \n",
    "    # Uses the month variable and sets it too an integer and minus one\n",
    "    index = int(month) - 1\n",
    "    \n",
    "    # Determines the month based on the index\n",
    "    selected_month = months[index]\n",
    "        \n",
    "    # Displays the date in the selected format    \n",
    "    print(f'{selected_month} {day}, {year}')\n",
    "\n",
    "# Calls the main function\n",
    "if __name__ == '__main__':\n",
    "    main()"
   ]
  },
  {
   "cell_type": "markdown",
   "id": "e541beac",
   "metadata": {},
   "source": [
    "## Question 4: Morse Code Converter"
   ]
  },
  {
   "cell_type": "code",
   "execution_count": 18,
   "id": "5e14a9e8",
   "metadata": {},
   "outputs": [
    {
     "name": "stdout",
     "output_type": "stream",
     "text": [
      "Enter a string: hello world\n",
      "Morse code translation: .... . .-.. .-.. --- .-- --- .-. .-.. -.. \n"
     ]
    }
   ],
   "source": [
    "# This function uses a csv file with a list of morse code and the corisponding characters\n",
    "# along with a user input and translates the string into morse code.\n",
    "def main():\n",
    "    \n",
    "    # Opens the csv file intitled morse_code.csv\n",
    "    morse_code_csv = open('morse_code.csv', 'r')\n",
    "    \n",
    "    # Reads the csv and sets it to the variable lines\n",
    "    lines = morse_code_csv.readlines()\n",
    "    \n",
    "    # Creates a dictionary for the morse code\n",
    "    morse_dict = {}\n",
    "    \n",
    "    # Loop that cleans up the data and set the values to the variables then \n",
    "    # puts them into the dictionary\n",
    "    for line in lines:\n",
    "        parts = line.strip().split(',')\n",
    "        character = parts[0]\n",
    "        morse_code = parts[1]\n",
    "        morse_dict[character] = morse_code\n",
    "        \n",
    "    # Get user input to translate into morse    \n",
    "    user_input = input(\"Enter a string: \")\n",
    "    \n",
    "    # Changes the user input into uppercase\n",
    "    user_input = user_input.upper()\n",
    "\n",
    "    # Uses the dictionary to set the variable \n",
    "    morse_code_translation = \"\"\n",
    "    for char in user_input:\n",
    "        if char in morse_dict:\n",
    "            morse_code_translation += morse_dict[char] + \" \"\n",
    "\n",
    "    # Displays the translation \n",
    "    print(f\"Morse code translation: {morse_code_translation}\")\n",
    "\n",
    "    # Closes the csv file\n",
    "    morse_code_csv.close()\n",
    " \n",
    "# Calls the main function \n",
    "if __name__ == '__main__':\n",
    "    main()"
   ]
  },
  {
   "cell_type": "code",
   "execution_count": null,
   "id": "03a5b1da",
   "metadata": {},
   "outputs": [],
   "source": []
  }
 ],
 "metadata": {
  "kernelspec": {
   "display_name": "Python 3 (ipykernel)",
   "language": "python",
   "name": "python3"
  },
  "language_info": {
   "codemirror_mode": {
    "name": "ipython",
    "version": 3
   },
   "file_extension": ".py",
   "mimetype": "text/x-python",
   "name": "python",
   "nbconvert_exporter": "python",
   "pygments_lexer": "ipython3",
   "version": "3.11.4"
  }
 },
 "nbformat": 4,
 "nbformat_minor": 5
}
