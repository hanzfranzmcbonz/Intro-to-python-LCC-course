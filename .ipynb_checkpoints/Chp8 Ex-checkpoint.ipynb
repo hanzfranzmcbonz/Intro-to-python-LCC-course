{
 "cells": [
  {
   "cell_type": "markdown",
   "id": "d2f4ae26",
   "metadata": {},
   "source": [
    "# Chapter 8 Coding Set"
   ]
  },
  {
   "cell_type": "markdown",
   "id": "0d6637d8",
   "metadata": {},
   "source": [
    "## Algorithim Workbench"
   ]
  },
  {
   "cell_type": "markdown",
   "id": "554b4ce5",
   "metadata": {},
   "source": [
    "## Question 1: Assume choice references a string. The following if statement determines whether choice is equal to 'Y' or 'y':"
   ]
  },
  {
   "cell_type": "code",
   "execution_count": null,
   "id": "038049ed",
   "metadata": {},
   "outputs": [],
   "source": [
    "if choice == 'Y' or choice == 'y'"
   ]
  },
  {
   "cell_type": "markdown",
   "id": "8fcd66b1",
   "metadata": {},
   "source": [
    "## Rewrite this statement so it only makes one comparison, and does not use the  operator.(Hint: use either the upper or lower methods.)"
   ]
  },
  {
   "cell_type": "code",
   "execution_count": 4,
   "id": "30fc0a3e",
   "metadata": {},
   "outputs": [
    {
     "name": "stdout",
     "output_type": "stream",
     "text": [
      "y\n",
      "y\n"
     ]
    }
   ],
   "source": [
    "# Get user input for the variable choice\n",
    "choice = input()\n",
    "\n",
    "# Prints the choice variable in lower case\n",
    "print(choice.lower())"
   ]
  },
  {
   "cell_type": "markdown",
   "id": "bf995979",
   "metadata": {},
   "source": [
    "# Question 2: Write a loop that counts the number of space characters that appear in the string referenced by mystring."
   ]
  },
  {
   "cell_type": "code",
   "execution_count": 10,
   "id": "85320ddd",
   "metadata": {},
   "outputs": [
    {
     "name": "stdout",
     "output_type": "stream",
     "text": [
      "Enter a sentence: I dont want to write this again\n",
      "6\n"
     ]
    }
   ],
   "source": [
    "mystring = str(input('Enter a sentence: '))\n",
    "\n",
    "count = 0\n",
    "\n",
    "for ch in mystring:\n",
    "    if ch.isspace():\n",
    "        count += 1\n",
    "    else:\n",
    "        pass\n",
    "        \n",
    "print(count)\n",
    "    "
   ]
  },
  {
   "cell_type": "markdown",
   "id": "21ac2a73",
   "metadata": {},
   "source": [
    "# Programing Excerises"
   ]
  },
  {
   "cell_type": "markdown",
   "id": "ca612acb",
   "metadata": {},
   "source": [
    "## Question 1: Initials"
   ]
  },
  {
   "cell_type": "code",
   "execution_count": 2,
   "id": "a6ea1933",
   "metadata": {},
   "outputs": [
    {
     "name": "stdout",
     "output_type": "stream",
     "text": [
      "Enter First Name: dillon\n",
      "Enter Middle Name: john\n",
      "Enter Last Name: blair\n",
      "D.J.B.\n"
     ]
    }
   ],
   "source": [
    "def main():\n",
    "\n",
    "    first = str(input('Enter First Name: '))\n",
    "\n",
    "    middle = str(input('Enter Middle Name: '))\n",
    "\n",
    "    last = str(input('Enter Last Name: '))\n",
    "\n",
    "    str1 = first[0]\n",
    "\n",
    "    str2 = middle[0]\n",
    "\n",
    "    str3 = last[0]\n",
    "\n",
    "    print((str1.upper()) + ('.') + (str2.upper()) + ('.') + (str3.upper()) + ('.'))\n",
    "    \n",
    "if __name__ == '__main__':\n",
    "    main()"
   ]
  },
  {
   "cell_type": "code",
   "execution_count": null,
   "id": "c9922c15",
   "metadata": {},
   "outputs": [],
   "source": []
  }
 ],
 "metadata": {
  "kernelspec": {
   "display_name": "Python 3 (ipykernel)",
   "language": "python",
   "name": "python3"
  },
  "language_info": {
   "codemirror_mode": {
    "name": "ipython",
    "version": 3
   },
   "file_extension": ".py",
   "mimetype": "text/x-python",
   "name": "python",
   "nbconvert_exporter": "python",
   "pygments_lexer": "ipython3",
   "version": "3.11.4"
  }
 },
 "nbformat": 4,
 "nbformat_minor": 5
}
